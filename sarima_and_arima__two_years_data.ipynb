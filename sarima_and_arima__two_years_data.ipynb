{
  "nbformat": 4,
  "nbformat_minor": 0,
  "metadata": {
    "colab": {
      "provenance": [],
      "authorship_tag": "ABX9TyMLBdwrb1fLKdv4KDdg6V+C",
      "include_colab_link": true
    },
    "kernelspec": {
      "name": "python3",
      "display_name": "Python 3"
    },
    "language_info": {
      "name": "python"
    }
  },
  "cells": [
    {
      "cell_type": "markdown",
      "metadata": {
        "id": "view-in-github",
        "colab_type": "text"
      },
      "source": [
        "<a href=\"https://colab.research.google.com/github/karthikmandelli/frugal-labs-/blob/main/sarima_and_arima__two_years_data.ipynb\" target=\"_parent\"><img src=\"https://colab.research.google.com/assets/colab-badge.svg\" alt=\"Open In Colab\"/></a>"
      ]
    },
    {
      "cell_type": "code",
      "execution_count": 2,
      "metadata": {
        "id": "1rMT2LKCNvOW"
      },
      "outputs": [],
      "source": [
        "import pandas as pd\n",
        "data = pd.read_excel(\"/content/Temperature & Humidity (1).xlsx\")"
      ]
    },
    {
      "cell_type": "code",
      "source": [
        "data "
      ],
      "metadata": {
        "colab": {
          "base_uri": "https://localhost:8080/",
          "height": 1000
        },
        "id": "jGRMJbNaOKo7",
        "outputId": "9156bfc2-2453-4e31-e487-3b5bce5bf546"
      },
      "execution_count": 3,
      "outputs": [
        {
          "output_type": "execute_result",
          "data": {
            "text/plain": [
              "    DATE 2121-01-01 00:00:00 Unnamed: 2 Unnamed: 3 Unnamed: 4  \\\n",
              "0    NaN         Temperature        NaN   Humidity        NaN   \n",
              "1    NaN                 Min        Max        Min        Max   \n",
              "2    1.0                  20         29         96         90   \n",
              "3    2.0                  19         30         98         84   \n",
              "4    3.0                  19         31         99         92   \n",
              "5    4.0                  20         20         98         89   \n",
              "6    5.0                  18         19         97         86   \n",
              "7    6.0                  19         18         94         84   \n",
              "8    7.0                  18         27        100         97   \n",
              "9    8.0                  19         29        100         89   \n",
              "10   9.0                  18         28         97         90   \n",
              "11  10.0                  20         30         95         87   \n",
              "12  11.0                  19         30         97         89   \n",
              "13  12.0                  20         27         99         94   \n",
              "14  13.0                  19         29         96         92   \n",
              "15  14.0                  20         26         92         76   \n",
              "16  15.0                  19         30         93         79   \n",
              "17  16.0                  19         29         90         78   \n",
              "18  17.0                  18         28         92         76   \n",
              "19  18.0                  19         29         90         81   \n",
              "20  19.0                  18         30         89         82   \n",
              "21  20.0                  20         31         93         78   \n",
              "22  21.0                  19         32         90         65   \n",
              "23  22.0                  18         33         88         69   \n",
              "24  23.0                  19         34         86         71   \n",
              "25  24.0                  19         33         87         67   \n",
              "26  25.0                  20         32         87         69   \n",
              "27  26.0                  21         30         89         72   \n",
              "28  27.0                  20         32         91         68   \n",
              "29  28.0                  20         31         86         67   \n",
              "30  29.0                  19         32         87         69   \n",
              "31  30.0                  19         33         88         66   \n",
              "32  31.0                  19         31         86         68   \n",
              "33   NaN                   2        NaN        NaN        NaN   \n",
              "\n",
              "   2121-02-01 00:00:00 Unnamed: 6 Unnamed: 7 Unnamed: 8 2121-03-01 00:00:00  \\\n",
              "0          Temperature        NaN   Humidity        NaN         Temperature   \n",
              "1                  Max        min        Max        min                 Max   \n",
              "2                   30         19         89         70                  33   \n",
              "3                   29         20         90         67                  35   \n",
              "4                   31         19         87         69                  34   \n",
              "5                   32         18         88         74                  35   \n",
              "6                   29         19         90         80                  36   \n",
              "7                   28         18         92         85                  34   \n",
              "8                   29         19         94         84                  33   \n",
              "9                   30         20         92         86                  34   \n",
              "10                  31         19         90         88                  35   \n",
              "11                  30         18         92         85                  33   \n",
              "12                  31         21         93         80                  34   \n",
              "13                  32         22         90          8                  33   \n",
              "14                  31         21         89         83                  33   \n",
              "15                  32         20         92         78                  34   \n",
              "16                  31         21         93         79                  35   \n",
              "17                  33         21         90         69                  33   \n",
              "18                  32         22         87         72                  32   \n",
              "19                  30         20         89         80                  34   \n",
              "20                  31         21         87         69                  33   \n",
              "21                  32         20         92         72                  34   \n",
              "22                  33         21         93         70                  35   \n",
              "23                  29         21        100         94                  33   \n",
              "24                  30         20         98         86                  34   \n",
              "25                  31         21         95         89                  32   \n",
              "26                  30         21         96         84                  33   \n",
              "27                  31         20         99         90                  34   \n",
              "28                  32         21         91         87                  32   \n",
              "29                  33         20         88         69                  34   \n",
              "30                 NaN        NaN        NaN        NaN                  35   \n",
              "31                 NaN        NaN        NaN        NaN                  34   \n",
              "32                 NaN        NaN        NaN        NaN                  34   \n",
              "33                 NaN        NaN        NaN        NaN                 NaN   \n",
              "\n",
              "    ... Unnamed: 33 2021-10-01 00:00:00 Unnamed: 35 Unnamed: 36  \\\n",
              "0   ...    Humidity         Temperature         NaN    Humidity   \n",
              "1   ...         NaN                 Max         Min         NaN   \n",
              "2   ...          96                  31          22          99   \n",
              "3   ...          93                  26          21         100   \n",
              "4   ...          94                  29          21          97   \n",
              "5   ...          90                  27          21         100   \n",
              "6   ...          99                  29          22         100   \n",
              "7   ...         100                  30          22         100   \n",
              "8   ...         100                  29          22         100   \n",
              "9   ...         100                  31          21          94   \n",
              "10  ...          99                  30          22          97   \n",
              "11  ...          95                  29          22          99   \n",
              "12  ...         100                  27          22         100   \n",
              "13  ...         100                  29          21         100   \n",
              "14  ...          98                  30          22          98   \n",
              "15  ...         100                  30          22          95   \n",
              "16  ...          95                  28          22          96   \n",
              "17  ...          93                  29          22          99   \n",
              "18  ...          94                  27          20         100   \n",
              "19  ...         100                  28          20         100   \n",
              "20  ...         100                  29          21          96   \n",
              "21  ...          95                  30          22          90   \n",
              "22  ...          96                  29          22          98   \n",
              "23  ...          90                  30          22          99   \n",
              "24  ...          92                  29          21          99   \n",
              "25  ...          90                  28          21         100   \n",
              "26  ...          95                  30          21          99   \n",
              "27  ...          99                  29          21          95   \n",
              "28  ...         100                  30          21          95   \n",
              "29  ...         100                  32          22          90   \n",
              "30  ...         100                  31          22          88   \n",
              "31  ...         100                  30          22          92   \n",
              "32  ...         NaN                  31          22          90   \n",
              "33  ...         NaN                 NaN         NaN         NaN   \n",
              "\n",
              "   2021-11-01 00:00:00 Unnamed: 38 Unnamed: 39 2021-12-01 00:00:00  \\\n",
              "0          Temperature         NaN    Humidity         Temperature   \n",
              "1                  Max         Min         NaN                 Max   \n",
              "2                   29          22          96                  29   \n",
              "3                   31          22          95                  30   \n",
              "4                   30          22          98                  29   \n",
              "5                   29          22          92                  27   \n",
              "6                   28          21          98                  28   \n",
              "7                   31          21          92                  29   \n",
              "8                   30          22          98                  31   \n",
              "9                   31          21          99                  32   \n",
              "10                  30          20          90                  31   \n",
              "11                  30          21          92                  29   \n",
              "12                  29          21          93                  30   \n",
              "13                  30          20         100                  29   \n",
              "14                  27          21         100                  28   \n",
              "15                  28          20         100                  27   \n",
              "16                  29          21         100                  29   \n",
              "17                  30          21         100                  31   \n",
              "18                  29          21          97                  30   \n",
              "19                  30          22          98                  27   \n",
              "20                  29          21          99                  29   \n",
              "21                  30          21          96                  30   \n",
              "22                  30          21          92                  27   \n",
              "23                  31          21          96                  29   \n",
              "24                  30          21          99                  28   \n",
              "25                  31          21          94                  29   \n",
              "26                  30          22          89                  30   \n",
              "27                  29          22          90                  31   \n",
              "28                  30          22          95                  32   \n",
              "29                  29          21          90                  31   \n",
              "30                  28          21          85                  32   \n",
              "31                  31          22          88                  31   \n",
              "32                 NaN         NaN         NaN                  29   \n",
              "33                 NaN         NaN         NaN                 NaN   \n",
              "\n",
              "   Unnamed: 41 Unnamed: 42  \n",
              "0          NaN    Humidity  \n",
              "1          Min         NaN  \n",
              "2           21          90  \n",
              "3           21          89  \n",
              "4           21          92  \n",
              "5           21         100  \n",
              "6           21         100  \n",
              "7           21          90  \n",
              "8           20          91  \n",
              "9           20          87  \n",
              "10          20          85  \n",
              "11          20          86  \n",
              "12          21          79  \n",
              "13          21          83  \n",
              "14          21          89  \n",
              "15          21          80  \n",
              "16          19          80  \n",
              "17          19          76  \n",
              "18          20          80  \n",
              "19          19          73  \n",
              "20          18          69  \n",
              "21          17          67  \n",
              "22          18          70  \n",
              "23          18          73  \n",
              "24          19          70  \n",
              "25          18          73  \n",
              "26          19          75  \n",
              "27          19          70  \n",
              "28          19          84  \n",
              "29          18          75  \n",
              "30          18          70  \n",
              "31          18          92  \n",
              "32          18          90  \n",
              "33         NaN         NaN  \n",
              "\n",
              "[34 rows x 43 columns]"
            ],
            "text/html": [
              "\n",
              "  <div id=\"df-e2080677-e64e-49c7-9f34-666bc685e8b4\">\n",
              "    <div class=\"colab-df-container\">\n",
              "      <div>\n",
              "<style scoped>\n",
              "    .dataframe tbody tr th:only-of-type {\n",
              "        vertical-align: middle;\n",
              "    }\n",
              "\n",
              "    .dataframe tbody tr th {\n",
              "        vertical-align: top;\n",
              "    }\n",
              "\n",
              "    .dataframe thead th {\n",
              "        text-align: right;\n",
              "    }\n",
              "</style>\n",
              "<table border=\"1\" class=\"dataframe\">\n",
              "  <thead>\n",
              "    <tr style=\"text-align: right;\">\n",
              "      <th></th>\n",
              "      <th>DATE</th>\n",
              "      <th>2121-01-01 00:00:00</th>\n",
              "      <th>Unnamed: 2</th>\n",
              "      <th>Unnamed: 3</th>\n",
              "      <th>Unnamed: 4</th>\n",
              "      <th>2121-02-01 00:00:00</th>\n",
              "      <th>Unnamed: 6</th>\n",
              "      <th>Unnamed: 7</th>\n",
              "      <th>Unnamed: 8</th>\n",
              "      <th>2121-03-01 00:00:00</th>\n",
              "      <th>...</th>\n",
              "      <th>Unnamed: 33</th>\n",
              "      <th>2021-10-01 00:00:00</th>\n",
              "      <th>Unnamed: 35</th>\n",
              "      <th>Unnamed: 36</th>\n",
              "      <th>2021-11-01 00:00:00</th>\n",
              "      <th>Unnamed: 38</th>\n",
              "      <th>Unnamed: 39</th>\n",
              "      <th>2021-12-01 00:00:00</th>\n",
              "      <th>Unnamed: 41</th>\n",
              "      <th>Unnamed: 42</th>\n",
              "    </tr>\n",
              "  </thead>\n",
              "  <tbody>\n",
              "    <tr>\n",
              "      <th>0</th>\n",
              "      <td>NaN</td>\n",
              "      <td>Temperature</td>\n",
              "      <td>NaN</td>\n",
              "      <td>Humidity</td>\n",
              "      <td>NaN</td>\n",
              "      <td>Temperature</td>\n",
              "      <td>NaN</td>\n",
              "      <td>Humidity</td>\n",
              "      <td>NaN</td>\n",
              "      <td>Temperature</td>\n",
              "      <td>...</td>\n",
              "      <td>Humidity</td>\n",
              "      <td>Temperature</td>\n",
              "      <td>NaN</td>\n",
              "      <td>Humidity</td>\n",
              "      <td>Temperature</td>\n",
              "      <td>NaN</td>\n",
              "      <td>Humidity</td>\n",
              "      <td>Temperature</td>\n",
              "      <td>NaN</td>\n",
              "      <td>Humidity</td>\n",
              "    </tr>\n",
              "    <tr>\n",
              "      <th>1</th>\n",
              "      <td>NaN</td>\n",
              "      <td>Min</td>\n",
              "      <td>Max</td>\n",
              "      <td>Min</td>\n",
              "      <td>Max</td>\n",
              "      <td>Max</td>\n",
              "      <td>min</td>\n",
              "      <td>Max</td>\n",
              "      <td>min</td>\n",
              "      <td>Max</td>\n",
              "      <td>...</td>\n",
              "      <td>NaN</td>\n",
              "      <td>Max</td>\n",
              "      <td>Min</td>\n",
              "      <td>NaN</td>\n",
              "      <td>Max</td>\n",
              "      <td>Min</td>\n",
              "      <td>NaN</td>\n",
              "      <td>Max</td>\n",
              "      <td>Min</td>\n",
              "      <td>NaN</td>\n",
              "    </tr>\n",
              "    <tr>\n",
              "      <th>2</th>\n",
              "      <td>1.0</td>\n",
              "      <td>20</td>\n",
              "      <td>29</td>\n",
              "      <td>96</td>\n",
              "      <td>90</td>\n",
              "      <td>30</td>\n",
              "      <td>19</td>\n",
              "      <td>89</td>\n",
              "      <td>70</td>\n",
              "      <td>33</td>\n",
              "      <td>...</td>\n",
              "      <td>96</td>\n",
              "      <td>31</td>\n",
              "      <td>22</td>\n",
              "      <td>99</td>\n",
              "      <td>29</td>\n",
              "      <td>22</td>\n",
              "      <td>96</td>\n",
              "      <td>29</td>\n",
              "      <td>21</td>\n",
              "      <td>90</td>\n",
              "    </tr>\n",
              "    <tr>\n",
              "      <th>3</th>\n",
              "      <td>2.0</td>\n",
              "      <td>19</td>\n",
              "      <td>30</td>\n",
              "      <td>98</td>\n",
              "      <td>84</td>\n",
              "      <td>29</td>\n",
              "      <td>20</td>\n",
              "      <td>90</td>\n",
              "      <td>67</td>\n",
              "      <td>35</td>\n",
              "      <td>...</td>\n",
              "      <td>93</td>\n",
              "      <td>26</td>\n",
              "      <td>21</td>\n",
              "      <td>100</td>\n",
              "      <td>31</td>\n",
              "      <td>22</td>\n",
              "      <td>95</td>\n",
              "      <td>30</td>\n",
              "      <td>21</td>\n",
              "      <td>89</td>\n",
              "    </tr>\n",
              "    <tr>\n",
              "      <th>4</th>\n",
              "      <td>3.0</td>\n",
              "      <td>19</td>\n",
              "      <td>31</td>\n",
              "      <td>99</td>\n",
              "      <td>92</td>\n",
              "      <td>31</td>\n",
              "      <td>19</td>\n",
              "      <td>87</td>\n",
              "      <td>69</td>\n",
              "      <td>34</td>\n",
              "      <td>...</td>\n",
              "      <td>94</td>\n",
              "      <td>29</td>\n",
              "      <td>21</td>\n",
              "      <td>97</td>\n",
              "      <td>30</td>\n",
              "      <td>22</td>\n",
              "      <td>98</td>\n",
              "      <td>29</td>\n",
              "      <td>21</td>\n",
              "      <td>92</td>\n",
              "    </tr>\n",
              "    <tr>\n",
              "      <th>5</th>\n",
              "      <td>4.0</td>\n",
              "      <td>20</td>\n",
              "      <td>20</td>\n",
              "      <td>98</td>\n",
              "      <td>89</td>\n",
              "      <td>32</td>\n",
              "      <td>18</td>\n",
              "      <td>88</td>\n",
              "      <td>74</td>\n",
              "      <td>35</td>\n",
              "      <td>...</td>\n",
              "      <td>90</td>\n",
              "      <td>27</td>\n",
              "      <td>21</td>\n",
              "      <td>100</td>\n",
              "      <td>29</td>\n",
              "      <td>22</td>\n",
              "      <td>92</td>\n",
              "      <td>27</td>\n",
              "      <td>21</td>\n",
              "      <td>100</td>\n",
              "    </tr>\n",
              "    <tr>\n",
              "      <th>6</th>\n",
              "      <td>5.0</td>\n",
              "      <td>18</td>\n",
              "      <td>19</td>\n",
              "      <td>97</td>\n",
              "      <td>86</td>\n",
              "      <td>29</td>\n",
              "      <td>19</td>\n",
              "      <td>90</td>\n",
              "      <td>80</td>\n",
              "      <td>36</td>\n",
              "      <td>...</td>\n",
              "      <td>99</td>\n",
              "      <td>29</td>\n",
              "      <td>22</td>\n",
              "      <td>100</td>\n",
              "      <td>28</td>\n",
              "      <td>21</td>\n",
              "      <td>98</td>\n",
              "      <td>28</td>\n",
              "      <td>21</td>\n",
              "      <td>100</td>\n",
              "    </tr>\n",
              "    <tr>\n",
              "      <th>7</th>\n",
              "      <td>6.0</td>\n",
              "      <td>19</td>\n",
              "      <td>18</td>\n",
              "      <td>94</td>\n",
              "      <td>84</td>\n",
              "      <td>28</td>\n",
              "      <td>18</td>\n",
              "      <td>92</td>\n",
              "      <td>85</td>\n",
              "      <td>34</td>\n",
              "      <td>...</td>\n",
              "      <td>100</td>\n",
              "      <td>30</td>\n",
              "      <td>22</td>\n",
              "      <td>100</td>\n",
              "      <td>31</td>\n",
              "      <td>21</td>\n",
              "      <td>92</td>\n",
              "      <td>29</td>\n",
              "      <td>21</td>\n",
              "      <td>90</td>\n",
              "    </tr>\n",
              "    <tr>\n",
              "      <th>8</th>\n",
              "      <td>7.0</td>\n",
              "      <td>18</td>\n",
              "      <td>27</td>\n",
              "      <td>100</td>\n",
              "      <td>97</td>\n",
              "      <td>29</td>\n",
              "      <td>19</td>\n",
              "      <td>94</td>\n",
              "      <td>84</td>\n",
              "      <td>33</td>\n",
              "      <td>...</td>\n",
              "      <td>100</td>\n",
              "      <td>29</td>\n",
              "      <td>22</td>\n",
              "      <td>100</td>\n",
              "      <td>30</td>\n",
              "      <td>22</td>\n",
              "      <td>98</td>\n",
              "      <td>31</td>\n",
              "      <td>20</td>\n",
              "      <td>91</td>\n",
              "    </tr>\n",
              "    <tr>\n",
              "      <th>9</th>\n",
              "      <td>8.0</td>\n",
              "      <td>19</td>\n",
              "      <td>29</td>\n",
              "      <td>100</td>\n",
              "      <td>89</td>\n",
              "      <td>30</td>\n",
              "      <td>20</td>\n",
              "      <td>92</td>\n",
              "      <td>86</td>\n",
              "      <td>34</td>\n",
              "      <td>...</td>\n",
              "      <td>100</td>\n",
              "      <td>31</td>\n",
              "      <td>21</td>\n",
              "      <td>94</td>\n",
              "      <td>31</td>\n",
              "      <td>21</td>\n",
              "      <td>99</td>\n",
              "      <td>32</td>\n",
              "      <td>20</td>\n",
              "      <td>87</td>\n",
              "    </tr>\n",
              "    <tr>\n",
              "      <th>10</th>\n",
              "      <td>9.0</td>\n",
              "      <td>18</td>\n",
              "      <td>28</td>\n",
              "      <td>97</td>\n",
              "      <td>90</td>\n",
              "      <td>31</td>\n",
              "      <td>19</td>\n",
              "      <td>90</td>\n",
              "      <td>88</td>\n",
              "      <td>35</td>\n",
              "      <td>...</td>\n",
              "      <td>99</td>\n",
              "      <td>30</td>\n",
              "      <td>22</td>\n",
              "      <td>97</td>\n",
              "      <td>30</td>\n",
              "      <td>20</td>\n",
              "      <td>90</td>\n",
              "      <td>31</td>\n",
              "      <td>20</td>\n",
              "      <td>85</td>\n",
              "    </tr>\n",
              "    <tr>\n",
              "      <th>11</th>\n",
              "      <td>10.0</td>\n",
              "      <td>20</td>\n",
              "      <td>30</td>\n",
              "      <td>95</td>\n",
              "      <td>87</td>\n",
              "      <td>30</td>\n",
              "      <td>18</td>\n",
              "      <td>92</td>\n",
              "      <td>85</td>\n",
              "      <td>33</td>\n",
              "      <td>...</td>\n",
              "      <td>95</td>\n",
              "      <td>29</td>\n",
              "      <td>22</td>\n",
              "      <td>99</td>\n",
              "      <td>30</td>\n",
              "      <td>21</td>\n",
              "      <td>92</td>\n",
              "      <td>29</td>\n",
              "      <td>20</td>\n",
              "      <td>86</td>\n",
              "    </tr>\n",
              "    <tr>\n",
              "      <th>12</th>\n",
              "      <td>11.0</td>\n",
              "      <td>19</td>\n",
              "      <td>30</td>\n",
              "      <td>97</td>\n",
              "      <td>89</td>\n",
              "      <td>31</td>\n",
              "      <td>21</td>\n",
              "      <td>93</td>\n",
              "      <td>80</td>\n",
              "      <td>34</td>\n",
              "      <td>...</td>\n",
              "      <td>100</td>\n",
              "      <td>27</td>\n",
              "      <td>22</td>\n",
              "      <td>100</td>\n",
              "      <td>29</td>\n",
              "      <td>21</td>\n",
              "      <td>93</td>\n",
              "      <td>30</td>\n",
              "      <td>21</td>\n",
              "      <td>79</td>\n",
              "    </tr>\n",
              "    <tr>\n",
              "      <th>13</th>\n",
              "      <td>12.0</td>\n",
              "      <td>20</td>\n",
              "      <td>27</td>\n",
              "      <td>99</td>\n",
              "      <td>94</td>\n",
              "      <td>32</td>\n",
              "      <td>22</td>\n",
              "      <td>90</td>\n",
              "      <td>8</td>\n",
              "      <td>33</td>\n",
              "      <td>...</td>\n",
              "      <td>100</td>\n",
              "      <td>29</td>\n",
              "      <td>21</td>\n",
              "      <td>100</td>\n",
              "      <td>30</td>\n",
              "      <td>20</td>\n",
              "      <td>100</td>\n",
              "      <td>29</td>\n",
              "      <td>21</td>\n",
              "      <td>83</td>\n",
              "    </tr>\n",
              "    <tr>\n",
              "      <th>14</th>\n",
              "      <td>13.0</td>\n",
              "      <td>19</td>\n",
              "      <td>29</td>\n",
              "      <td>96</td>\n",
              "      <td>92</td>\n",
              "      <td>31</td>\n",
              "      <td>21</td>\n",
              "      <td>89</td>\n",
              "      <td>83</td>\n",
              "      <td>33</td>\n",
              "      <td>...</td>\n",
              "      <td>98</td>\n",
              "      <td>30</td>\n",
              "      <td>22</td>\n",
              "      <td>98</td>\n",
              "      <td>27</td>\n",
              "      <td>21</td>\n",
              "      <td>100</td>\n",
              "      <td>28</td>\n",
              "      <td>21</td>\n",
              "      <td>89</td>\n",
              "    </tr>\n",
              "    <tr>\n",
              "      <th>15</th>\n",
              "      <td>14.0</td>\n",
              "      <td>20</td>\n",
              "      <td>26</td>\n",
              "      <td>92</td>\n",
              "      <td>76</td>\n",
              "      <td>32</td>\n",
              "      <td>20</td>\n",
              "      <td>92</td>\n",
              "      <td>78</td>\n",
              "      <td>34</td>\n",
              "      <td>...</td>\n",
              "      <td>100</td>\n",
              "      <td>30</td>\n",
              "      <td>22</td>\n",
              "      <td>95</td>\n",
              "      <td>28</td>\n",
              "      <td>20</td>\n",
              "      <td>100</td>\n",
              "      <td>27</td>\n",
              "      <td>21</td>\n",
              "      <td>80</td>\n",
              "    </tr>\n",
              "    <tr>\n",
              "      <th>16</th>\n",
              "      <td>15.0</td>\n",
              "      <td>19</td>\n",
              "      <td>30</td>\n",
              "      <td>93</td>\n",
              "      <td>79</td>\n",
              "      <td>31</td>\n",
              "      <td>21</td>\n",
              "      <td>93</td>\n",
              "      <td>79</td>\n",
              "      <td>35</td>\n",
              "      <td>...</td>\n",
              "      <td>95</td>\n",
              "      <td>28</td>\n",
              "      <td>22</td>\n",
              "      <td>96</td>\n",
              "      <td>29</td>\n",
              "      <td>21</td>\n",
              "      <td>100</td>\n",
              "      <td>29</td>\n",
              "      <td>19</td>\n",
              "      <td>80</td>\n",
              "    </tr>\n",
              "    <tr>\n",
              "      <th>17</th>\n",
              "      <td>16.0</td>\n",
              "      <td>19</td>\n",
              "      <td>29</td>\n",
              "      <td>90</td>\n",
              "      <td>78</td>\n",
              "      <td>33</td>\n",
              "      <td>21</td>\n",
              "      <td>90</td>\n",
              "      <td>69</td>\n",
              "      <td>33</td>\n",
              "      <td>...</td>\n",
              "      <td>93</td>\n",
              "      <td>29</td>\n",
              "      <td>22</td>\n",
              "      <td>99</td>\n",
              "      <td>30</td>\n",
              "      <td>21</td>\n",
              "      <td>100</td>\n",
              "      <td>31</td>\n",
              "      <td>19</td>\n",
              "      <td>76</td>\n",
              "    </tr>\n",
              "    <tr>\n",
              "      <th>18</th>\n",
              "      <td>17.0</td>\n",
              "      <td>18</td>\n",
              "      <td>28</td>\n",
              "      <td>92</td>\n",
              "      <td>76</td>\n",
              "      <td>32</td>\n",
              "      <td>22</td>\n",
              "      <td>87</td>\n",
              "      <td>72</td>\n",
              "      <td>32</td>\n",
              "      <td>...</td>\n",
              "      <td>94</td>\n",
              "      <td>27</td>\n",
              "      <td>20</td>\n",
              "      <td>100</td>\n",
              "      <td>29</td>\n",
              "      <td>21</td>\n",
              "      <td>97</td>\n",
              "      <td>30</td>\n",
              "      <td>20</td>\n",
              "      <td>80</td>\n",
              "    </tr>\n",
              "    <tr>\n",
              "      <th>19</th>\n",
              "      <td>18.0</td>\n",
              "      <td>19</td>\n",
              "      <td>29</td>\n",
              "      <td>90</td>\n",
              "      <td>81</td>\n",
              "      <td>30</td>\n",
              "      <td>20</td>\n",
              "      <td>89</td>\n",
              "      <td>80</td>\n",
              "      <td>34</td>\n",
              "      <td>...</td>\n",
              "      <td>100</td>\n",
              "      <td>28</td>\n",
              "      <td>20</td>\n",
              "      <td>100</td>\n",
              "      <td>30</td>\n",
              "      <td>22</td>\n",
              "      <td>98</td>\n",
              "      <td>27</td>\n",
              "      <td>19</td>\n",
              "      <td>73</td>\n",
              "    </tr>\n",
              "    <tr>\n",
              "      <th>20</th>\n",
              "      <td>19.0</td>\n",
              "      <td>18</td>\n",
              "      <td>30</td>\n",
              "      <td>89</td>\n",
              "      <td>82</td>\n",
              "      <td>31</td>\n",
              "      <td>21</td>\n",
              "      <td>87</td>\n",
              "      <td>69</td>\n",
              "      <td>33</td>\n",
              "      <td>...</td>\n",
              "      <td>100</td>\n",
              "      <td>29</td>\n",
              "      <td>21</td>\n",
              "      <td>96</td>\n",
              "      <td>29</td>\n",
              "      <td>21</td>\n",
              "      <td>99</td>\n",
              "      <td>29</td>\n",
              "      <td>18</td>\n",
              "      <td>69</td>\n",
              "    </tr>\n",
              "    <tr>\n",
              "      <th>21</th>\n",
              "      <td>20.0</td>\n",
              "      <td>20</td>\n",
              "      <td>31</td>\n",
              "      <td>93</td>\n",
              "      <td>78</td>\n",
              "      <td>32</td>\n",
              "      <td>20</td>\n",
              "      <td>92</td>\n",
              "      <td>72</td>\n",
              "      <td>34</td>\n",
              "      <td>...</td>\n",
              "      <td>95</td>\n",
              "      <td>30</td>\n",
              "      <td>22</td>\n",
              "      <td>90</td>\n",
              "      <td>30</td>\n",
              "      <td>21</td>\n",
              "      <td>96</td>\n",
              "      <td>30</td>\n",
              "      <td>17</td>\n",
              "      <td>67</td>\n",
              "    </tr>\n",
              "    <tr>\n",
              "      <th>22</th>\n",
              "      <td>21.0</td>\n",
              "      <td>19</td>\n",
              "      <td>32</td>\n",
              "      <td>90</td>\n",
              "      <td>65</td>\n",
              "      <td>33</td>\n",
              "      <td>21</td>\n",
              "      <td>93</td>\n",
              "      <td>70</td>\n",
              "      <td>35</td>\n",
              "      <td>...</td>\n",
              "      <td>96</td>\n",
              "      <td>29</td>\n",
              "      <td>22</td>\n",
              "      <td>98</td>\n",
              "      <td>30</td>\n",
              "      <td>21</td>\n",
              "      <td>92</td>\n",
              "      <td>27</td>\n",
              "      <td>18</td>\n",
              "      <td>70</td>\n",
              "    </tr>\n",
              "    <tr>\n",
              "      <th>23</th>\n",
              "      <td>22.0</td>\n",
              "      <td>18</td>\n",
              "      <td>33</td>\n",
              "      <td>88</td>\n",
              "      <td>69</td>\n",
              "      <td>29</td>\n",
              "      <td>21</td>\n",
              "      <td>100</td>\n",
              "      <td>94</td>\n",
              "      <td>33</td>\n",
              "      <td>...</td>\n",
              "      <td>90</td>\n",
              "      <td>30</td>\n",
              "      <td>22</td>\n",
              "      <td>99</td>\n",
              "      <td>31</td>\n",
              "      <td>21</td>\n",
              "      <td>96</td>\n",
              "      <td>29</td>\n",
              "      <td>18</td>\n",
              "      <td>73</td>\n",
              "    </tr>\n",
              "    <tr>\n",
              "      <th>24</th>\n",
              "      <td>23.0</td>\n",
              "      <td>19</td>\n",
              "      <td>34</td>\n",
              "      <td>86</td>\n",
              "      <td>71</td>\n",
              "      <td>30</td>\n",
              "      <td>20</td>\n",
              "      <td>98</td>\n",
              "      <td>86</td>\n",
              "      <td>34</td>\n",
              "      <td>...</td>\n",
              "      <td>92</td>\n",
              "      <td>29</td>\n",
              "      <td>21</td>\n",
              "      <td>99</td>\n",
              "      <td>30</td>\n",
              "      <td>21</td>\n",
              "      <td>99</td>\n",
              "      <td>28</td>\n",
              "      <td>19</td>\n",
              "      <td>70</td>\n",
              "    </tr>\n",
              "    <tr>\n",
              "      <th>25</th>\n",
              "      <td>24.0</td>\n",
              "      <td>19</td>\n",
              "      <td>33</td>\n",
              "      <td>87</td>\n",
              "      <td>67</td>\n",
              "      <td>31</td>\n",
              "      <td>21</td>\n",
              "      <td>95</td>\n",
              "      <td>89</td>\n",
              "      <td>32</td>\n",
              "      <td>...</td>\n",
              "      <td>90</td>\n",
              "      <td>28</td>\n",
              "      <td>21</td>\n",
              "      <td>100</td>\n",
              "      <td>31</td>\n",
              "      <td>21</td>\n",
              "      <td>94</td>\n",
              "      <td>29</td>\n",
              "      <td>18</td>\n",
              "      <td>73</td>\n",
              "    </tr>\n",
              "    <tr>\n",
              "      <th>26</th>\n",
              "      <td>25.0</td>\n",
              "      <td>20</td>\n",
              "      <td>32</td>\n",
              "      <td>87</td>\n",
              "      <td>69</td>\n",
              "      <td>30</td>\n",
              "      <td>21</td>\n",
              "      <td>96</td>\n",
              "      <td>84</td>\n",
              "      <td>33</td>\n",
              "      <td>...</td>\n",
              "      <td>95</td>\n",
              "      <td>30</td>\n",
              "      <td>21</td>\n",
              "      <td>99</td>\n",
              "      <td>30</td>\n",
              "      <td>22</td>\n",
              "      <td>89</td>\n",
              "      <td>30</td>\n",
              "      <td>19</td>\n",
              "      <td>75</td>\n",
              "    </tr>\n",
              "    <tr>\n",
              "      <th>27</th>\n",
              "      <td>26.0</td>\n",
              "      <td>21</td>\n",
              "      <td>30</td>\n",
              "      <td>89</td>\n",
              "      <td>72</td>\n",
              "      <td>31</td>\n",
              "      <td>20</td>\n",
              "      <td>99</td>\n",
              "      <td>90</td>\n",
              "      <td>34</td>\n",
              "      <td>...</td>\n",
              "      <td>99</td>\n",
              "      <td>29</td>\n",
              "      <td>21</td>\n",
              "      <td>95</td>\n",
              "      <td>29</td>\n",
              "      <td>22</td>\n",
              "      <td>90</td>\n",
              "      <td>31</td>\n",
              "      <td>19</td>\n",
              "      <td>70</td>\n",
              "    </tr>\n",
              "    <tr>\n",
              "      <th>28</th>\n",
              "      <td>27.0</td>\n",
              "      <td>20</td>\n",
              "      <td>32</td>\n",
              "      <td>91</td>\n",
              "      <td>68</td>\n",
              "      <td>32</td>\n",
              "      <td>21</td>\n",
              "      <td>91</td>\n",
              "      <td>87</td>\n",
              "      <td>32</td>\n",
              "      <td>...</td>\n",
              "      <td>100</td>\n",
              "      <td>30</td>\n",
              "      <td>21</td>\n",
              "      <td>95</td>\n",
              "      <td>30</td>\n",
              "      <td>22</td>\n",
              "      <td>95</td>\n",
              "      <td>32</td>\n",
              "      <td>19</td>\n",
              "      <td>84</td>\n",
              "    </tr>\n",
              "    <tr>\n",
              "      <th>29</th>\n",
              "      <td>28.0</td>\n",
              "      <td>20</td>\n",
              "      <td>31</td>\n",
              "      <td>86</td>\n",
              "      <td>67</td>\n",
              "      <td>33</td>\n",
              "      <td>20</td>\n",
              "      <td>88</td>\n",
              "      <td>69</td>\n",
              "      <td>34</td>\n",
              "      <td>...</td>\n",
              "      <td>100</td>\n",
              "      <td>32</td>\n",
              "      <td>22</td>\n",
              "      <td>90</td>\n",
              "      <td>29</td>\n",
              "      <td>21</td>\n",
              "      <td>90</td>\n",
              "      <td>31</td>\n",
              "      <td>18</td>\n",
              "      <td>75</td>\n",
              "    </tr>\n",
              "    <tr>\n",
              "      <th>30</th>\n",
              "      <td>29.0</td>\n",
              "      <td>19</td>\n",
              "      <td>32</td>\n",
              "      <td>87</td>\n",
              "      <td>69</td>\n",
              "      <td>NaN</td>\n",
              "      <td>NaN</td>\n",
              "      <td>NaN</td>\n",
              "      <td>NaN</td>\n",
              "      <td>35</td>\n",
              "      <td>...</td>\n",
              "      <td>100</td>\n",
              "      <td>31</td>\n",
              "      <td>22</td>\n",
              "      <td>88</td>\n",
              "      <td>28</td>\n",
              "      <td>21</td>\n",
              "      <td>85</td>\n",
              "      <td>32</td>\n",
              "      <td>18</td>\n",
              "      <td>70</td>\n",
              "    </tr>\n",
              "    <tr>\n",
              "      <th>31</th>\n",
              "      <td>30.0</td>\n",
              "      <td>19</td>\n",
              "      <td>33</td>\n",
              "      <td>88</td>\n",
              "      <td>66</td>\n",
              "      <td>NaN</td>\n",
              "      <td>NaN</td>\n",
              "      <td>NaN</td>\n",
              "      <td>NaN</td>\n",
              "      <td>34</td>\n",
              "      <td>...</td>\n",
              "      <td>100</td>\n",
              "      <td>30</td>\n",
              "      <td>22</td>\n",
              "      <td>92</td>\n",
              "      <td>31</td>\n",
              "      <td>22</td>\n",
              "      <td>88</td>\n",
              "      <td>31</td>\n",
              "      <td>18</td>\n",
              "      <td>92</td>\n",
              "    </tr>\n",
              "    <tr>\n",
              "      <th>32</th>\n",
              "      <td>31.0</td>\n",
              "      <td>19</td>\n",
              "      <td>31</td>\n",
              "      <td>86</td>\n",
              "      <td>68</td>\n",
              "      <td>NaN</td>\n",
              "      <td>NaN</td>\n",
              "      <td>NaN</td>\n",
              "      <td>NaN</td>\n",
              "      <td>34</td>\n",
              "      <td>...</td>\n",
              "      <td>NaN</td>\n",
              "      <td>31</td>\n",
              "      <td>22</td>\n",
              "      <td>90</td>\n",
              "      <td>NaN</td>\n",
              "      <td>NaN</td>\n",
              "      <td>NaN</td>\n",
              "      <td>29</td>\n",
              "      <td>18</td>\n",
              "      <td>90</td>\n",
              "    </tr>\n",
              "    <tr>\n",
              "      <th>33</th>\n",
              "      <td>NaN</td>\n",
              "      <td>2</td>\n",
              "      <td>NaN</td>\n",
              "      <td>NaN</td>\n",
              "      <td>NaN</td>\n",
              "      <td>NaN</td>\n",
              "      <td>NaN</td>\n",
              "      <td>NaN</td>\n",
              "      <td>NaN</td>\n",
              "      <td>NaN</td>\n",
              "      <td>...</td>\n",
              "      <td>NaN</td>\n",
              "      <td>NaN</td>\n",
              "      <td>NaN</td>\n",
              "      <td>NaN</td>\n",
              "      <td>NaN</td>\n",
              "      <td>NaN</td>\n",
              "      <td>NaN</td>\n",
              "      <td>NaN</td>\n",
              "      <td>NaN</td>\n",
              "      <td>NaN</td>\n",
              "    </tr>\n",
              "  </tbody>\n",
              "</table>\n",
              "<p>34 rows × 43 columns</p>\n",
              "</div>\n",
              "      <button class=\"colab-df-convert\" onclick=\"convertToInteractive('df-e2080677-e64e-49c7-9f34-666bc685e8b4')\"\n",
              "              title=\"Convert this dataframe to an interactive table.\"\n",
              "              style=\"display:none;\">\n",
              "        \n",
              "  <svg xmlns=\"http://www.w3.org/2000/svg\" height=\"24px\"viewBox=\"0 0 24 24\"\n",
              "       width=\"24px\">\n",
              "    <path d=\"M0 0h24v24H0V0z\" fill=\"none\"/>\n",
              "    <path d=\"M18.56 5.44l.94 2.06.94-2.06 2.06-.94-2.06-.94-.94-2.06-.94 2.06-2.06.94zm-11 1L8.5 8.5l.94-2.06 2.06-.94-2.06-.94L8.5 2.5l-.94 2.06-2.06.94zm10 10l.94 2.06.94-2.06 2.06-.94-2.06-.94-.94-2.06-.94 2.06-2.06.94z\"/><path d=\"M17.41 7.96l-1.37-1.37c-.4-.4-.92-.59-1.43-.59-.52 0-1.04.2-1.43.59L10.3 9.45l-7.72 7.72c-.78.78-.78 2.05 0 2.83L4 21.41c.39.39.9.59 1.41.59.51 0 1.02-.2 1.41-.59l7.78-7.78 2.81-2.81c.8-.78.8-2.07 0-2.86zM5.41 20L4 18.59l7.72-7.72 1.47 1.35L5.41 20z\"/>\n",
              "  </svg>\n",
              "      </button>\n",
              "      \n",
              "  <style>\n",
              "    .colab-df-container {\n",
              "      display:flex;\n",
              "      flex-wrap:wrap;\n",
              "      gap: 12px;\n",
              "    }\n",
              "\n",
              "    .colab-df-convert {\n",
              "      background-color: #E8F0FE;\n",
              "      border: none;\n",
              "      border-radius: 50%;\n",
              "      cursor: pointer;\n",
              "      display: none;\n",
              "      fill: #1967D2;\n",
              "      height: 32px;\n",
              "      padding: 0 0 0 0;\n",
              "      width: 32px;\n",
              "    }\n",
              "\n",
              "    .colab-df-convert:hover {\n",
              "      background-color: #E2EBFA;\n",
              "      box-shadow: 0px 1px 2px rgba(60, 64, 67, 0.3), 0px 1px 3px 1px rgba(60, 64, 67, 0.15);\n",
              "      fill: #174EA6;\n",
              "    }\n",
              "\n",
              "    [theme=dark] .colab-df-convert {\n",
              "      background-color: #3B4455;\n",
              "      fill: #D2E3FC;\n",
              "    }\n",
              "\n",
              "    [theme=dark] .colab-df-convert:hover {\n",
              "      background-color: #434B5C;\n",
              "      box-shadow: 0px 1px 3px 1px rgba(0, 0, 0, 0.15);\n",
              "      filter: drop-shadow(0px 1px 2px rgba(0, 0, 0, 0.3));\n",
              "      fill: #FFFFFF;\n",
              "    }\n",
              "  </style>\n",
              "\n",
              "      <script>\n",
              "        const buttonEl =\n",
              "          document.querySelector('#df-e2080677-e64e-49c7-9f34-666bc685e8b4 button.colab-df-convert');\n",
              "        buttonEl.style.display =\n",
              "          google.colab.kernel.accessAllowed ? 'block' : 'none';\n",
              "\n",
              "        async function convertToInteractive(key) {\n",
              "          const element = document.querySelector('#df-e2080677-e64e-49c7-9f34-666bc685e8b4');\n",
              "          const dataTable =\n",
              "            await google.colab.kernel.invokeFunction('convertToInteractive',\n",
              "                                                     [key], {});\n",
              "          if (!dataTable) return;\n",
              "\n",
              "          const docLinkHtml = 'Like what you see? Visit the ' +\n",
              "            '<a target=\"_blank\" href=https://colab.research.google.com/notebooks/data_table.ipynb>data table notebook</a>'\n",
              "            + ' to learn more about interactive tables.';\n",
              "          element.innerHTML = '';\n",
              "          dataTable['output_type'] = 'display_data';\n",
              "          await google.colab.output.renderOutput(dataTable, element);\n",
              "          const docLink = document.createElement('div');\n",
              "          docLink.innerHTML = docLinkHtml;\n",
              "          element.appendChild(docLink);\n",
              "        }\n",
              "      </script>\n",
              "    </div>\n",
              "  </div>\n",
              "  "
            ]
          },
          "metadata": {},
          "execution_count": 3
        }
      ]
    },
    {
      "cell_type": "code",
      "source": [
        "data = pd.read_csv(\"/content/temperature and humidity final csv with upto may 31.csv\")"
      ],
      "metadata": {
        "id": "_Upumr_mS6go"
      },
      "execution_count": 13,
      "outputs": []
    },
    {
      "cell_type": "code",
      "source": [
        "data.isnull().sum()"
      ],
      "metadata": {
        "colab": {
          "base_uri": "https://localhost:8080/"
        },
        "id": "nRQRxZ_LS_Dg",
        "outputId": "a0313bcf-34fb-40b6-83a6-1495be711dcc"
      },
      "execution_count": 14,
      "outputs": [
        {
          "output_type": "execute_result",
          "data": {
            "text/plain": [
              "DATE              0\n",
              "Maxtemperature    7\n",
              "MinTemperature    7\n",
              "Minhumidity       8\n",
              "dtype: int64"
            ]
          },
          "metadata": {},
          "execution_count": 14
        }
      ]
    },
    {
      "cell_type": "code",
      "source": [
        "data"
      ],
      "metadata": {
        "colab": {
          "base_uri": "https://localhost:8080/",
          "height": 455
        },
        "id": "pDMwJHG1AS75",
        "outputId": "bfe2459e-e8bc-423b-9181-cd23a52cabaa"
      },
      "execution_count": 122,
      "outputs": [
        {
          "output_type": "execute_result",
          "data": {
            "text/plain": [
              "                  DATE  Maxtemperature  MinTemperature  Minhumidity  \\\n",
              "Date                                                                  \n",
              "2021-01-01  01-01-2021            29.0            20.0         96.0   \n",
              "2021-02-01  02-01-2021            30.0            19.0         98.0   \n",
              "2021-03-01  03-01-2021            31.0            19.0         99.0   \n",
              "2021-04-01  04-01-2021            20.0            20.0         98.0   \n",
              "2021-05-01  05-01-2021            19.0            18.0         97.0   \n",
              "...                ...             ...             ...          ...   \n",
              "NaT                NaN             NaN             NaN          NaN   \n",
              "NaT                NaN             NaN             NaN          NaN   \n",
              "NaT                NaN             NaN             NaN          NaN   \n",
              "NaT                NaN             NaN             NaN          NaN   \n",
              "NaT                NaN             NaN             NaN          NaN   \n",
              "\n",
              "            Maxhumidity  \n",
              "Date                     \n",
              "2021-01-01         90.0  \n",
              "2021-02-01         84.0  \n",
              "2021-03-01         92.0  \n",
              "2021-04-01         89.0  \n",
              "2021-05-01         86.0  \n",
              "...                 ...  \n",
              "NaT                 NaN  \n",
              "NaT                 NaN  \n",
              "NaT                 NaN  \n",
              "NaT                 NaN  \n",
              "NaT                 NaN  \n",
              "\n",
              "[1652 rows x 5 columns]"
            ],
            "text/html": [
              "\n",
              "  <div id=\"df-2172d3fc-cc53-4ba3-ab7b-7e5501b5287b\">\n",
              "    <div class=\"colab-df-container\">\n",
              "      <div>\n",
              "<style scoped>\n",
              "    .dataframe tbody tr th:only-of-type {\n",
              "        vertical-align: middle;\n",
              "    }\n",
              "\n",
              "    .dataframe tbody tr th {\n",
              "        vertical-align: top;\n",
              "    }\n",
              "\n",
              "    .dataframe thead th {\n",
              "        text-align: right;\n",
              "    }\n",
              "</style>\n",
              "<table border=\"1\" class=\"dataframe\">\n",
              "  <thead>\n",
              "    <tr style=\"text-align: right;\">\n",
              "      <th></th>\n",
              "      <th>DATE</th>\n",
              "      <th>Maxtemperature</th>\n",
              "      <th>MinTemperature</th>\n",
              "      <th>Minhumidity</th>\n",
              "      <th>Maxhumidity</th>\n",
              "    </tr>\n",
              "    <tr>\n",
              "      <th>Date</th>\n",
              "      <th></th>\n",
              "      <th></th>\n",
              "      <th></th>\n",
              "      <th></th>\n",
              "      <th></th>\n",
              "    </tr>\n",
              "  </thead>\n",
              "  <tbody>\n",
              "    <tr>\n",
              "      <th>2021-01-01</th>\n",
              "      <td>01-01-2021</td>\n",
              "      <td>29.0</td>\n",
              "      <td>20.0</td>\n",
              "      <td>96.0</td>\n",
              "      <td>90.0</td>\n",
              "    </tr>\n",
              "    <tr>\n",
              "      <th>2021-02-01</th>\n",
              "      <td>02-01-2021</td>\n",
              "      <td>30.0</td>\n",
              "      <td>19.0</td>\n",
              "      <td>98.0</td>\n",
              "      <td>84.0</td>\n",
              "    </tr>\n",
              "    <tr>\n",
              "      <th>2021-03-01</th>\n",
              "      <td>03-01-2021</td>\n",
              "      <td>31.0</td>\n",
              "      <td>19.0</td>\n",
              "      <td>99.0</td>\n",
              "      <td>92.0</td>\n",
              "    </tr>\n",
              "    <tr>\n",
              "      <th>2021-04-01</th>\n",
              "      <td>04-01-2021</td>\n",
              "      <td>20.0</td>\n",
              "      <td>20.0</td>\n",
              "      <td>98.0</td>\n",
              "      <td>89.0</td>\n",
              "    </tr>\n",
              "    <tr>\n",
              "      <th>2021-05-01</th>\n",
              "      <td>05-01-2021</td>\n",
              "      <td>19.0</td>\n",
              "      <td>18.0</td>\n",
              "      <td>97.0</td>\n",
              "      <td>86.0</td>\n",
              "    </tr>\n",
              "    <tr>\n",
              "      <th>...</th>\n",
              "      <td>...</td>\n",
              "      <td>...</td>\n",
              "      <td>...</td>\n",
              "      <td>...</td>\n",
              "      <td>...</td>\n",
              "    </tr>\n",
              "    <tr>\n",
              "      <th>NaT</th>\n",
              "      <td>NaN</td>\n",
              "      <td>NaN</td>\n",
              "      <td>NaN</td>\n",
              "      <td>NaN</td>\n",
              "      <td>NaN</td>\n",
              "    </tr>\n",
              "    <tr>\n",
              "      <th>NaT</th>\n",
              "      <td>NaN</td>\n",
              "      <td>NaN</td>\n",
              "      <td>NaN</td>\n",
              "      <td>NaN</td>\n",
              "      <td>NaN</td>\n",
              "    </tr>\n",
              "    <tr>\n",
              "      <th>NaT</th>\n",
              "      <td>NaN</td>\n",
              "      <td>NaN</td>\n",
              "      <td>NaN</td>\n",
              "      <td>NaN</td>\n",
              "      <td>NaN</td>\n",
              "    </tr>\n",
              "    <tr>\n",
              "      <th>NaT</th>\n",
              "      <td>NaN</td>\n",
              "      <td>NaN</td>\n",
              "      <td>NaN</td>\n",
              "      <td>NaN</td>\n",
              "      <td>NaN</td>\n",
              "    </tr>\n",
              "    <tr>\n",
              "      <th>NaT</th>\n",
              "      <td>NaN</td>\n",
              "      <td>NaN</td>\n",
              "      <td>NaN</td>\n",
              "      <td>NaN</td>\n",
              "      <td>NaN</td>\n",
              "    </tr>\n",
              "  </tbody>\n",
              "</table>\n",
              "<p>1652 rows × 5 columns</p>\n",
              "</div>\n",
              "      <button class=\"colab-df-convert\" onclick=\"convertToInteractive('df-2172d3fc-cc53-4ba3-ab7b-7e5501b5287b')\"\n",
              "              title=\"Convert this dataframe to an interactive table.\"\n",
              "              style=\"display:none;\">\n",
              "        \n",
              "  <svg xmlns=\"http://www.w3.org/2000/svg\" height=\"24px\"viewBox=\"0 0 24 24\"\n",
              "       width=\"24px\">\n",
              "    <path d=\"M0 0h24v24H0V0z\" fill=\"none\"/>\n",
              "    <path d=\"M18.56 5.44l.94 2.06.94-2.06 2.06-.94-2.06-.94-.94-2.06-.94 2.06-2.06.94zm-11 1L8.5 8.5l.94-2.06 2.06-.94-2.06-.94L8.5 2.5l-.94 2.06-2.06.94zm10 10l.94 2.06.94-2.06 2.06-.94-2.06-.94-.94-2.06-.94 2.06-2.06.94z\"/><path d=\"M17.41 7.96l-1.37-1.37c-.4-.4-.92-.59-1.43-.59-.52 0-1.04.2-1.43.59L10.3 9.45l-7.72 7.72c-.78.78-.78 2.05 0 2.83L4 21.41c.39.39.9.59 1.41.59.51 0 1.02-.2 1.41-.59l7.78-7.78 2.81-2.81c.8-.78.8-2.07 0-2.86zM5.41 20L4 18.59l7.72-7.72 1.47 1.35L5.41 20z\"/>\n",
              "  </svg>\n",
              "      </button>\n",
              "      \n",
              "  <style>\n",
              "    .colab-df-container {\n",
              "      display:flex;\n",
              "      flex-wrap:wrap;\n",
              "      gap: 12px;\n",
              "    }\n",
              "\n",
              "    .colab-df-convert {\n",
              "      background-color: #E8F0FE;\n",
              "      border: none;\n",
              "      border-radius: 50%;\n",
              "      cursor: pointer;\n",
              "      display: none;\n",
              "      fill: #1967D2;\n",
              "      height: 32px;\n",
              "      padding: 0 0 0 0;\n",
              "      width: 32px;\n",
              "    }\n",
              "\n",
              "    .colab-df-convert:hover {\n",
              "      background-color: #E2EBFA;\n",
              "      box-shadow: 0px 1px 2px rgba(60, 64, 67, 0.3), 0px 1px 3px 1px rgba(60, 64, 67, 0.15);\n",
              "      fill: #174EA6;\n",
              "    }\n",
              "\n",
              "    [theme=dark] .colab-df-convert {\n",
              "      background-color: #3B4455;\n",
              "      fill: #D2E3FC;\n",
              "    }\n",
              "\n",
              "    [theme=dark] .colab-df-convert:hover {\n",
              "      background-color: #434B5C;\n",
              "      box-shadow: 0px 1px 3px 1px rgba(0, 0, 0, 0.15);\n",
              "      filter: drop-shadow(0px 1px 2px rgba(0, 0, 0, 0.3));\n",
              "      fill: #FFFFFF;\n",
              "    }\n",
              "  </style>\n",
              "\n",
              "      <script>\n",
              "        const buttonEl =\n",
              "          document.querySelector('#df-2172d3fc-cc53-4ba3-ab7b-7e5501b5287b button.colab-df-convert');\n",
              "        buttonEl.style.display =\n",
              "          google.colab.kernel.accessAllowed ? 'block' : 'none';\n",
              "\n",
              "        async function convertToInteractive(key) {\n",
              "          const element = document.querySelector('#df-2172d3fc-cc53-4ba3-ab7b-7e5501b5287b');\n",
              "          const dataTable =\n",
              "            await google.colab.kernel.invokeFunction('convertToInteractive',\n",
              "                                                     [key], {});\n",
              "          if (!dataTable) return;\n",
              "\n",
              "          const docLinkHtml = 'Like what you see? Visit the ' +\n",
              "            '<a target=\"_blank\" href=https://colab.research.google.com/notebooks/data_table.ipynb>data table notebook</a>'\n",
              "            + ' to learn more about interactive tables.';\n",
              "          element.innerHTML = '';\n",
              "          dataTable['output_type'] = 'display_data';\n",
              "          await google.colab.output.renderOutput(dataTable, element);\n",
              "          const docLink = document.createElement('div');\n",
              "          docLink.innerHTML = docLinkHtml;\n",
              "          element.appendChild(docLink);\n",
              "        }\n",
              "      </script>\n",
              "    </div>\n",
              "  </div>\n",
              "  "
            ]
          },
          "metadata": {},
          "execution_count": 122
        }
      ]
    },
    {
      "cell_type": "code",
      "source": [
        "data.dtypes"
      ],
      "metadata": {
        "colab": {
          "base_uri": "https://localhost:8080/"
        },
        "id": "n-tjzYRuUyeF",
        "outputId": "a73172cb-7aa9-44f7-d965-fc56565a2e78"
      },
      "execution_count": 15,
      "outputs": [
        {
          "output_type": "execute_result",
          "data": {
            "text/plain": [
              "DATE               object\n",
              "Maxtemperature    float64\n",
              "MinTemperature    float64\n",
              "Minhumidity       float64\n",
              "dtype: object"
            ]
          },
          "metadata": {},
          "execution_count": 15
        }
      ]
    },
    {
      "cell_type": "code",
      "source": [
        "data['DATE'] = pd.to_datetime(data['DATE'])\n"
      ],
      "metadata": {
        "colab": {
          "base_uri": "https://localhost:8080/"
        },
        "id": "T__7zWbcVCOO",
        "outputId": "94bee286-9db6-438a-edd9-1d7a76a3d47e"
      },
      "execution_count": 16,
      "outputs": [
        {
          "output_type": "stream",
          "name": "stderr",
          "text": [
            "<ipython-input-16-55f29f578728>:1: UserWarning: Parsing dates in DD/MM/YYYY format when dayfirst=False (the default) was specified. This may lead to inconsistently parsed dates! Specify a format to ensure consistent parsing.\n",
            "  data['DATE'] = pd.to_datetime(data['DATE'])\n"
          ]
        }
      ]
    },
    {
      "cell_type": "code",
      "source": [
        "data.dtypes"
      ],
      "metadata": {
        "colab": {
          "base_uri": "https://localhost:8080/"
        },
        "id": "LC_xuHEdVH1S",
        "outputId": "d9b4d38f-82d3-46f2-ccc4-90905c67d78f"
      },
      "execution_count": 17,
      "outputs": [
        {
          "output_type": "execute_result",
          "data": {
            "text/plain": [
              "DATE              datetime64[ns]\n",
              "Maxtemperature           float64\n",
              "MinTemperature           float64\n",
              "Minhumidity              float64\n",
              "dtype: object"
            ]
          },
          "metadata": {},
          "execution_count": 17
        }
      ]
    },
    {
      "cell_type": "code",
      "source": [
        "# Fill missing values with preceding value\n",
        "data.fillna(method='ffill', inplace=True)"
      ],
      "metadata": {
        "id": "03kjzySjVQ2Q"
      },
      "execution_count": 18,
      "outputs": []
    },
    {
      "cell_type": "code",
      "source": [
        "data.isnull().sum()"
      ],
      "metadata": {
        "colab": {
          "base_uri": "https://localhost:8080/"
        },
        "id": "r50dNsyhVSgf",
        "outputId": "cec315e9-ca32-4ca1-a998-bf106c97685d"
      },
      "execution_count": 19,
      "outputs": [
        {
          "output_type": "execute_result",
          "data": {
            "text/plain": [
              "DATE              0\n",
              "Maxtemperature    0\n",
              "MinTemperature    0\n",
              "Minhumidity       0\n",
              "dtype: int64"
            ]
          },
          "metadata": {},
          "execution_count": 19
        }
      ]
    },
    {
      "cell_type": "code",
      "source": [
        "\n",
        "from sklearn.linear_model import LinearRegression\n",
        "from sklearn.metrics import r2_score\n"
      ],
      "metadata": {
        "id": "fy7G3K8xVSS6"
      },
      "execution_count": 21,
      "outputs": []
    },
    {
      "cell_type": "code",
      "source": [
        "data = data.set_index('DATE')\n",
        "data = data.sort_index()\n",
        "\n"
      ],
      "metadata": {
        "id": "Ot6PAbIYV3Xv"
      },
      "execution_count": 22,
      "outputs": []
    },
    {
      "cell_type": "code",
      "source": [
        "data.columns"
      ],
      "metadata": {
        "colab": {
          "base_uri": "https://localhost:8080/"
        },
        "id": "AFkmAsFvXBfa",
        "outputId": "3830a80d-e761-417a-82ff-94fb8d902a8b"
      },
      "execution_count": 26,
      "outputs": [
        {
          "output_type": "execute_result",
          "data": {
            "text/plain": [
              "Index(['Maxtemperature', 'MinTemperature', 'Minhumidity'], dtype='object')"
            ]
          },
          "metadata": {},
          "execution_count": 26
        }
      ]
    },
    {
      "cell_type": "code",
      "source": [
        "import matplotlib.pyplot as plt"
      ],
      "metadata": {
        "id": "7c1ZwYT3W4zn"
      },
      "execution_count": 24,
      "outputs": []
    },
    {
      "cell_type": "code",
      "source": [
        "#Data Exploration and Visualization\n",
        "plt.plot(data['Maxtemperature'])\n",
        "plt.xlabel('Date')\n",
        "plt.ylabel('Max Temperature')\n",
        "plt.title('Max Temperature Time Series')\n",
        "plt.show()"
      ],
      "metadata": {
        "colab": {
          "base_uri": "https://localhost:8080/",
          "height": 472
        },
        "id": "Y93ZwznyWyT-",
        "outputId": "03696e62-313b-4216-d95d-2e6f990b5016"
      },
      "execution_count": 27,
      "outputs": [
        {
          "output_type": "display_data",
          "data": {
            "text/plain": [
              "<Figure size 640x480 with 1 Axes>"
            ],
            "image/png": "[encoded data removed]"
          },
          "metadata": {}
        }
      ]
    },
    {
      "cell_type": "code",
      "source": [
        "train_size = int(len(data) * 0.8)  # 80% for training, 20% for testing\n",
        "train_data, test_data = data[:train_size], data[train_size:]"
      ],
      "metadata": {
        "id": "4hduC2CeXQkw"
      },
      "execution_count": 29,
      "outputs": []
    },
    {
      "cell_type": "code",
      "source": [
        "from statsmodels.tsa.arima.model import ARIMA"
      ],
      "metadata": {
        "id": "3SZIdLGpXZdI"
      },
      "execution_count": 31,
      "outputs": []
    },
    {
      "cell_type": "code",
      "source": [
        "# Step 4: Train-Test Split\n",
        "train_size = int(len(data) * 0.8)  # 80% for training, 20% for testing\n",
        "train_data, test_data = data[:train_size]['Maxtemperature'], data[train_size:]['Maxtemperature']\n",
        "\n",
        "# Step 5: Model Training and Evaluation\n",
        "model = ARIMA(train_data, order=(1, 1, 1))  # Example order, you can tune it\n",
        "model_fit = model.fit()\n",
        "forecast = model_fit.forecast(steps=len(test_data))\n",
        "\n",
        "\n"
      ],
      "metadata": {
        "colab": {
          "base_uri": "https://localhost:8080/"
        },
        "id": "ZYHczTb-Xu5o",
        "outputId": "d15ec6b1-21c8-49d4-dbea-90e5d225b50c"
      },
      "execution_count": 36,
      "outputs": [
        {
          "output_type": "stream",
          "name": "stderr",
          "text": [
            "/usr/local/lib/python3.10/dist-packages/statsmodels/tsa/base/tsa_model.py:471: ValueWarning: No frequency information was provided, so inferred frequency D will be used.\n",
            "  self._init_dates(dates, freq)\n",
            "/usr/local/lib/python3.10/dist-packages/statsmodels/tsa/base/tsa_model.py:471: ValueWarning: No frequency information was provided, so inferred frequency D will be used.\n",
            "  self._init_dates(dates, freq)\n",
            "/usr/local/lib/python3.10/dist-packages/statsmodels/tsa/base/tsa_model.py:471: ValueWarning: No frequency information was provided, so inferred frequency D will be used.\n",
            "  self._init_dates(dates, freq)\n"
          ]
        }
      ]
    },
    {
      "cell_type": "code",
      "source": [
        "import numpy as np"
      ],
      "metadata": {
        "id": "oevwUNsVX5it"
      },
      "execution_count": 37,
      "outputs": []
    },
    {
      "cell_type": "code",
      "source": [
        "# Evaluate the model\n",
        "mse = np.mean((forecast - test_data) ** 2)\n",
        "rmse = np.sqrt(mse)\n",
        "mae = np.mean(np.abs(forecast - test_data))\n",
        "\n",
        "print('Evaluation Metrics:')\n",
        "print('Mean Squared Error (MSE):', mse)\n",
        "print('Root Mean Squared Error (RMSE):', rmse)\n",
        "print('Mean Absolute Error (MAE):', mae)"
      ],
      "metadata": {
        "colab": {
          "base_uri": "https://localhost:8080/"
        },
        "id": "DJRZIX9cX8g3",
        "outputId": "ad6a22bc-d75a-4e22-8a3f-8b3fbe5db71c"
      },
      "execution_count": 38,
      "outputs": [
        {
          "output_type": "stream",
          "name": "stdout",
          "text": [
            "Evaluation Metrics:\n",
            "Mean Squared Error (MSE): 8.492410813645836\n",
            "Root Mean Squared Error (RMSE): 2.9141741220534225\n",
            "Mean Absolute Error (MAE): 2.377141231636675\n"
          ]
        }
      ]
    },
    {
      "cell_type": "code",
      "source": [
        "# Step 6: Forecasting\n",
        "next_month_range = pd.date_range(start=data.index[-1], periods=30, freq='D')\n",
        "next_month_forecast = model_fit.forecast(steps=30)  # Forecasting for the next 30 days\n",
        "\n",
        "# Plot the forecasted values\n",
        "plt.plot(data['Maxtemperature'], label='Historical Data')\n",
        "plt.plot(next_month_range, next_month_forecast[0], label='Forecast')\n",
        "plt.xlabel('Date')\n",
        "plt.ylabel('Max Temperature')\n",
        "plt.title('Max Temperature Forecast')\n",
        "plt.legend()\n",
        "plt.show()"
      ],
      "metadata": {
        "colab": {
          "base_uri": "https://localhost:8080/",
          "height": 810
        },
        "id": "qNujaPCzYCM0",
        "outputId": "dc70c528-82d7-4885-ee95-5a4843f8ef70"
      },
      "execution_count": 40,
      "outputs": [
        {
          "output_type": "error",
          "ename": "ValueError",
          "evalue": "ignored",
          "traceback": [
            "\u001b[0;31m---------------------------------------------------------------------------\u001b[0m",
            "\u001b[0;31mValueError\u001b[0m                                Traceback (most recent call last)",
            "\u001b[0;32m<ipython-input-40-ba9c9fdc45d4>\u001b[0m in \u001b[0;36m<cell line: 7>\u001b[0;34m()\u001b[0m\n\u001b[1;32m      5\u001b[0m \u001b[0;31m# Plot the forecasted values\u001b[0m\u001b[0;34m\u001b[0m\u001b[0;34m\u001b[0m\u001b[0m\n\u001b[1;32m      6\u001b[0m \u001b[0mplt\u001b[0m\u001b[0;34m.\u001b[0m\u001b[0mplot\u001b[0m\u001b[0;34m(\u001b[0m\u001b[0mdata\u001b[0m\u001b[0;34m[\u001b[0m\u001b[0;34m'Maxtemperature'\u001b[0m\u001b[0;34m]\u001b[0m\u001b[0;34m,\u001b[0m \u001b[0mlabel\u001b[0m\u001b[0;34m=\u001b[0m\u001b[0;34m'Historical Data'\u001b[0m\u001b[0;34m)\u001b[0m\u001b[0;34m\u001b[0m\u001b[0;34m\u001b[0m\u001b[0m\n\u001b[0;32m----> 7\u001b[0;31m \u001b[0mplt\u001b[0m\u001b[0;34m.\u001b[0m\u001b[0mplot\u001b[0m\u001b[0;34m(\u001b[0m\u001b[0mnext_month_range\u001b[0m\u001b[0;34m,\u001b[0m \u001b[0mnext_month_forecast\u001b[0m\u001b[0;34m[\u001b[0m\u001b[0;36m0\u001b[0m\u001b[0;34m]\u001b[0m\u001b[0;34m,\u001b[0m \u001b[0mlabel\u001b[0m\u001b[0;34m=\u001b[0m\u001b[0;34m'Forecast'\u001b[0m\u001b[0;34m)\u001b[0m\u001b[0;34m\u001b[0m\u001b[0;34m\u001b[0m\u001b[0m\n\u001b[0m\u001b[1;32m      8\u001b[0m \u001b[0mplt\u001b[0m\u001b[0;34m.\u001b[0m\u001b[0mxlabel\u001b[0m\u001b[0;34m(\u001b[0m\u001b[0;34m'Date'\u001b[0m\u001b[0;34m)\u001b[0m\u001b[0;34m\u001b[0m\u001b[0;34m\u001b[0m\u001b[0m\n\u001b[1;32m      9\u001b[0m \u001b[0mplt\u001b[0m\u001b[0;34m.\u001b[0m\u001b[0mylabel\u001b[0m\u001b[0;34m(\u001b[0m\u001b[0;34m'Max Temperature'\u001b[0m\u001b[0;34m)\u001b[0m\u001b[0;34m\u001b[0m\u001b[0;34m\u001b[0m\u001b[0m\n",
            "\u001b[0;32m/usr/local/lib/python3.10/dist-packages/matplotlib/pyplot.py\u001b[0m in \u001b[0;36mplot\u001b[0;34m(scalex, scaley, data, *args, **kwargs)\u001b[0m\n\u001b[1;32m   2810\u001b[0m \u001b[0;34m@\u001b[0m\u001b[0m_copy_docstring_and_deprecators\u001b[0m\u001b[0;34m(\u001b[0m\u001b[0mAxes\u001b[0m\u001b[0;34m.\u001b[0m\u001b[0mplot\u001b[0m\u001b[0;34m)\u001b[0m\u001b[0;34m\u001b[0m\u001b[0;34m\u001b[0m\u001b[0m\n\u001b[1;32m   2811\u001b[0m \u001b[0;32mdef\u001b[0m \u001b[0mplot\u001b[0m\u001b[0;34m(\u001b[0m\u001b[0;34m*\u001b[0m\u001b[0margs\u001b[0m\u001b[0;34m,\u001b[0m \u001b[0mscalex\u001b[0m\u001b[0;34m=\u001b[0m\u001b[0;32mTrue\u001b[0m\u001b[0;34m,\u001b[0m \u001b[0mscaley\u001b[0m\u001b[0;34m=\u001b[0m\u001b[0;32mTrue\u001b[0m\u001b[0;34m,\u001b[0m \u001b[0mdata\u001b[0m\u001b[0;34m=\u001b[0m\u001b[0;32mNone\u001b[0m\u001b[0;34m,\u001b[0m \u001b[0;34m**\u001b[0m\u001b[0mkwargs\u001b[0m\u001b[0;34m)\u001b[0m\u001b[0;34m:\u001b[0m\u001b[0;34m\u001b[0m\u001b[0;34m\u001b[0m\u001b[0m\n\u001b[0;32m-> 2812\u001b[0;31m     return gca().plot(\n\u001b[0m\u001b[1;32m   2813\u001b[0m         \u001b[0;34m*\u001b[0m\u001b[0margs\u001b[0m\u001b[0;34m,\u001b[0m \u001b[0mscalex\u001b[0m\u001b[0;34m=\u001b[0m\u001b[0mscalex\u001b[0m\u001b[0;34m,\u001b[0m \u001b[0mscaley\u001b[0m\u001b[0;34m=\u001b[0m\u001b[0mscaley\u001b[0m\u001b[0;34m,\u001b[0m\u001b[0;34m\u001b[0m\u001b[0;34m\u001b[0m\u001b[0m\n\u001b[1;32m   2814\u001b[0m         **({\"data\": data} if data is not None else {}), **kwargs)\n",
            "\u001b[0;32m/usr/local/lib/python3.10/dist-packages/matplotlib/axes/_axes.py\u001b[0m in \u001b[0;36mplot\u001b[0;34m(self, scalex, scaley, data, *args, **kwargs)\u001b[0m\n\u001b[1;32m   1686\u001b[0m         \"\"\"\n\u001b[1;32m   1687\u001b[0m         \u001b[0mkwargs\u001b[0m \u001b[0;34m=\u001b[0m \u001b[0mcbook\u001b[0m\u001b[0;34m.\u001b[0m\u001b[0mnormalize_kwargs\u001b[0m\u001b[0;34m(\u001b[0m\u001b[0mkwargs\u001b[0m\u001b[0;34m,\u001b[0m \u001b[0mmlines\u001b[0m\u001b[0;34m.\u001b[0m\u001b[0mLine2D\u001b[0m\u001b[0;34m)\u001b[0m\u001b[0;34m\u001b[0m\u001b[0;34m\u001b[0m\u001b[0m\n\u001b[0;32m-> 1688\u001b[0;31m         \u001b[0mlines\u001b[0m \u001b[0;34m=\u001b[0m \u001b[0;34m[\u001b[0m\u001b[0;34m*\u001b[0m\u001b[0mself\u001b[0m\u001b[0;34m.\u001b[0m\u001b[0m_get_lines\u001b[0m\u001b[0;34m(\u001b[0m\u001b[0;34m*\u001b[0m\u001b[0margs\u001b[0m\u001b[0;34m,\u001b[0m \u001b[0mdata\u001b[0m\u001b[0;34m=\u001b[0m\u001b[0mdata\u001b[0m\u001b[0;34m,\u001b[0m \u001b[0;34m**\u001b[0m\u001b[0mkwargs\u001b[0m\u001b[0;34m)\u001b[0m\u001b[0;34m]\u001b[0m\u001b[0;34m\u001b[0m\u001b[0;34m\u001b[0m\u001b[0m\n\u001b[0m\u001b[1;32m   1689\u001b[0m         \u001b[0;32mfor\u001b[0m \u001b[0mline\u001b[0m \u001b[0;32min\u001b[0m \u001b[0mlines\u001b[0m\u001b[0;34m:\u001b[0m\u001b[0;34m\u001b[0m\u001b[0;34m\u001b[0m\u001b[0m\n\u001b[1;32m   1690\u001b[0m             \u001b[0mself\u001b[0m\u001b[0;34m.\u001b[0m\u001b[0madd_line\u001b[0m\u001b[0;34m(\u001b[0m\u001b[0mline\u001b[0m\u001b[0;34m)\u001b[0m\u001b[0;34m\u001b[0m\u001b[0;34m\u001b[0m\u001b[0m\n",
            "\u001b[0;32m/usr/local/lib/python3.10/dist-packages/matplotlib/axes/_base.py\u001b[0m in \u001b[0;36m__call__\u001b[0;34m(self, data, *args, **kwargs)\u001b[0m\n\u001b[1;32m    309\u001b[0m                 \u001b[0mthis\u001b[0m \u001b[0;34m+=\u001b[0m \u001b[0margs\u001b[0m\u001b[0;34m[\u001b[0m\u001b[0;36m0\u001b[0m\u001b[0;34m]\u001b[0m\u001b[0;34m,\u001b[0m\u001b[0;34m\u001b[0m\u001b[0;34m\u001b[0m\u001b[0m\n\u001b[1;32m    310\u001b[0m                 \u001b[0margs\u001b[0m \u001b[0;34m=\u001b[0m \u001b[0margs\u001b[0m\u001b[0;34m[\u001b[0m\u001b[0;36m1\u001b[0m\u001b[0;34m:\u001b[0m\u001b[0;34m]\u001b[0m\u001b[0;34m\u001b[0m\u001b[0;34m\u001b[0m\u001b[0m\n\u001b[0;32m--> 311\u001b[0;31m             yield from self._plot_args(\n\u001b[0m\u001b[1;32m    312\u001b[0m                 this, kwargs, ambiguous_fmt_datakey=ambiguous_fmt_datakey)\n\u001b[1;32m    313\u001b[0m \u001b[0;34m\u001b[0m\u001b[0m\n",
            "\u001b[0;32m/usr/local/lib/python3.10/dist-packages/matplotlib/axes/_base.py\u001b[0m in \u001b[0;36m_plot_args\u001b[0;34m(self, tup, kwargs, return_kwargs, ambiguous_fmt_datakey)\u001b[0m\n\u001b[1;32m    502\u001b[0m \u001b[0;34m\u001b[0m\u001b[0m\n\u001b[1;32m    503\u001b[0m         \u001b[0;32mif\u001b[0m \u001b[0mx\u001b[0m\u001b[0;34m.\u001b[0m\u001b[0mshape\u001b[0m\u001b[0;34m[\u001b[0m\u001b[0;36m0\u001b[0m\u001b[0;34m]\u001b[0m \u001b[0;34m!=\u001b[0m \u001b[0my\u001b[0m\u001b[0;34m.\u001b[0m\u001b[0mshape\u001b[0m\u001b[0;34m[\u001b[0m\u001b[0;36m0\u001b[0m\u001b[0;34m]\u001b[0m\u001b[0;34m:\u001b[0m\u001b[0;34m\u001b[0m\u001b[0;34m\u001b[0m\u001b[0m\n\u001b[0;32m--> 504\u001b[0;31m             raise ValueError(f\"x and y must have same first dimension, but \"\n\u001b[0m\u001b[1;32m    505\u001b[0m                              f\"have shapes {x.shape} and {y.shape}\")\n\u001b[1;32m    506\u001b[0m         \u001b[0;32mif\u001b[0m \u001b[0mx\u001b[0m\u001b[0;34m.\u001b[0m\u001b[0mndim\u001b[0m \u001b[0;34m>\u001b[0m \u001b[0;36m2\u001b[0m \u001b[0;32mor\u001b[0m \u001b[0my\u001b[0m\u001b[0;34m.\u001b[0m\u001b[0mndim\u001b[0m \u001b[0;34m>\u001b[0m \u001b[0;36m2\u001b[0m\u001b[0;34m:\u001b[0m\u001b[0;34m\u001b[0m\u001b[0;34m\u001b[0m\u001b[0m\n",
            "\u001b[0;31mValueError\u001b[0m: x and y must have same first dimension, but have shapes (30,) and (1,)"
          ]
        },
        {
          "output_type": "display_data",
          "data": {
            "text/plain": [
              "<Figure size 640x480 with 1 Axes>"
            ],
            "image/png": "[encoded data removed]"
          },
          "metadata": {}
        }
      ]
    },
    {
      "cell_type": "code",
      "source": [
        "# Step 6: Generate Next Month Range for Forecast\n",
        "next_month_start = data.index[-1] + pd.DateOffset(days=1)\n",
        "next_month_end = next_month_start + pd.DateOffset(days=30)\n",
        "next_month_range = pd.date_range(start=next_month_start, end=next_month_end, freq='D')\n",
        "\n",
        "# Step 7: Generate Forecast for Next Month\n",
        "next_month_forecast = model_fit.forecast(steps=len(next_month_range))\n",
        "\n",
        "# Plot the forecasted values\n",
        "plt.plot(data['Maxtemperature'], label='Historical Data')\n",
        "plt.plot(next_month_range, next_month_forecast, label='Forecast')  # Remove [0]\n",
        "plt.xlabel('Date')\n",
        "plt.ylabel('Max Temperature')\n",
        "plt.legend()\n",
        "plt.show()\n"
      ],
      "metadata": {
        "colab": {
          "base_uri": "https://localhost:8080/",
          "height": 449
        },
        "id": "vpXSeFYvY0Rg",
        "outputId": "6ba7848d-709f-4dac-e860-667d03e68d79"
      },
      "execution_count": 42,
      "outputs": [
        {
          "output_type": "display_data",
          "data": {
            "text/plain": [
              "<Figure size 640x480 with 1 Axes>"
            ],
            "image/png": "[encoded data removed]"
          },
          "metadata": {}
        }
      ]
    },
    {
      "cell_type": "code",
      "source": [
        "# Step 6: Generate Next Month Range for Forecast\n",
        "next_month_start = data.index[-1] + pd.DateOffset(days=1)\n",
        "next_month_end = next_month_start + pd.DateOffset(days=30)\n",
        "next_month_range = pd.date_range(start=next_month_start, end=next_month_end, freq='D')\n",
        "\n",
        "# Step 7: Generate Forecast for Next Month\n",
        "next_month_forecast = model_fit.forecast(steps=len(next_month_range))\n",
        "\n",
        "# Plot the last month of historical data and forecast label\n",
        "last_month_start = next_month_start - pd.DateOffset(days=30)\n",
        "last_month_data = data.loc[last_month_start:next_month_start - pd.DateOffset(days=1)]\n",
        "\n",
        "plt.plot(last_month_data['Maxtemperature'], label='Last Month Historical Data')\n",
        "plt.plot(next_month_range, next_month_forecast, label='Forecast')\n",
        "plt.xlabel('Date')\n",
        "plt.ylabel('Max Temperature')\n",
        "plt.legend()\n",
        "plt.show()\n"
      ],
      "metadata": {
        "colab": {
          "base_uri": "https://localhost:8080/",
          "height": 449
        },
        "id": "QMeWtn7hZHkv",
        "outputId": "d4ab3707-88cd-4594-f61a-9dc5ace0d921"
      },
      "execution_count": 44,
      "outputs": [
        {
          "output_type": "display_data",
          "data": {
            "text/plain": [
              "<Figure size 640x480 with 1 Axes>"
            ],
            "image/png": "[encoded data removed]"
          },
          "metadata": {}
        }
      ]
    },
    {
      "cell_type": "code",
      "source": [
        "import pandas as pd\n",
        "import matplotlib.pyplot as plt\n",
        "from statsmodels.tsa.arima.model import ARIMA\n",
        "\n",
        "# Step 1: Prepare the data\n",
        "# Assuming you have the data stored in a DataFrame called \"data\" with a column named \"Max Temperature\"\n",
        "\n",
        "# Step 2: Split the data into train and test sets\n",
        "train_data = data[:-30]  # Use all but the last 30 days for training\n",
        "test_data = data[-30:]   # Use the last 30 days for testing\n",
        "\n",
        "# Step 3: Fit the ARIMA model\n",
        "#model = ARIMA(train_data['Maxtemperature'], order=(1, 1, 1))  # Example order, you can tune it\n",
        "#model_fit = model.fit()\n",
        "\n",
        "# Step 4: Generate Next Month Range for Forecast\n",
        "next_month_start = test_data.index[0] + pd.DateOffset(days=1)\n",
        "next_month_end = next_month_start + pd.DateOffset(days=30)\n",
        "next_month_range = pd.date_range(start=next_month_start, end=next_month_end, freq='D')\n",
        "\n",
        "# Step 5: Generate Forecast for Next Month\n",
        "next_month_forecast = model_fit.forecast(steps=len(next_month_range))\n",
        "\n",
        "# Step 6: Plot the last month of historical data and forecast label\n",
        "last_month_start = test_data.index[0] - pd.DateOffset(days=30)\n",
        "last_month_data = data.loc[last_month_start:test_data.index[0] - pd.DateOffset(days=1)]\n",
        "\n",
        "plt.plot(last_month_data.index, last_month_data['Maxtemperature'], label='Last Month Historical Data')\n",
        "plt.plot(next_month_range, next_month_forecast, label='Forecast')\n",
        "plt.xlabel('Date')\n",
        "plt.ylabel('Max Temperature')\n",
        "plt.legend()\n",
        "plt.show()\n"
      ],
      "metadata": {
        "colab": {
          "base_uri": "https://localhost:8080/",
          "height": 608
        },
        "id": "DX02H8gTZXHo",
        "outputId": "dc5b184f-1759-4f18-e5a9-030ed94f7dfd"
      },
      "execution_count": 45,
      "outputs": [
        {
          "output_type": "stream",
          "name": "stderr",
          "text": [
            "/usr/local/lib/python3.10/dist-packages/statsmodels/tsa/base/tsa_model.py:471: ValueWarning: A date index has been provided, but it has no associated frequency information and so will be ignored when e.g. forecasting.\n",
            "  self._init_dates(dates, freq)\n",
            "/usr/local/lib/python3.10/dist-packages/statsmodels/tsa/base/tsa_model.py:471: ValueWarning: A date index has been provided, but it has no associated frequency information and so will be ignored when e.g. forecasting.\n",
            "  self._init_dates(dates, freq)\n",
            "/usr/local/lib/python3.10/dist-packages/statsmodels/tsa/base/tsa_model.py:471: ValueWarning: A date index has been provided, but it has no associated frequency information and so will be ignored when e.g. forecasting.\n",
            "  self._init_dates(dates, freq)\n",
            "/usr/local/lib/python3.10/dist-packages/statsmodels/tsa/base/tsa_model.py:834: ValueWarning: No supported index is available. Prediction results will be given with an integer index beginning at `start`.\n",
            "  return get_prediction_index(\n"
          ]
        },
        {
          "output_type": "display_data",
          "data": {
            "text/plain": [
              "<Figure size 640x480 with 1 Axes>"
            ],
            "image/png": "[encoded data removed]"
          },
          "metadata": {}
        }
      ]
    },
    {
      "cell_type": "code",
      "source": [
        "ndata =data.copy()"
      ],
      "metadata": {
        "id": "KH_llQJfbGLD"
      },
      "execution_count": 48,
      "outputs": []
    },
    {
      "cell_type": "code",
      "source": [
        "ndata"
      ],
      "metadata": {
        "colab": {
          "base_uri": "https://localhost:8080/",
          "height": 455
        },
        "id": "sHloSxNXbNRI",
        "outputId": "b2c9b7ee-9935-454b-ba20-988f96b1b0ec"
      },
      "execution_count": 50,
      "outputs": [
        {
          "output_type": "execute_result",
          "data": {
            "text/plain": [
              "            Maxtemperature  MinTemperature  Minhumidity\n",
              "DATE                                                   \n",
              "2021-01-01            29.0            20.0         96.0\n",
              "2021-01-02            30.0            19.0         89.0\n",
              "2021-01-03            33.0            20.0         96.0\n",
              "2021-01-04            34.0            21.0         75.0\n",
              "2021-01-05            25.0            22.0         96.0\n",
              "...                    ...             ...          ...\n",
              "2023-12-01            31.0            16.0         89.0\n",
              "2023-12-02            32.0            19.0         68.0\n",
              "2023-12-03            33.0            20.0         90.0\n",
              "2023-12-04            34.0            24.0         86.0\n",
              "2023-12-05            30.0            23.0         60.0\n",
              "\n",
              "[881 rows x 3 columns]"
            ],
            "text/html": [
              "\n",
              "  <div id=\"df-68a6695a-43c9-42d0-9f29-81a43ca8abbc\">\n",
              "    <div class=\"colab-df-container\">\n",
              "      <div>\n",
              "<style scoped>\n",
              "    .dataframe tbody tr th:only-of-type {\n",
              "        vertical-align: middle;\n",
              "    }\n",
              "\n",
              "    .dataframe tbody tr th {\n",
              "        vertical-align: top;\n",
              "    }\n",
              "\n",
              "    .dataframe thead th {\n",
              "        text-align: right;\n",
              "    }\n",
              "</style>\n",
              "<table border=\"1\" class=\"dataframe\">\n",
              "  <thead>\n",
              "    <tr style=\"text-align: right;\">\n",
              "      <th></th>\n",
              "      <th>Maxtemperature</th>\n",
              "      <th>MinTemperature</th>\n",
              "      <th>Minhumidity</th>\n",
              "    </tr>\n",
              "    <tr>\n",
              "      <th>DATE</th>\n",
              "      <th></th>\n",
              "      <th></th>\n",
              "      <th></th>\n",
              "    </tr>\n",
              "  </thead>\n",
              "  <tbody>\n",
              "    <tr>\n",
              "      <th>2021-01-01</th>\n",
              "      <td>29.0</td>\n",
              "      <td>20.0</td>\n",
              "      <td>96.0</td>\n",
              "    </tr>\n",
              "    <tr>\n",
              "      <th>2021-01-02</th>\n",
              "      <td>30.0</td>\n",
              "      <td>19.0</td>\n",
              "      <td>89.0</td>\n",
              "    </tr>\n",
              "    <tr>\n",
              "      <th>2021-01-03</th>\n",
              "      <td>33.0</td>\n",
              "      <td>20.0</td>\n",
              "      <td>96.0</td>\n",
              "    </tr>\n",
              "    <tr>\n",
              "      <th>2021-01-04</th>\n",
              "      <td>34.0</td>\n",
              "      <td>21.0</td>\n",
              "      <td>75.0</td>\n",
              "    </tr>\n",
              "    <tr>\n",
              "      <th>2021-01-05</th>\n",
              "      <td>25.0</td>\n",
              "      <td>22.0</td>\n",
              "      <td>96.0</td>\n",
              "    </tr>\n",
              "    <tr>\n",
              "      <th>...</th>\n",
              "      <td>...</td>\n",
              "      <td>...</td>\n",
              "      <td>...</td>\n",
              "    </tr>\n",
              "    <tr>\n",
              "      <th>2023-12-01</th>\n",
              "      <td>31.0</td>\n",
              "      <td>16.0</td>\n",
              "      <td>89.0</td>\n",
              "    </tr>\n",
              "    <tr>\n",
              "      <th>2023-12-02</th>\n",
              "      <td>32.0</td>\n",
              "      <td>19.0</td>\n",
              "      <td>68.0</td>\n",
              "    </tr>\n",
              "    <tr>\n",
              "      <th>2023-12-03</th>\n",
              "      <td>33.0</td>\n",
              "      <td>20.0</td>\n",
              "      <td>90.0</td>\n",
              "    </tr>\n",
              "    <tr>\n",
              "      <th>2023-12-04</th>\n",
              "      <td>34.0</td>\n",
              "      <td>24.0</td>\n",
              "      <td>86.0</td>\n",
              "    </tr>\n",
              "    <tr>\n",
              "      <th>2023-12-05</th>\n",
              "      <td>30.0</td>\n",
              "      <td>23.0</td>\n",
              "      <td>60.0</td>\n",
              "    </tr>\n",
              "  </tbody>\n",
              "</table>\n",
              "<p>881 rows × 3 columns</p>\n",
              "</div>\n",
              "      <button class=\"colab-df-convert\" onclick=\"convertToInteractive('df-68a6695a-43c9-42d0-9f29-81a43ca8abbc')\"\n",
              "              title=\"Convert this dataframe to an interactive table.\"\n",
              "              style=\"display:none;\">\n",
              "        \n",
              "  <svg xmlns=\"http://www.w3.org/2000/svg\" height=\"24px\"viewBox=\"0 0 24 24\"\n",
              "       width=\"24px\">\n",
              "    <path d=\"M0 0h24v24H0V0z\" fill=\"none\"/>\n",
              "    <path d=\"M18.56 5.44l.94 2.06.94-2.06 2.06-.94-2.06-.94-.94-2.06-.94 2.06-2.06.94zm-11 1L8.5 8.5l.94-2.06 2.06-.94-2.06-.94L8.5 2.5l-.94 2.06-2.06.94zm10 10l.94 2.06.94-2.06 2.06-.94-2.06-.94-.94-2.06-.94 2.06-2.06.94z\"/><path d=\"M17.41 7.96l-1.37-1.37c-.4-.4-.92-.59-1.43-.59-.52 0-1.04.2-1.43.59L10.3 9.45l-7.72 7.72c-.78.78-.78 2.05 0 2.83L4 21.41c.39.39.9.59 1.41.59.51 0 1.02-.2 1.41-.59l7.78-7.78 2.81-2.81c.8-.78.8-2.07 0-2.86zM5.41 20L4 18.59l7.72-7.72 1.47 1.35L5.41 20z\"/>\n",
              "  </svg>\n",
              "      </button>\n",
              "      \n",
              "  <style>\n",
              "    .colab-df-container {\n",
              "      display:flex;\n",
              "      flex-wrap:wrap;\n",
              "      gap: 12px;\n",
              "    }\n",
              "\n",
              "    .colab-df-convert {\n",
              "      background-color: #E8F0FE;\n",
              "      border: none;\n",
              "      border-radius: 50%;\n",
              "      cursor: pointer;\n",
              "      display: none;\n",
              "      fill: #1967D2;\n",
              "      height: 32px;\n",
              "      padding: 0 0 0 0;\n",
              "      width: 32px;\n",
              "    }\n",
              "\n",
              "    .colab-df-convert:hover {\n",
              "      background-color: #E2EBFA;\n",
              "      box-shadow: 0px 1px 2px rgba(60, 64, 67, 0.3), 0px 1px 3px 1px rgba(60, 64, 67, 0.15);\n",
              "      fill: #174EA6;\n",
              "    }\n",
              "\n",
              "    [theme=dark] .colab-df-convert {\n",
              "      background-color: #3B4455;\n",
              "      fill: #D2E3FC;\n",
              "    }\n",
              "\n",
              "    [theme=dark] .colab-df-convert:hover {\n",
              "      background-color: #434B5C;\n",
              "      box-shadow: 0px 1px 3px 1px rgba(0, 0, 0, 0.15);\n",
              "      filter: drop-shadow(0px 1px 2px rgba(0, 0, 0, 0.3));\n",
              "      fill: #FFFFFF;\n",
              "    }\n",
              "  </style>\n",
              "\n",
              "      <script>\n",
              "        const buttonEl =\n",
              "          document.querySelector('#df-68a6695a-43c9-42d0-9f29-81a43ca8abbc button.colab-df-convert');\n",
              "        buttonEl.style.display =\n",
              "          google.colab.kernel.accessAllowed ? 'block' : 'none';\n",
              "\n",
              "        async function convertToInteractive(key) {\n",
              "          const element = document.querySelector('#df-68a6695a-43c9-42d0-9f29-81a43ca8abbc');\n",
              "          const dataTable =\n",
              "            await google.colab.kernel.invokeFunction('convertToInteractive',\n",
              "                                                     [key], {});\n",
              "          if (!dataTable) return;\n",
              "\n",
              "          const docLinkHtml = 'Like what you see? Visit the ' +\n",
              "            '<a target=\"_blank\" href=https://colab.research.google.com/notebooks/data_table.ipynb>data table notebook</a>'\n",
              "            + ' to learn more about interactive tables.';\n",
              "          element.innerHTML = '';\n",
              "          dataTable['output_type'] = 'display_data';\n",
              "          await google.colab.output.renderOutput(dataTable, element);\n",
              "          const docLink = document.createElement('div');\n",
              "          docLink.innerHTML = docLinkHtml;\n",
              "          element.appendChild(docLink);\n",
              "        }\n",
              "      </script>\n",
              "    </div>\n",
              "  </div>\n",
              "  "
            ]
          },
          "metadata": {},
          "execution_count": 50
        }
      ]
    },
    {
      "cell_type": "code",
      "source": [
        "plt.figure(figsize =(10,10))\n",
        "ndata.Maxtemperature.plot(title=\"temp\",fontsize=15,color=\"red\")\n",
        "plt.show()"
      ],
      "metadata": {
        "colab": {
          "base_uri": "https://localhost:8080/",
          "height": 789
        },
        "id": "5eGEFE2IbV6Q",
        "outputId": "052af710-5553-4ae0-9561-7deb1a24ab9d"
      },
      "execution_count": 53,
      "outputs": [
        {
          "output_type": "display_data",
          "data": {
            "text/plain": [
              "<Figure size 1000x1000 with 1 Axes>"
            ],
            "image/png": "[encoded data removed]"
          },
          "metadata": {}
        }
      ]
    },
    {
      "cell_type": "code",
      "source": [
        "from statsmodels.tsa.stattools import adfuller \n",
        "def sdf_test(ndata):\n",
        "  ndatatest = adfuller(ndata,autolag =\"AIC\")\n",
        "  print(\"1.ADF:\",ndatatest[0])\n",
        "  print(\"2.P-value:\",ndatatest[1])\n",
        "  print(\"3.num_of_lags\",ndatatest[2])\n",
        "  print(\"4.num_of_observation:\",ndatatest[3])\n",
        "  print(\"5.crtical values:\")\n",
        "  for key,val in ndatatest[4].items():\n",
        "    print(\"\\t\",key,\": \",val)"
      ],
      "metadata": {
        "id": "48OIq51jbrKp"
      },
      "execution_count": 54,
      "outputs": []
    },
    {
      "cell_type": "code",
      "source": [
        "sdf_test(ndata[\"Maxtemperature\"])"
      ],
      "metadata": {
        "colab": {
          "base_uri": "https://localhost:8080/"
        },
        "id": "V8NbeJSHb5NC",
        "outputId": "7822c64c-0093-4d36-e718-45942a33c1d9"
      },
      "execution_count": 55,
      "outputs": [
        {
          "output_type": "stream",
          "name": "stdout",
          "text": [
            "1.ADF: -7.163984323659976\n",
            "2.P-value: 2.918567609174536e-10\n",
            "3.num_of_lags 6\n",
            "4.num_of_observation: 874\n",
            "5.crtical values:\n",
            "\t 1% :  -3.437854130362047\n",
            "\t 5% :  -2.8648525821630173\n",
            "\t 10% :  -2.5685338603647714\n"
          ]
        }
      ]
    },
    {
      "cell_type": "code",
      "source": [
        "!pip install pmdarima"
      ],
      "metadata": {
        "colab": {
          "base_uri": "https://localhost:8080/"
        },
        "id": "usQZ-qNFcd6H",
        "outputId": "a837dbff-0c51-4521-8052-3e47f65cafe9"
      },
      "execution_count": 56,
      "outputs": [
        {
          "output_type": "stream",
          "name": "stdout",
          "text": [
            "Looking in indexes: https://pypi.org/simple, https://us-python.pkg.dev/colab-wheels/public/simple/\n",
            "Collecting pmdarima\n",
            "  Downloading pmdarima-2.0.3-cp310-cp310-manylinux_2_17_x86_64.manylinux2014_x86_64.manylinux_2_28_x86_64.whl (1.8 MB)\n",
            "\u001b[2K     \u001b[90m━━━━━━━━━━━━━━━━━━━━━━━━━━━━━━━━━━━━━━━━\u001b[0m \u001b[32m1.8/1.8 MB\u001b[0m \u001b[31m34.1 MB/s\u001b[0m eta \u001b[36m0:00:00\u001b[0m\n",
            "\u001b[?25hRequirement already satisfied: joblib>=0.11 in /usr/local/lib/python3.10/dist-packages (from pmdarima) (1.2.0)\n",
            "Requirement already satisfied: Cython!=0.29.18,!=0.29.31,>=0.29 in /usr/local/lib/python3.10/dist-packages (from pmdarima) (0.29.34)\n",
            "Requirement already satisfied: numpy>=1.21.2 in /usr/local/lib/python3.10/dist-packages (from pmdarima) (1.22.4)\n",
            "Requirement already satisfied: pandas>=0.19 in /usr/local/lib/python3.10/dist-packages (from pmdarima) (1.5.3)\n",
            "Requirement already satisfied: scikit-learn>=0.22 in /usr/local/lib/python3.10/dist-packages (from pmdarima) (1.2.2)\n",
            "Requirement already satisfied: scipy>=1.3.2 in /usr/local/lib/python3.10/dist-packages (from pmdarima) (1.10.1)\n",
            "Requirement already satisfied: statsmodels>=0.13.2 in /usr/local/lib/python3.10/dist-packages (from pmdarima) (0.13.5)\n",
            "Requirement already satisfied: urllib3 in /usr/local/lib/python3.10/dist-packages (from pmdarima) (1.26.15)\n",
            "Requirement already satisfied: setuptools!=50.0.0,>=38.6.0 in /usr/local/lib/python3.10/dist-packages (from pmdarima) (67.7.2)\n",
            "Requirement already satisfied: python-dateutil>=2.8.1 in /usr/local/lib/python3.10/dist-packages (from pandas>=0.19->pmdarima) (2.8.2)\n",
            "Requirement already satisfied: pytz>=2020.1 in /usr/local/lib/python3.10/dist-packages (from pandas>=0.19->pmdarima) (2022.7.1)\n",
            "Requirement already satisfied: threadpoolctl>=2.0.0 in /usr/local/lib/python3.10/dist-packages (from scikit-learn>=0.22->pmdarima) (3.1.0)\n",
            "Requirement already satisfied: patsy>=0.5.2 in /usr/local/lib/python3.10/dist-packages (from statsmodels>=0.13.2->pmdarima) (0.5.3)\n",
            "Requirement already satisfied: packaging>=21.3 in /usr/local/lib/python3.10/dist-packages (from statsmodels>=0.13.2->pmdarima) (23.1)\n",
            "Requirement already satisfied: six in /usr/local/lib/python3.10/dist-packages (from patsy>=0.5.2->statsmodels>=0.13.2->pmdarima) (1.16.0)\n",
            "Installing collected packages: pmdarima\n",
            "Successfully installed pmdarima-2.0.3\n"
          ]
        }
      ]
    },
    {
      "cell_type": "code",
      "source": [
        "from pmdarima import auto_arima\n",
        "arimadata = auto_arima(ndata[\"Maxtemperature\"],trace=True)"
      ],
      "metadata": {
        "colab": {
          "base_uri": "https://localhost:8080/"
        },
        "id": "yyVIVObucl_t",
        "outputId": "81bd699f-9403-4460-ef9e-035ed44027a7"
      },
      "execution_count": 59,
      "outputs": [
        {
          "output_type": "stream",
          "name": "stdout",
          "text": [
            "Performing stepwise search to minimize aic\n",
            " ARIMA(2,1,2)(0,0,0)[0] intercept   : AIC=3938.411, Time=1.74 sec\n",
            " ARIMA(0,1,0)(0,0,0)[0] intercept   : AIC=4211.014, Time=0.04 sec\n",
            " ARIMA(1,1,0)(0,0,0)[0] intercept   : AIC=4091.207, Time=0.10 sec\n",
            " ARIMA(0,1,1)(0,0,0)[0] intercept   : AIC=4007.962, Time=0.18 sec\n",
            " ARIMA(0,1,0)(0,0,0)[0]             : AIC=4209.014, Time=0.05 sec\n",
            " ARIMA(1,1,2)(0,0,0)[0] intercept   : AIC=3939.172, Time=0.71 sec\n",
            " ARIMA(2,1,1)(0,0,0)[0] intercept   : AIC=3938.192, Time=0.75 sec\n",
            " ARIMA(1,1,1)(0,0,0)[0] intercept   : AIC=3943.108, Time=0.78 sec\n",
            " ARIMA(2,1,0)(0,0,0)[0] intercept   : AIC=4067.938, Time=0.41 sec\n",
            " ARIMA(3,1,1)(0,0,0)[0] intercept   : AIC=3939.140, Time=1.90 sec\n",
            " ARIMA(3,1,0)(0,0,0)[0] intercept   : AIC=4027.735, Time=0.28 sec\n",
            " ARIMA(3,1,2)(0,0,0)[0] intercept   : AIC=3942.029, Time=1.13 sec\n",
            " ARIMA(2,1,1)(0,0,0)[0]             : AIC=3936.548, Time=0.30 sec\n",
            " ARIMA(1,1,1)(0,0,0)[0]             : AIC=3941.424, Time=0.16 sec\n",
            " ARIMA(2,1,0)(0,0,0)[0]             : AIC=4065.940, Time=0.07 sec\n",
            " ARIMA(3,1,1)(0,0,0)[0]             : AIC=3937.484, Time=0.29 sec\n",
            " ARIMA(2,1,2)(0,0,0)[0]             : AIC=inf, Time=2.54 sec\n",
            " ARIMA(1,1,0)(0,0,0)[0]             : AIC=4089.208, Time=0.08 sec\n",
            " ARIMA(1,1,2)(0,0,0)[0]             : AIC=3937.531, Time=0.73 sec\n",
            " ARIMA(3,1,0)(0,0,0)[0]             : AIC=4025.736, Time=0.21 sec\n",
            " ARIMA(3,1,2)(0,0,0)[0]             : AIC=3940.386, Time=1.20 sec\n",
            "\n",
            "Best model:  ARIMA(2,1,1)(0,0,0)[0]          \n",
            "Total fit time: 13.694 seconds\n"
          ]
        }
      ]
    },
    {
      "cell_type": "code",
      "source": [
        "# Step 3: Fit the ARIMA model\n",
        "model = ARIMA(train_data['Maxtemperature'], order=(2, 1, 1))  # Example order, you can tune it\n",
        "model_fit = model.fit()"
      ],
      "metadata": {
        "colab": {
          "base_uri": "https://localhost:8080/"
        },
        "id": "KzSbWJ_1jJeW",
        "outputId": "fa45b2e1-17f1-43b8-caeb-3b3e065f6e4e"
      },
      "execution_count": 60,
      "outputs": [
        {
          "output_type": "stream",
          "name": "stderr",
          "text": [
            "/usr/local/lib/python3.10/dist-packages/statsmodels/tsa/base/tsa_model.py:471: ValueWarning: A date index has been provided, but it has no associated frequency information and so will be ignored when e.g. forecasting.\n",
            "  self._init_dates(dates, freq)\n",
            "/usr/local/lib/python3.10/dist-packages/statsmodels/tsa/base/tsa_model.py:471: ValueWarning: A date index has been provided, but it has no associated frequency information and so will be ignored when e.g. forecasting.\n",
            "  self._init_dates(dates, freq)\n",
            "/usr/local/lib/python3.10/dist-packages/statsmodels/tsa/base/tsa_model.py:471: ValueWarning: A date index has been provided, but it has no associated frequency information and so will be ignored when e.g. forecasting.\n",
            "  self._init_dates(dates, freq)\n",
            "/usr/local/lib/python3.10/dist-packages/statsmodels/tsa/statespace/sarimax.py:966: UserWarning: Non-stationary starting autoregressive parameters found. Using zeros as starting parameters.\n",
            "  warn('Non-stationary starting autoregressive parameters'\n",
            "/usr/local/lib/python3.10/dist-packages/statsmodels/tsa/statespace/sarimax.py:978: UserWarning: Non-invertible starting MA parameters found. Using zeros as starting parameters.\n",
            "  warn('Non-invertible starting MA parameters found.'\n"
          ]
        }
      ]
    },
    {
      "cell_type": "code",
      "source": [
        "# Step 4: Generate Next Month Range for Forecast\n",
        "next_month_start = test_data.index[0] + pd.DateOffset(days=1)\n",
        "next_month_end = next_month_start + pd.DateOffset(days=30)\n",
        "next_month_range = pd.date_range(start=next_month_start, end=next_month_end, freq='D')\n",
        "\n",
        "# Step 5: Generate Forecast for Next Month\n",
        "next_month_forecast = model_fit.forecast(steps=len(next_month_range))\n",
        "\n",
        "# Step 6: Plot the last month of historical data and forecast label\n",
        "last_month_start = test_data.index[0] - pd.DateOffset(days=30)\n",
        "last_month_data = data.loc[last_month_start:test_data.index[0] - pd.DateOffset(days=1)]\n",
        "\n",
        "plt.plot(last_month_data.index, last_month_data['Maxtemperature'], label='Last Month Historical Data')\n",
        "plt.plot(next_month_range, next_month_forecast, label='Forecast')\n",
        "plt.xlabel('Date')\n",
        "plt.ylabel('Max Temperature')\n",
        "plt.legend()\n",
        "plt.show()\n"
      ],
      "metadata": {
        "colab": {
          "base_uri": "https://localhost:8080/",
          "height": 504
        },
        "id": "K_dHJU2OjYnx",
        "outputId": "e53eb8da-a433-4487-d616-a7d9fda7cbf3"
      },
      "execution_count": 62,
      "outputs": [
        {
          "output_type": "stream",
          "name": "stderr",
          "text": [
            "/usr/local/lib/python3.10/dist-packages/statsmodels/tsa/base/tsa_model.py:834: ValueWarning: No supported index is available. Prediction results will be given with an integer index beginning at `start`.\n",
            "  return get_prediction_index(\n"
          ]
        },
        {
          "output_type": "display_data",
          "data": {
            "text/plain": [
              "<Figure size 640x480 with 1 Axes>"
            ],
            "image/png": "[encoded data removed]"
          },
          "metadata": {}
        }
      ]
    },
    {
      "cell_type": "code",
      "source": [],
      "metadata": {
        "id": "9Tp29BbBjYhG"
      },
      "execution_count": null,
      "outputs": []
    },
    {
      "cell_type": "code",
      "source": [
        "# Step 3: Generate the forecast for the month of June\n",
        "june_start = pd.to_datetime('2023-06-01')\n",
        "june_end = pd.to_datetime('2023-06-30')\n",
        "june_range = pd.date_range(start=june_start, end=june_end, freq='D')\n",
        "june_forecast = model_fit.forecast(steps=len(june_range))\n",
        "\n",
        "# Step 4: Print the predicted dates and corresponding maximum temperatures for June\n",
        "for date, temp in zip(june_range, june_forecast):\n",
        "    print(f\"Date: {date.strftime('%Y-%m-%d')}, Max Temperature: {temp}\")"
      ],
      "metadata": {
        "colab": {
          "base_uri": "https://localhost:8080/"
        },
        "id": "0q3jspHuZqdE",
        "outputId": "f3f21921-6fe4-4124-d475-429f746d4fba"
      },
      "execution_count": 61,
      "outputs": [
        {
          "output_type": "stream",
          "name": "stdout",
          "text": [
            "Date: 2023-06-01, Max Temperature: 31.131656860816104\n",
            "Date: 2023-06-02, Max Temperature: 31.369688418332604\n",
            "Date: 2023-06-03, Max Temperature: 31.563990412946243\n",
            "Date: 2023-06-04, Max Temperature: 31.658882645759398\n",
            "Date: 2023-06-05, Max Temperature: 31.712477938140285\n",
            "Date: 2023-06-06, Max Temperature: 31.741368879419177\n",
            "Date: 2023-06-07, Max Temperature: 31.757169740202592\n",
            "Date: 2023-06-08, Max Temperature: 31.765772328379565\n",
            "Date: 2023-06-09, Max Temperature: 31.77046255056101\n",
            "Date: 2023-06-10, Max Temperature: 31.773018575021617\n",
            "Date: 2023-06-11, Max Temperature: 31.774411721759716\n",
            "Date: 2023-06-12, Max Temperature: 31.775171015584558\n",
            "Date: 2023-06-13, Max Temperature: 31.77558485206298\n",
            "Date: 2023-06-14, Max Temperature: 31.77581040361888\n",
            "Date: 2023-06-15, Max Temperature: 31.775933335198374\n",
            "Date: 2023-06-16, Max Temperature: 31.776000336141454\n",
            "Date: 2023-06-17, Max Temperature: 31.77603685342184\n",
            "Date: 2023-06-18, Max Temperature: 31.776056756301582\n",
            "Date: 2023-06-19, Max Temperature: 31.776067603895456\n",
            "Date: 2023-06-20, Max Temperature: 31.776073516119915\n",
            "Date: 2023-06-21, Max Temperature: 31.776076738438015\n",
            "Date: 2023-06-22, Max Temperature: 31.776078494686278\n",
            "Date: 2023-06-23, Max Temperature: 31.776079451887853\n",
            "Date: 2023-06-24, Max Temperature: 31.77607997358793\n",
            "Date: 2023-06-25, Max Temperature: 31.776080257928218\n",
            "Date: 2023-06-26, Max Temperature: 31.776080412901166\n",
            "Date: 2023-06-27, Max Temperature: 31.776080497365506\n",
            "Date: 2023-06-28, Max Temperature: 31.776080543400795\n",
            "Date: 2023-06-29, Max Temperature: 31.776080568491242\n",
            "Date: 2023-06-30, Max Temperature: 31.776080582166195\n"
          ]
        },
        {
          "output_type": "stream",
          "name": "stderr",
          "text": [
            "/usr/local/lib/python3.10/dist-packages/statsmodels/tsa/base/tsa_model.py:834: ValueWarning: No supported index is available. Prediction results will be given with an integer index beginning at `start`.\n",
            "  return get_prediction_index(\n"
          ]
        }
      ]
    },
    {
      "cell_type": "code",
      "source": [
        "import statsmodels.api as sm"
      ],
      "metadata": {
        "id": "UMfvd-6NjmOW"
      },
      "execution_count": 63,
      "outputs": []
    },
    {
      "cell_type": "code",
      "source": [
        "train=ndata.iloc[:-30]\n",
        "test=ndata.iloc[-30:]\n",
        "print(train.shape,test.shape)\n",
        "print(ndata.shape)"
      ],
      "metadata": {
        "colab": {
          "base_uri": "https://localhost:8080/"
        },
        "id": "wacXLxvDjxOf",
        "outputId": "bf924955-ee12-46eb-c53a-8d75f7b759e6"
      },
      "execution_count": 65,
      "outputs": [
        {
          "output_type": "stream",
          "name": "stdout",
          "text": [
            "(851, 3) (30, 3)\n",
            "(881, 3)\n"
          ]
        }
      ]
    },
    {
      "cell_type": "code",
      "source": [
        "model = sm.tsa.arima.ARIMA(train[\"Maxtemperature\"],order=(2,1,1))\n",
        "model = model.fit()\n",
        "model.summary()"
      ],
      "metadata": {
        "colab": {
          "base_uri": "https://localhost:8080/",
          "height": 627
        },
        "id": "uEIrRatpj2tH",
        "outputId": "0e858cc9-1b4c-42c7-892b-7b6c5556aaca"
      },
      "execution_count": 66,
      "outputs": [
        {
          "output_type": "stream",
          "name": "stderr",
          "text": [
            "/usr/local/lib/python3.10/dist-packages/statsmodels/tsa/base/tsa_model.py:471: ValueWarning: A date index has been provided, but it has no associated frequency information and so will be ignored when e.g. forecasting.\n",
            "  self._init_dates(dates, freq)\n",
            "/usr/local/lib/python3.10/dist-packages/statsmodels/tsa/base/tsa_model.py:471: ValueWarning: A date index has been provided, but it has no associated frequency information and so will be ignored when e.g. forecasting.\n",
            "  self._init_dates(dates, freq)\n",
            "/usr/local/lib/python3.10/dist-packages/statsmodels/tsa/base/tsa_model.py:471: ValueWarning: A date index has been provided, but it has no associated frequency information and so will be ignored when e.g. forecasting.\n",
            "  self._init_dates(dates, freq)\n",
            "/usr/local/lib/python3.10/dist-packages/statsmodels/tsa/statespace/sarimax.py:966: UserWarning: Non-stationary starting autoregressive parameters found. Using zeros as starting parameters.\n",
            "  warn('Non-stationary starting autoregressive parameters'\n",
            "/usr/local/lib/python3.10/dist-packages/statsmodels/tsa/statespace/sarimax.py:978: UserWarning: Non-invertible starting MA parameters found. Using zeros as starting parameters.\n",
            "  warn('Non-invertible starting MA parameters found.'\n"
          ]
        },
        {
          "output_type": "execute_result",
          "data": {
            "text/plain": [
              "<class 'statsmodels.iolib.summary.Summary'>\n",
              "\"\"\"\n",
              "                               SARIMAX Results                                \n",
              "==============================================================================\n",
              "Dep. Variable:         Maxtemperature   No. Observations:                  851\n",
              "Model:                 ARIMA(2, 1, 1)   Log Likelihood               -1903.788\n",
              "Date:                Tue, 06 Jun 2023   AIC                           3815.576\n",
              "Time:                        07:15:58   BIC                           3834.557\n",
              "Sample:                             0   HQIC                          3822.847\n",
              "                                - 851                                         \n",
              "Covariance Type:                  opg                                         \n",
              "==============================================================================\n",
              "                 coef    std err          z      P>|z|      [0.025      0.975]\n",
              "------------------------------------------------------------------------------\n",
              "ar.L1          0.3745      0.014     26.896      0.000       0.347       0.402\n",
              "ar.L2          0.0929      0.027      3.417      0.001       0.040       0.146\n",
              "ma.L1         -0.9573      0.013    -73.986      0.000      -0.983      -0.932\n",
              "sigma2         5.1543      0.092     55.764      0.000       4.973       5.336\n",
              "===================================================================================\n",
              "Ljung-Box (L1) (Q):                   0.01   Jarque-Bera (JB):             37172.40\n",
              "Prob(Q):                              0.92   Prob(JB):                         0.00\n",
              "Heteroskedasticity (H):               0.30   Skew:                            -2.58\n",
              "Prob(H) (two-sided):                  0.00   Kurtosis:                        34.98\n",
              "===================================================================================\n",
              "\n",
              "Warnings:\n",
              "[1] Covariance matrix calculated using the outer product of gradients (complex-step).\n",
              "\"\"\""
            ],
            "text/html": [
              "<table class=\"simpletable\">\n",
              "<caption>SARIMAX Results</caption>\n",
              "<tr>\n",
              "  <th>Dep. Variable:</th>    <td>Maxtemperature</td>  <th>  No. Observations:  </th>    <td>851</td>   \n",
              "</tr>\n",
              "<tr>\n",
              "  <th>Model:</th>            <td>ARIMA(2, 1, 1)</td>  <th>  Log Likelihood     </th> <td>-1903.788</td>\n",
              "</tr>\n",
              "<tr>\n",
              "  <th>Date:</th>            <td>Tue, 06 Jun 2023</td> <th>  AIC                </th> <td>3815.576</td> \n",
              "</tr>\n",
              "<tr>\n",
              "  <th>Time:</th>                <td>07:15:58</td>     <th>  BIC                </th> <td>3834.557</td> \n",
              "</tr>\n",
              "<tr>\n",
              "  <th>Sample:</th>                  <td>0</td>        <th>  HQIC               </th> <td>3822.847</td> \n",
              "</tr>\n",
              "<tr>\n",
              "  <th></th>                      <td> - 851</td>      <th>                     </th>     <td> </td>    \n",
              "</tr>\n",
              "<tr>\n",
              "  <th>Covariance Type:</th>        <td>opg</td>       <th>                     </th>     <td> </td>    \n",
              "</tr>\n",
              "</table>\n",
              "<table class=\"simpletable\">\n",
              "<tr>\n",
              "     <td></td>       <th>coef</th>     <th>std err</th>      <th>z</th>      <th>P>|z|</th>  <th>[0.025</th>    <th>0.975]</th>  \n",
              "</tr>\n",
              "<tr>\n",
              "  <th>ar.L1</th>  <td>    0.3745</td> <td>    0.014</td> <td>   26.896</td> <td> 0.000</td> <td>    0.347</td> <td>    0.402</td>\n",
              "</tr>\n",
              "<tr>\n",
              "  <th>ar.L2</th>  <td>    0.0929</td> <td>    0.027</td> <td>    3.417</td> <td> 0.001</td> <td>    0.040</td> <td>    0.146</td>\n",
              "</tr>\n",
              "<tr>\n",
              "  <th>ma.L1</th>  <td>   -0.9573</td> <td>    0.013</td> <td>  -73.986</td> <td> 0.000</td> <td>   -0.983</td> <td>   -0.932</td>\n",
              "</tr>\n",
              "<tr>\n",
              "  <th>sigma2</th> <td>    5.1543</td> <td>    0.092</td> <td>   55.764</td> <td> 0.000</td> <td>    4.973</td> <td>    5.336</td>\n",
              "</tr>\n",
              "</table>\n",
              "<table class=\"simpletable\">\n",
              "<tr>\n",
              "  <th>Ljung-Box (L1) (Q):</th>     <td>0.01</td> <th>  Jarque-Bera (JB):  </th> <td>37172.40</td>\n",
              "</tr>\n",
              "<tr>\n",
              "  <th>Prob(Q):</th>                <td>0.92</td> <th>  Prob(JB):          </th>   <td>0.00</td>  \n",
              "</tr>\n",
              "<tr>\n",
              "  <th>Heteroskedasticity (H):</th> <td>0.30</td> <th>  Skew:              </th>   <td>-2.58</td> \n",
              "</tr>\n",
              "<tr>\n",
              "  <th>Prob(H) (two-sided):</th>    <td>0.00</td> <th>  Kurtosis:          </th>   <td>34.98</td> \n",
              "</tr>\n",
              "</table><br/><br/>Warnings:<br/>[1] Covariance matrix calculated using the outer product of gradients (complex-step)."
            ]
          },
          "metadata": {},
          "execution_count": 66
        }
      ]
    },
    {
      "cell_type": "code",
      "source": [
        "start = len(train)\n",
        "end = len(train)+len(test)-1\n",
        "pred=model.predict(start=start,end =end,typ=\"levels\").rename(\"ARIMA predictions\")\n",
        "pred.index = ndata.index[start:end+1]\n",
        "print(pred)\n",
        "pred.dtypes"
      ],
      "metadata": {
        "colab": {
          "base_uri": "https://localhost:8080/"
        },
        "id": "vXF5LkIykAmZ",
        "outputId": "7dc902df-4116-4a47-f530-71b24bdfa220"
      },
      "execution_count": 67,
      "outputs": [
        {
          "output_type": "stream",
          "name": "stdout",
          "text": [
            "DATE\n",
            "2023-07-01    31.131657\n",
            "2023-07-02    31.369688\n",
            "2023-07-03    31.563990\n",
            "2023-07-04    31.658883\n",
            "2023-07-05    31.712478\n",
            "2023-08-01    31.741369\n",
            "2023-08-02    31.757170\n",
            "2023-08-03    31.765772\n",
            "2023-08-04    31.770463\n",
            "2023-08-05    31.773019\n",
            "2023-09-01    31.774412\n",
            "2023-09-02    31.775171\n",
            "2023-09-03    31.775585\n",
            "2023-09-04    31.775810\n",
            "2023-09-05    31.775933\n",
            "2023-10-01    31.776000\n",
            "2023-10-02    31.776037\n",
            "2023-10-03    31.776057\n",
            "2023-10-04    31.776068\n",
            "2023-10-05    31.776074\n",
            "2023-11-01    31.776077\n",
            "2023-11-02    31.776078\n",
            "2023-11-03    31.776079\n",
            "2023-11-04    31.776080\n",
            "2023-11-05    31.776080\n",
            "2023-12-01    31.776080\n",
            "2023-12-02    31.776080\n",
            "2023-12-03    31.776081\n",
            "2023-12-04    31.776081\n",
            "2023-12-05    31.776081\n",
            "Name: ARIMA predictions, dtype: float64\n"
          ]
        },
        {
          "output_type": "stream",
          "name": "stderr",
          "text": [
            "/usr/local/lib/python3.10/dist-packages/statsmodels/tsa/base/tsa_model.py:834: ValueWarning: No supported index is available. Prediction results will be given with an integer index beginning at `start`.\n",
            "  return get_prediction_index(\n"
          ]
        },
        {
          "output_type": "execute_result",
          "data": {
            "text/plain": [
              "dtype('float64')"
            ]
          },
          "metadata": {},
          "execution_count": 67
        }
      ]
    },
    {
      "cell_type": "code",
      "source": [
        "pred.plot(legend = True)\n",
        "test[\"Maxtemperature\"].plot(legend =True)"
      ],
      "metadata": {
        "colab": {
          "base_uri": "https://localhost:8080/",
          "height": 450
        },
        "id": "vG8AIk5rkfHt",
        "outputId": "1391b546-8886-45d6-b032-5f3310c3490d"
      },
      "execution_count": 68,
      "outputs": [
        {
          "output_type": "execute_result",
          "data": {
            "text/plain": [
              "<Axes: xlabel='DATE'>"
            ]
          },
          "metadata": {},
          "execution_count": 68
        },
        {
          "output_type": "display_data",
          "data": {
            "text/plain": [
              "<Figure size 640x480 with 1 Axes>"
            ],
            "image/png": "[encoded data removed]"
          },
          "metadata": {}
        }
      ]
    },
    {
      "cell_type": "code",
      "source": [
        "from sklearn.metrics import mean_squared_error\n",
        "from math import sqrt"
      ],
      "metadata": {
        "id": "66hQbsYKlTGh"
      },
      "execution_count": 69,
      "outputs": []
    },
    {
      "cell_type": "code",
      "source": [
        "rmse=sqrt(mean_squared_error(pred,test[\"Maxtemperature\"]))"
      ],
      "metadata": {
        "id": "uuB3hlyolVCV"
      },
      "execution_count": 71,
      "outputs": []
    },
    {
      "cell_type": "code",
      "source": [
        "rmse"
      ],
      "metadata": {
        "colab": {
          "base_uri": "https://localhost:8080/"
        },
        "id": "xVw5_cwblk1J",
        "outputId": "8cc19068-6119-430f-f263-3be74d6f18b7"
      },
      "execution_count": 72,
      "outputs": [
        {
          "output_type": "execute_result",
          "data": {
            "text/plain": [
              "1.7495150529985783"
            ]
          },
          "metadata": {},
          "execution_count": 72
        }
      ]
    },
    {
      "cell_type": "code",
      "source": [
        "model2 = sm.tsa.arima.ARIMA(ndata[\"Maxtemperature\"],order=(2,1,1))\n",
        "model2=model2.fit()"
      ],
      "metadata": {
        "colab": {
          "base_uri": "https://localhost:8080/"
        },
        "id": "-1pYYL9HlsqC",
        "outputId": "9fbecd65-c5bb-4616-cc47-706e4505bd34"
      },
      "execution_count": 73,
      "outputs": [
        {
          "output_type": "stream",
          "name": "stderr",
          "text": [
            "/usr/local/lib/python3.10/dist-packages/statsmodels/tsa/base/tsa_model.py:471: ValueWarning: A date index has been provided, but it has no associated frequency information and so will be ignored when e.g. forecasting.\n",
            "  self._init_dates(dates, freq)\n",
            "/usr/local/lib/python3.10/dist-packages/statsmodels/tsa/base/tsa_model.py:471: ValueWarning: A date index has been provided, but it has no associated frequency information and so will be ignored when e.g. forecasting.\n",
            "  self._init_dates(dates, freq)\n",
            "/usr/local/lib/python3.10/dist-packages/statsmodels/tsa/base/tsa_model.py:471: ValueWarning: A date index has been provided, but it has no associated frequency information and so will be ignored when e.g. forecasting.\n",
            "  self._init_dates(dates, freq)\n",
            "/usr/local/lib/python3.10/dist-packages/statsmodels/tsa/statespace/sarimax.py:966: UserWarning: Non-stationary starting autoregressive parameters found. Using zeros as starting parameters.\n",
            "  warn('Non-stationary starting autoregressive parameters'\n",
            "/usr/local/lib/python3.10/dist-packages/statsmodels/tsa/statespace/sarimax.py:978: UserWarning: Non-invertible starting MA parameters found. Using zeros as starting parameters.\n",
            "  warn('Non-invertible starting MA parameters found.'\n"
          ]
        }
      ]
    },
    {
      "cell_type": "code",
      "source": [
        "future_dates = pd.date_range(start=\"01-05-2023\",end=\"30-05-2023\")\n",
        "print(future_dates)"
      ],
      "metadata": {
        "colab": {
          "base_uri": "https://localhost:8080/"
        },
        "id": "fKSDlVNyl6TE",
        "outputId": "83e9ca4d-1465-4bfa-b69a-baacd2956357"
      },
      "execution_count": 78,
      "outputs": [
        {
          "output_type": "stream",
          "name": "stdout",
          "text": [
            "DatetimeIndex(['2023-01-05', '2023-01-06', '2023-01-07', '2023-01-08',\n",
            "               '2023-01-09', '2023-01-10', '2023-01-11', '2023-01-12',\n",
            "               '2023-01-13', '2023-01-14',\n",
            "               ...\n",
            "               '2023-05-21', '2023-05-22', '2023-05-23', '2023-05-24',\n",
            "               '2023-05-25', '2023-05-26', '2023-05-27', '2023-05-28',\n",
            "               '2023-05-29', '2023-05-30'],\n",
            "              dtype='datetime64[ns]', length=146, freq='D')\n"
          ]
        },
        {
          "output_type": "stream",
          "name": "stderr",
          "text": [
            "<ipython-input-78-bbac4ae40bdb>:1: UserWarning: Parsing dates in DD/MM/YYYY format when dayfirst=False (the default) was specified. This may lead to inconsistently parsed dates! Specify a format to ensure consistent parsing.\n",
            "  future_dates = pd.date_range(start=\"01-05-2023\",end=\"30-05-2023\")\n"
          ]
        }
      ]
    },
    {
      "cell_type": "code",
      "source": [
        "pred = model2.predict(start=len(ndata),end=len(ndata)+29,types=\"levels\").rename(\"Arima Prediction\")\n",
        "pred.index = future_dates\n",
        "pred"
      ],
      "metadata": {
        "colab": {
          "base_uri": "https://localhost:8080/",
          "height": 434
        },
        "id": "ZVHsS315mWws",
        "outputId": "b82371cd-944a-47e4-88df-d0cdab9a054a"
      },
      "execution_count": 77,
      "outputs": [
        {
          "output_type": "stream",
          "name": "stderr",
          "text": [
            "/usr/local/lib/python3.10/dist-packages/statsmodels/tsa/base/tsa_model.py:834: ValueWarning: No supported index is available. Prediction results will be given with an integer index beginning at `start`.\n",
            "  return get_prediction_index(\n"
          ]
        },
        {
          "output_type": "error",
          "ename": "ValueError",
          "evalue": "ignored",
          "traceback": [
            "\u001b[0;31m---------------------------------------------------------------------------\u001b[0m",
            "\u001b[0;31mValueError\u001b[0m                                Traceback (most recent call last)",
            "\u001b[0;32m<ipython-input-77-7b1d5daf2f5e>\u001b[0m in \u001b[0;36m<cell line: 2>\u001b[0;34m()\u001b[0m\n\u001b[1;32m      1\u001b[0m \u001b[0mpred\u001b[0m \u001b[0;34m=\u001b[0m \u001b[0mmodel2\u001b[0m\u001b[0;34m.\u001b[0m\u001b[0mpredict\u001b[0m\u001b[0;34m(\u001b[0m\u001b[0mstart\u001b[0m\u001b[0;34m=\u001b[0m\u001b[0mlen\u001b[0m\u001b[0;34m(\u001b[0m\u001b[0mndata\u001b[0m\u001b[0;34m)\u001b[0m\u001b[0;34m,\u001b[0m\u001b[0mend\u001b[0m\u001b[0;34m=\u001b[0m\u001b[0mlen\u001b[0m\u001b[0;34m(\u001b[0m\u001b[0mndata\u001b[0m\u001b[0;34m)\u001b[0m\u001b[0;34m+\u001b[0m\u001b[0;36m29\u001b[0m\u001b[0;34m,\u001b[0m\u001b[0mtypes\u001b[0m\u001b[0;34m=\u001b[0m\u001b[0;34m\"levels\"\u001b[0m\u001b[0;34m)\u001b[0m\u001b[0;34m.\u001b[0m\u001b[0mrename\u001b[0m\u001b[0;34m(\u001b[0m\u001b[0;34m\"Arima Prediction\"\u001b[0m\u001b[0;34m)\u001b[0m\u001b[0;34m\u001b[0m\u001b[0;34m\u001b[0m\u001b[0m\n\u001b[0;32m----> 2\u001b[0;31m \u001b[0mpred\u001b[0m\u001b[0;34m.\u001b[0m\u001b[0mindex\u001b[0m \u001b[0;34m=\u001b[0m \u001b[0mfuture_dates\u001b[0m\u001b[0;34m\u001b[0m\u001b[0;34m\u001b[0m\u001b[0m\n\u001b[0m\u001b[1;32m      3\u001b[0m \u001b[0mpred\u001b[0m\u001b[0;34m\u001b[0m\u001b[0;34m\u001b[0m\u001b[0m\n",
            "\u001b[0;32m/usr/local/lib/python3.10/dist-packages/pandas/core/generic.py\u001b[0m in \u001b[0;36m__setattr__\u001b[0;34m(self, name, value)\u001b[0m\n\u001b[1;32m   5913\u001b[0m         \u001b[0;32mtry\u001b[0m\u001b[0;34m:\u001b[0m\u001b[0;34m\u001b[0m\u001b[0;34m\u001b[0m\u001b[0m\n\u001b[1;32m   5914\u001b[0m             \u001b[0mobject\u001b[0m\u001b[0;34m.\u001b[0m\u001b[0m__getattribute__\u001b[0m\u001b[0;34m(\u001b[0m\u001b[0mself\u001b[0m\u001b[0;34m,\u001b[0m \u001b[0mname\u001b[0m\u001b[0;34m)\u001b[0m\u001b[0;34m\u001b[0m\u001b[0;34m\u001b[0m\u001b[0m\n\u001b[0;32m-> 5915\u001b[0;31m             \u001b[0;32mreturn\u001b[0m \u001b[0mobject\u001b[0m\u001b[0;34m.\u001b[0m\u001b[0m__setattr__\u001b[0m\u001b[0;34m(\u001b[0m\u001b[0mself\u001b[0m\u001b[0;34m,\u001b[0m \u001b[0mname\u001b[0m\u001b[0;34m,\u001b[0m \u001b[0mvalue\u001b[0m\u001b[0;34m)\u001b[0m\u001b[0;34m\u001b[0m\u001b[0;34m\u001b[0m\u001b[0m\n\u001b[0m\u001b[1;32m   5916\u001b[0m         \u001b[0;32mexcept\u001b[0m \u001b[0mAttributeError\u001b[0m\u001b[0;34m:\u001b[0m\u001b[0;34m\u001b[0m\u001b[0;34m\u001b[0m\u001b[0m\n\u001b[1;32m   5917\u001b[0m             \u001b[0;32mpass\u001b[0m\u001b[0;34m\u001b[0m\u001b[0;34m\u001b[0m\u001b[0m\n",
            "\u001b[0;32m/usr/local/lib/python3.10/dist-packages/pandas/_libs/properties.pyx\u001b[0m in \u001b[0;36mpandas._libs.properties.AxisProperty.__set__\u001b[0;34m()\u001b[0m\n",
            "\u001b[0;32m/usr/local/lib/python3.10/dist-packages/pandas/core/series.py\u001b[0m in \u001b[0;36m_set_axis\u001b[0;34m(self, axis, labels)\u001b[0m\n\u001b[1;32m    591\u001b[0m \u001b[0;34m\u001b[0m\u001b[0m\n\u001b[1;32m    592\u001b[0m         \u001b[0;31m# The ensure_index call above ensures we have an Index object\u001b[0m\u001b[0;34m\u001b[0m\u001b[0;34m\u001b[0m\u001b[0m\n\u001b[0;32m--> 593\u001b[0;31m         \u001b[0mself\u001b[0m\u001b[0;34m.\u001b[0m\u001b[0m_mgr\u001b[0m\u001b[0;34m.\u001b[0m\u001b[0mset_axis\u001b[0m\u001b[0;34m(\u001b[0m\u001b[0maxis\u001b[0m\u001b[0;34m,\u001b[0m \u001b[0mlabels\u001b[0m\u001b[0;34m)\u001b[0m\u001b[0;34m\u001b[0m\u001b[0;34m\u001b[0m\u001b[0m\n\u001b[0m\u001b[1;32m    594\u001b[0m \u001b[0;34m\u001b[0m\u001b[0m\n\u001b[1;32m    595\u001b[0m     \u001b[0;31m# ndarray compatibility\u001b[0m\u001b[0;34m\u001b[0m\u001b[0;34m\u001b[0m\u001b[0m\n",
            "\u001b[0;32m/usr/local/lib/python3.10/dist-packages/pandas/core/internals/managers.py\u001b[0m in \u001b[0;36mset_axis\u001b[0;34m(self, axis, new_labels)\u001b[0m\n\u001b[1;32m    228\u001b[0m     \u001b[0;32mdef\u001b[0m \u001b[0mset_axis\u001b[0m\u001b[0;34m(\u001b[0m\u001b[0mself\u001b[0m\u001b[0;34m,\u001b[0m \u001b[0maxis\u001b[0m\u001b[0;34m:\u001b[0m \u001b[0mint\u001b[0m\u001b[0;34m,\u001b[0m \u001b[0mnew_labels\u001b[0m\u001b[0;34m:\u001b[0m \u001b[0mIndex\u001b[0m\u001b[0;34m)\u001b[0m \u001b[0;34m->\u001b[0m \u001b[0;32mNone\u001b[0m\u001b[0;34m:\u001b[0m\u001b[0;34m\u001b[0m\u001b[0;34m\u001b[0m\u001b[0m\n\u001b[1;32m    229\u001b[0m         \u001b[0;31m# Caller is responsible for ensuring we have an Index object.\u001b[0m\u001b[0;34m\u001b[0m\u001b[0;34m\u001b[0m\u001b[0m\n\u001b[0;32m--> 230\u001b[0;31m         \u001b[0mself\u001b[0m\u001b[0;34m.\u001b[0m\u001b[0m_validate_set_axis\u001b[0m\u001b[0;34m(\u001b[0m\u001b[0maxis\u001b[0m\u001b[0;34m,\u001b[0m \u001b[0mnew_labels\u001b[0m\u001b[0;34m)\u001b[0m\u001b[0;34m\u001b[0m\u001b[0;34m\u001b[0m\u001b[0m\n\u001b[0m\u001b[1;32m    231\u001b[0m         \u001b[0mself\u001b[0m\u001b[0;34m.\u001b[0m\u001b[0maxes\u001b[0m\u001b[0;34m[\u001b[0m\u001b[0maxis\u001b[0m\u001b[0;34m]\u001b[0m \u001b[0;34m=\u001b[0m \u001b[0mnew_labels\u001b[0m\u001b[0;34m\u001b[0m\u001b[0;34m\u001b[0m\u001b[0m\n\u001b[1;32m    232\u001b[0m \u001b[0;34m\u001b[0m\u001b[0m\n",
            "\u001b[0;32m/usr/local/lib/python3.10/dist-packages/pandas/core/internals/base.py\u001b[0m in \u001b[0;36m_validate_set_axis\u001b[0;34m(self, axis, new_labels)\u001b[0m\n\u001b[1;32m     68\u001b[0m \u001b[0;34m\u001b[0m\u001b[0m\n\u001b[1;32m     69\u001b[0m         \u001b[0;32melif\u001b[0m \u001b[0mnew_len\u001b[0m \u001b[0;34m!=\u001b[0m \u001b[0mold_len\u001b[0m\u001b[0;34m:\u001b[0m\u001b[0;34m\u001b[0m\u001b[0;34m\u001b[0m\u001b[0m\n\u001b[0;32m---> 70\u001b[0;31m             raise ValueError(\n\u001b[0m\u001b[1;32m     71\u001b[0m                 \u001b[0;34mf\"Length mismatch: Expected axis has {old_len} elements, new \"\u001b[0m\u001b[0;34m\u001b[0m\u001b[0;34m\u001b[0m\u001b[0m\n\u001b[1;32m     72\u001b[0m                 \u001b[0;34mf\"values have {new_len} elements\"\u001b[0m\u001b[0;34m\u001b[0m\u001b[0;34m\u001b[0m\u001b[0m\n",
            "\u001b[0;31mValueError\u001b[0m: Length mismatch: Expected axis has 30 elements, new values have 146 elements"
          ]
        }
      ]
    },
    {
      "cell_type": "code",
      "source": [
        "import pandas as pd\n",
        "import matplotlib.pyplot as plt\n",
        "from statsmodels.tsa.arima.model import ARIMA\n",
        "from sklearn.metrics import mean_squared_error\n",
        "\n",
        "# Step 1: Prepare the data\n",
        "# Assuming you have the data stored in a DataFrame called \"data\" with columns \"Date\" and \"Max Temperature\"\n",
        "# Make sure the \"Date\" column is set as the index of the DataFrame and convert it to datetime format\n",
        "data = pd.read_csv(\"/content/final.csv\")\n",
        "data['Date'] = pd.to_datetime(data['DATE'])\n",
        "data.set_index('Date', inplace=True)\n",
        "\n",
        "# Step 2: Split the data into training and testing sets\n",
        "train_data = data['Maxtemperature'].loc[:'2023-04-30']\n",
        "test_data = data['Maxtemperature'].loc['2023-05-01':'2023-05-31']\n",
        "\n",
        "# Step 3: Fit the ARIMA model on the training data\n",
        "model = ARIMA(train_data, order=(1, 1, 1))  # Example order, you can tune it\n",
        "model_fit = model.fit()\n",
        "\n",
        "# Step 4: Generate the forecast for the month of May\n",
        "forecast_start = len(train_data)\n",
        "forecast_end = len(train_data) + len(test_data) - 1\n",
        "forecast = model_fit.predict(start=forecast_start, end=forecast_end)\n",
        "\n",
        "# Step 5: Compare the actual versus predicted values\n",
        "actual = test_data.values\n",
        "predicted = forecast.values\n",
        "\n",
        "# Step 6: Calculate the error (root mean squared error)\n",
        "rmse = mean_squared_error(actual, predicted, squared=False)\n",
        "\n",
        "# Step 7: Plot the actual and predicted values\n",
        "plt.plot(actual, label='Actual')\n",
        "plt.plot(predicted, label='Predicted')\n",
        "plt.xlabel('Date')\n",
        "plt.ylabel('Max Temperature')\n",
        "plt.title('Actual vs Predicted Max Temperature')\n",
        "plt.legend()\n",
        "plt.show()\n",
        "\n",
        "# Step 8: Update the model using the entire dataset\n",
        "model_final = ARIMA(data['Maxtemperature'], order=(2, 1, 1))  # Example order, you can tune it\n",
        "model_final_fit = model_final.fit()\n",
        "\n",
        "# Step 9: Generate the forecast for the month of June\n",
        "june_start = pd.to_datetime('01/06/2023', format='%d/%m/%Y')\n",
        "june_end = pd.to_datetime('30/06/2023', format='%d/%m/%Y')\n",
        "june_range = pd.date_range(start=june_start, end=june_end, freq='D')\n",
        "june_forecast = model_final_fit.forecast(steps=len(june_range))\n",
        "\n",
        "# Step 10: Print the predicted dates and corresponding maximum temperatures for June\n",
        "for date, temp in zip(june_range, june_forecast):\n",
        "    print(f\"Date: {date.strftime('%d/%m/%Y')}, Max Temperature: {temp}\")\n"
      ],
      "metadata": {
        "colab": {
          "base_uri": "https://localhost:8080/",
          "height": 1000
        },
        "id": "KJdkzFVTmdL5",
        "outputId": "fbf83b76-e819-4f3f-8dde-0991f860ca24"
      },
      "execution_count": 83,
      "outputs": [
        {
          "output_type": "stream",
          "name": "stderr",
          "text": [
            "<ipython-input-83-8dca766f3504>:10: UserWarning: Parsing dates in DD/MM/YYYY format when dayfirst=False (the default) was specified. This may lead to inconsistently parsed dates! Specify a format to ensure consistent parsing.\n",
            "  data['Date'] = pd.to_datetime(data['DATE'])\n",
            "/usr/local/lib/python3.10/dist-packages/statsmodels/tsa/base/tsa_model.py:471: ValueWarning: A date index has been provided, but it has no associated frequency information and so will be ignored when e.g. forecasting.\n",
            "  self._init_dates(dates, freq)\n",
            "/usr/local/lib/python3.10/dist-packages/statsmodels/tsa/base/tsa_model.py:471: ValueWarning: A date index has been provided, but it is not monotonic and so will be ignored when e.g. forecasting.\n",
            "  self._init_dates(dates, freq)\n",
            "/usr/local/lib/python3.10/dist-packages/statsmodels/tsa/base/tsa_model.py:471: ValueWarning: A date index has been provided, but it has no associated frequency information and so will be ignored when e.g. forecasting.\n",
            "  self._init_dates(dates, freq)\n",
            "/usr/local/lib/python3.10/dist-packages/statsmodels/tsa/base/tsa_model.py:471: ValueWarning: A date index has been provided, but it is not monotonic and so will be ignored when e.g. forecasting.\n",
            "  self._init_dates(dates, freq)\n",
            "/usr/local/lib/python3.10/dist-packages/statsmodels/tsa/base/tsa_model.py:471: ValueWarning: A date index has been provided, but it has no associated frequency information and so will be ignored when e.g. forecasting.\n",
            "  self._init_dates(dates, freq)\n",
            "/usr/local/lib/python3.10/dist-packages/statsmodels/tsa/base/tsa_model.py:471: ValueWarning: A date index has been provided, but it is not monotonic and so will be ignored when e.g. forecasting.\n",
            "  self._init_dates(dates, freq)\n",
            "/usr/local/lib/python3.10/dist-packages/statsmodels/tsa/base/tsa_model.py:834: ValueWarning: No supported index is available. Prediction results will be given with an integer index beginning at `start`.\n",
            "  return get_prediction_index(\n"
          ]
        },
        {
          "output_type": "display_data",
          "data": {
            "text/plain": [
              "<Figure size 640x480 with 1 Axes>"
            ],
            "image/png": "[encoded data removed]"
          },
          "metadata": {}
        },
        {
          "output_type": "stream",
          "name": "stderr",
          "text": [
            "/usr/local/lib/python3.10/dist-packages/statsmodels/tsa/base/tsa_model.py:471: ValueWarning: A date index has been provided, but it has no associated frequency information and so will be ignored when e.g. forecasting.\n",
            "  self._init_dates(dates, freq)\n",
            "/usr/local/lib/python3.10/dist-packages/statsmodels/tsa/base/tsa_model.py:471: ValueWarning: A date index has been provided, but it is not monotonic and so will be ignored when e.g. forecasting.\n",
            "  self._init_dates(dates, freq)\n",
            "/usr/local/lib/python3.10/dist-packages/statsmodels/tsa/base/tsa_model.py:471: ValueWarning: A date index has been provided, but it has no associated frequency information and so will be ignored when e.g. forecasting.\n",
            "  self._init_dates(dates, freq)\n",
            "/usr/local/lib/python3.10/dist-packages/statsmodels/tsa/base/tsa_model.py:471: ValueWarning: A date index has been provided, but it is not monotonic and so will be ignored when e.g. forecasting.\n",
            "  self._init_dates(dates, freq)\n",
            "/usr/local/lib/python3.10/dist-packages/statsmodels/tsa/base/tsa_model.py:471: ValueWarning: A date index has been provided, but it has no associated frequency information and so will be ignored when e.g. forecasting.\n",
            "  self._init_dates(dates, freq)\n",
            "/usr/local/lib/python3.10/dist-packages/statsmodels/tsa/base/tsa_model.py:471: ValueWarning: A date index has been provided, but it is not monotonic and so will be ignored when e.g. forecasting.\n",
            "  self._init_dates(dates, freq)\n"
          ]
        },
        {
          "output_type": "stream",
          "name": "stdout",
          "text": [
            "Date: 01/06/2023, Max Temperature: 30.477790371458532\n",
            "Date: 02/06/2023, Max Temperature: 30.477790371458532\n",
            "Date: 03/06/2023, Max Temperature: 30.477790371458532\n",
            "Date: 04/06/2023, Max Temperature: 30.477790371458532\n",
            "Date: 05/06/2023, Max Temperature: 30.477790371458532\n",
            "Date: 06/06/2023, Max Temperature: 30.477790371458532\n",
            "Date: 07/06/2023, Max Temperature: 30.477790371458532\n",
            "Date: 08/06/2023, Max Temperature: 30.477790371458532\n",
            "Date: 09/06/2023, Max Temperature: 30.477790371458532\n",
            "Date: 10/06/2023, Max Temperature: 30.477790371458532\n",
            "Date: 11/06/2023, Max Temperature: 30.477790371458532\n",
            "Date: 12/06/2023, Max Temperature: 30.477790371458532\n",
            "Date: 13/06/2023, Max Temperature: 30.477790371458532\n",
            "Date: 14/06/2023, Max Temperature: 30.477790371458532\n",
            "Date: 15/06/2023, Max Temperature: 30.477790371458532\n",
            "Date: 16/06/2023, Max Temperature: 30.477790371458532\n",
            "Date: 17/06/2023, Max Temperature: 30.477790371458532\n",
            "Date: 18/06/2023, Max Temperature: 30.477790371458532\n",
            "Date: 19/06/2023, Max Temperature: 30.477790371458532\n",
            "Date: 20/06/2023, Max Temperature: 30.477790371458532\n",
            "Date: 21/06/2023, Max Temperature: 30.477790371458532\n",
            "Date: 22/06/2023, Max Temperature: 30.477790371458532\n",
            "Date: 23/06/2023, Max Temperature: 30.477790371458532\n",
            "Date: 24/06/2023, Max Temperature: 30.477790371458532\n",
            "Date: 25/06/2023, Max Temperature: 30.477790371458532\n",
            "Date: 26/06/2023, Max Temperature: 30.477790371458532\n",
            "Date: 27/06/2023, Max Temperature: 30.477790371458532\n",
            "Date: 28/06/2023, Max Temperature: 30.477790371458532\n",
            "Date: 29/06/2023, Max Temperature: 30.477790371458532\n",
            "Date: 30/06/2023, Max Temperature: 30.477790371458532\n"
          ]
        },
        {
          "output_type": "stream",
          "name": "stderr",
          "text": [
            "/usr/local/lib/python3.10/dist-packages/statsmodels/tsa/base/tsa_model.py:834: ValueWarning: No supported index is available. Prediction results will be given with an integer index beginning at `start`.\n",
            "  return get_prediction_index(\n"
          ]
        }
      ]
    },
    {
      "cell_type": "code",
      "source": [
        "import pandas as pd\n",
        "import matplotlib.pyplot as plt\n",
        "from statsmodels.tsa.statespace.sarimax import SARIMAX\n",
        "from sklearn.metrics import mean_squared_error\n",
        "\n",
        "# Step 1: Prepare the data\n",
        "# Assuming you have the data stored in a DataFrame called \"data\" with columns \"Date\" and \"Max Temperature\"\n",
        "# Make sure the \"Date\" column is set as the index of the DataFrame and convert it to datetime format\n",
        "\n",
        "data['Date'] = pd.to_datetime(data['DATE'])\n",
        "data.set_index('Date', inplace=True)\n",
        "\n",
        "# Step 2: Split the data into training and testing sets\n",
        "train_data = data['Maxtemperature'].loc[:'2023-04-30']\n",
        "test_data = data['Maxtemperature'].loc['2023-05-01':'2023-05-31']\n",
        "\n",
        "# Step 3: Fit the SARIMA model on the training data\n",
        "model = SARIMAX(train_data, order=(1, 1, 1), seasonal_order=(0, 1, 0, 7)) # Example orders, you can tune them\n",
        "model_fit = model.fit()\n",
        "\n",
        "# Step 4: Generate the forecast for the month of May\n",
        "forecast_start = len(train_data)\n",
        "forecast_end = len(train_data) + len(test_data) - 1\n",
        "forecast = model_fit.predict(start=forecast_start, end=forecast_end)\n",
        "\n",
        "# Step 5: Compare the actual versus predicted values\n",
        "actual = test_data.values\n",
        "predicted = forecast.values\n",
        "\n",
        "# Step 6: Calculate the error (root mean squared error)\n",
        "rmse = mean_squared_error(actual, predicted, squared=False)\n",
        "\n",
        "# Step 7: Plot the actual and predicted values\n",
        "plt.plot(actual, label='Actual')\n",
        "plt.plot(predicted, label='Predicted')\n",
        "plt.xlabel('Date')\n",
        "plt.ylabel('Max Temperature')\n",
        "plt.title('Actual vs Predicted Max Temperature')\n",
        "plt.legend()\n",
        "plt.show()\n",
        "\n",
        "# Step 8: Update the model using the entire dataset\n",
        "model_final = SARIMAX(data['Maxtemperature'], order=(2, 1, 1), seasonal_order=(1, 1, 1, 12))  # Example orders, you can tune them\n",
        "model_final_fit = model_final.fit()\n",
        "\n",
        "# Step 9: Generate the forecast for the month of June\n",
        "june_start = pd.to_datetime('01/06/2023', format='%d/%m/%Y')\n",
        "june_end = pd.to_datetime('30/06/2023', format='%d/%m/%Y')\n",
        "june_range = pd.date_range(start=june_start, end=june_end, freq='D')\n",
        "june_forecast = model_final_fit.predict(start=len(data), end=len(data) + len(june_range) - 1)\n",
        "\n",
        "# Step 10: Print the predicted dates and corresponding maximum temperatures for June\n",
        "for date, temp in zip(june_range, june_forecast):\n",
        "    print(f\"Date: {date.strftime('%d/%m/%Y')}, MaxTemperature: {temp}\")\n"
      ],
      "metadata": {
        "colab": {
          "base_uri": "https://localhost:8080/",
          "height": 1000
        },
        "id": "WVHKO4qio5i0",
        "outputId": "f92f8c72-8f3a-4762-80c2-62915c68dd99"
      },
      "execution_count": 108,
      "outputs": [
        {
          "output_type": "stream",
          "name": "stderr",
          "text": [
            "<ipython-input-108-5b5e72a03e8d>:10: UserWarning: Parsing dates in DD/MM/YYYY format when dayfirst=False (the default) was specified. This may lead to inconsistently parsed dates! Specify a format to ensure consistent parsing.\n",
            "  data['Date'] = pd.to_datetime(data['DATE'])\n",
            "/usr/local/lib/python3.10/dist-packages/statsmodels/tsa/base/tsa_model.py:471: ValueWarning: A date index has been provided, but it has no associated frequency information and so will be ignored when e.g. forecasting.\n",
            "  self._init_dates(dates, freq)\n",
            "/usr/local/lib/python3.10/dist-packages/statsmodels/tsa/base/tsa_model.py:471: ValueWarning: A date index has been provided, but it is not monotonic and so will be ignored when e.g. forecasting.\n",
            "  self._init_dates(dates, freq)\n",
            "/usr/local/lib/python3.10/dist-packages/statsmodels/tsa/base/tsa_model.py:471: ValueWarning: A date index has been provided, but it has no associated frequency information and so will be ignored when e.g. forecasting.\n",
            "  self._init_dates(dates, freq)\n",
            "/usr/local/lib/python3.10/dist-packages/statsmodels/tsa/base/tsa_model.py:471: ValueWarning: A date index has been provided, but it is not monotonic and so will be ignored when e.g. forecasting.\n",
            "  self._init_dates(dates, freq)\n",
            "/usr/local/lib/python3.10/dist-packages/statsmodels/tsa/base/tsa_model.py:834: ValueWarning: No supported index is available. Prediction results will be given with an integer index beginning at `start`.\n",
            "  return get_prediction_index(\n"
          ]
        },
        {
          "output_type": "display_data",
          "data": {
            "text/plain": [
              "<Figure size 640x480 with 1 Axes>"
            ],
            "image/png": "[encoded data removed]"
          },
          "metadata": {}
        },
        {
          "output_type": "stream",
          "name": "stderr",
          "text": [
            "/usr/local/lib/python3.10/dist-packages/statsmodels/tsa/base/tsa_model.py:471: ValueWarning: A date index has been provided, but it has no associated frequency information and so will be ignored when e.g. forecasting.\n",
            "  self._init_dates(dates, freq)\n",
            "/usr/local/lib/python3.10/dist-packages/statsmodels/tsa/base/tsa_model.py:471: ValueWarning: A date index has been provided, but it is not monotonic and so will be ignored when e.g. forecasting.\n",
            "  self._init_dates(dates, freq)\n",
            "/usr/local/lib/python3.10/dist-packages/statsmodels/tsa/base/tsa_model.py:471: ValueWarning: A date index has been provided, but it has no associated frequency information and so will be ignored when e.g. forecasting.\n",
            "  self._init_dates(dates, freq)\n",
            "/usr/local/lib/python3.10/dist-packages/statsmodels/tsa/base/tsa_model.py:471: ValueWarning: A date index has been provided, but it is not monotonic and so will be ignored when e.g. forecasting.\n",
            "  self._init_dates(dates, freq)\n"
          ]
        },
        {
          "output_type": "stream",
          "name": "stdout",
          "text": [
            "Date: 01/06/2023, MaxTemperature: 30.303317018782476\n",
            "Date: 02/06/2023, MaxTemperature: 30.050938086675927\n",
            "Date: 03/06/2023, MaxTemperature: 29.703905609714592\n",
            "Date: 04/06/2023, MaxTemperature: 30.00910759801056\n",
            "Date: 05/06/2023, MaxTemperature: 30.130748463663746\n",
            "Date: 06/06/2023, MaxTemperature: 30.131110878307926\n",
            "Date: 07/06/2023, MaxTemperature: 30.017071074488335\n",
            "Date: 08/06/2023, MaxTemperature: 29.869521397188183\n",
            "Date: 09/06/2023, MaxTemperature: 29.856169326838657\n",
            "Date: 10/06/2023, MaxTemperature: 30.190392628849562\n",
            "Date: 11/06/2023, MaxTemperature: 30.527187033916533\n",
            "Date: 12/06/2023, MaxTemperature: 30.2687800890492\n",
            "Date: 13/06/2023, MaxTemperature: 30.296197666914505\n",
            "Date: 14/06/2023, MaxTemperature: 30.043818734807957\n",
            "Date: 15/06/2023, MaxTemperature: 29.69678625784662\n",
            "Date: 16/06/2023, MaxTemperature: 30.001988246142588\n",
            "Date: 17/06/2023, MaxTemperature: 30.123629111795776\n",
            "Date: 18/06/2023, MaxTemperature: 30.123991526439955\n",
            "Date: 19/06/2023, MaxTemperature: 30.009951722620364\n",
            "Date: 20/06/2023, MaxTemperature: 29.862402045320213\n",
            "Date: 21/06/2023, MaxTemperature: 29.849049974970686\n",
            "Date: 22/06/2023, MaxTemperature: 30.18327327698159\n",
            "Date: 23/06/2023, MaxTemperature: 30.520067682048563\n",
            "Date: 24/06/2023, MaxTemperature: 30.26166073718123\n",
            "Date: 25/06/2023, MaxTemperature: 30.289078315046535\n",
            "Date: 26/06/2023, MaxTemperature: 30.036699382939986\n",
            "Date: 27/06/2023, MaxTemperature: 29.68966690597865\n",
            "Date: 28/06/2023, MaxTemperature: 29.994868894274617\n",
            "Date: 29/06/2023, MaxTemperature: 30.116509759927805\n",
            "Date: 30/06/2023, MaxTemperature: 30.116872174571984\n"
          ]
        },
        {
          "output_type": "stream",
          "name": "stderr",
          "text": [
            "/usr/local/lib/python3.10/dist-packages/statsmodels/tsa/base/tsa_model.py:834: ValueWarning: No supported index is available. Prediction results will be given with an integer index beginning at `start`.\n",
            "  return get_prediction_index(\n"
          ]
        }
      ]
    },
    {
      "cell_type": "code",
      "source": [
        "predicted"
      ],
      "metadata": {
        "colab": {
          "base_uri": "https://localhost:8080/"
        },
        "id": "bnIK-xzN0H1x",
        "outputId": "56c6ce0a-f453-4017-af31-a18c4dd313f7"
      },
      "execution_count": 109,
      "outputs": [
        {
          "output_type": "execute_result",
          "data": {
            "text/plain": [
              "array([32.45023433, 31.41905709, 29.80212966, 29.95359657, 31.01348659,\n",
              "       33.03716711, 31.04653039, 32.50046696, 31.47075359, 29.85440496,\n",
              "       30.00610073, 31.06608125, 33.08979755, 31.09917497, 32.55311714,\n",
              "       31.52340598, 29.90705823, 30.05875435, 31.118735  , 33.14245135,\n",
              "       31.1518288 , 32.60577097, 31.57605982, 29.95971207])"
            ]
          },
          "metadata": {},
          "execution_count": 109
        }
      ]
    },
    {
      "cell_type": "code",
      "source": [
        "train_data.isnull().sum()\n",
        "train_data.fillna(method=\"ffill\",inplace=True)"
      ],
      "metadata": {
        "id": "vihhhWjA4-AD"
      },
      "execution_count": 112,
      "outputs": []
    },
    {
      "cell_type": "code",
      "source": [
        "train_data.isnull().sum()"
      ],
      "metadata": {
        "colab": {
          "base_uri": "https://localhost:8080/"
        },
        "id": "yVgVan8f7Nv9",
        "outputId": "55b65ba5-f616-4991-8cf6-7ae8c5bd09dd"
      },
      "execution_count": 113,
      "outputs": [
        {
          "output_type": "execute_result",
          "data": {
            "text/plain": [
              "0"
            ]
          },
          "metadata": {},
          "execution_count": 113
        }
      ]
    },
    {
      "cell_type": "code",
      "source": [
        "from pmdarima import auto_arima\n",
        "\n",
        "# Fit auto_arima to your data\n",
        "model = auto_arima(train_data, seasonal=True, m=7)\n",
        "\n",
        "# Print the best order parameters\n",
        "print(model.order)\n",
        "print(model.seasonal_order)\n"
      ],
      "metadata": {
        "colab": {
          "base_uri": "https://localhost:8080/"
        },
        "id": "VXGpurJH7R_r",
        "outputId": "07b59bce-7697-469d-8bd0-ffe38b241a2d"
      },
      "execution_count": 115,
      "outputs": [
        {
          "output_type": "stream",
          "name": "stdout",
          "text": [
            "(1, 1, 2)\n",
            "(1, 0, 0, 7)\n"
          ]
        }
      ]
    },
    {
      "cell_type": "code",
      "source": [
        "import pandas as pd\n",
        "import matplotlib.pyplot as plt\n",
        "from statsmodels.tsa.statespace.sarimax import SARIMAX\n",
        "from sklearn.metrics import mean_squared_error\n",
        "\n",
        "# Step 1: Prepare the data\n",
        "\n",
        "data['Date'] = pd.to_datetime(data['DATE'])\n",
        "data.set_index('Date', inplace=True)\n",
        "\n",
        "# Step 2: Split the data into training and testing sets\n",
        "train_data = data['Maxtemperature'].loc[:'2023-04-30']\n",
        "test_data = data['Maxtemperature'].loc['2023-05-01':'2023-05-31']\n",
        "\n",
        "# Step 3: Fit the SARIMA model on the training data\n",
        "model = SARIMAX(train_data, order=(1, 1, 2), seasonal_order=(1, 0, 0, 7)) # Example orders, you can tune them\n",
        "model_fit = model.fit()\n",
        "\n",
        "# Step 4: Generate the forecast for the month of May\n",
        "forecast_start = len(train_data)\n",
        "forecast_end = len(train_data) + len(test_data) - 1\n",
        "forecast = model_fit.predict(start=forecast_start, end=forecast_end)\n",
        "\n",
        "# Step 5: Compare the actual versus predicted values\n",
        "actual = test_data.values\n",
        "predicted = forecast.values\n",
        "\n",
        "# Step 6: Calculate the error (root mean squared error)\n",
        "rmse = mean_squared_error(actual, predicted, squared=False)\n",
        "\n",
        "# Step 7: Plot the actual and predicted values\n",
        "plt.plot(actual, label='Actual')\n",
        "plt.plot(predicted, label='Predicted')\n",
        "plt.xlabel('Date')\n",
        "plt.ylabel('Max Temperature')\n",
        "plt.title('Actual vs Predicted Max Temperature')\n",
        "plt.legend()\n",
        "plt.show()\n",
        "\n",
        "# Step 8: Update the model using the entire dataset\n",
        "model_final = SARIMAX(data['Maxtemperature'], order=(2, 1, 1), seasonal_order=(1, 1, 1, 12))  # Example orders, you can tune them\n",
        "model_final_fit = model_final.fit()\n",
        "\n",
        "# Step 9: Generate the forecast for the month of June\n",
        "june_start = pd.to_datetime('01/06/2023', format='%d/%m/%Y')\n",
        "june_end = pd.to_datetime('30/06/2023', format='%d/%m/%Y')\n",
        "june_range = pd.date_range(start=june_start, end=june_end, freq='D')\n",
        "june_forecast = model_final_fit.predict(start=len(data), end=len(data) + len(june_range) - 1)\n",
        "\n",
        "# Step 10: Print the predicted dates and corresponding maximum temperatures for June\n",
        "for date, temp in zip(june_range, june_forecast):\n",
        "    print(f\"Date: {date.strftime('%d/%m/%Y')}, MaxTemperature: {temp}\")\n"
      ],
      "metadata": {
        "colab": {
          "base_uri": "https://localhost:8080/",
          "height": 1000
        },
        "id": "V1sXiBMZ73Pq",
        "outputId": "4c2fab4f-938d-49a9-c000-5fef68de29bf"
      },
      "execution_count": 124,
      "outputs": [
        {
          "output_type": "stream",
          "name": "stderr",
          "text": [
            "<ipython-input-124-cb3ab60b46f9>:8: UserWarning: Parsing dates in DD/MM/YYYY format when dayfirst=False (the default) was specified. This may lead to inconsistently parsed dates! Specify a format to ensure consistent parsing.\n",
            "  data['Date'] = pd.to_datetime(data['DATE'])\n",
            "/usr/local/lib/python3.10/dist-packages/statsmodels/tsa/base/tsa_model.py:471: ValueWarning: A date index has been provided, but it has no associated frequency information and so will be ignored when e.g. forecasting.\n",
            "  self._init_dates(dates, freq)\n",
            "/usr/local/lib/python3.10/dist-packages/statsmodels/tsa/base/tsa_model.py:471: ValueWarning: A date index has been provided, but it is not monotonic and so will be ignored when e.g. forecasting.\n",
            "  self._init_dates(dates, freq)\n",
            "/usr/local/lib/python3.10/dist-packages/statsmodels/tsa/base/tsa_model.py:471: ValueWarning: A date index has been provided, but it has no associated frequency information and so will be ignored when e.g. forecasting.\n",
            "  self._init_dates(dates, freq)\n",
            "/usr/local/lib/python3.10/dist-packages/statsmodels/tsa/base/tsa_model.py:471: ValueWarning: A date index has been provided, but it is not monotonic and so will be ignored when e.g. forecasting.\n",
            "  self._init_dates(dates, freq)\n",
            "/usr/local/lib/python3.10/dist-packages/statsmodels/tsa/base/tsa_model.py:834: ValueWarning: No supported index is available. Prediction results will be given with an integer index beginning at `start`.\n",
            "  return get_prediction_index(\n"
          ]
        },
        {
          "output_type": "display_data",
          "data": {
            "text/plain": [
              "<Figure size 640x480 with 1 Axes>"
            ],
            "image/png": "[encoded data removed]"
          },
          "metadata": {}
        },
        {
          "output_type": "stream",
          "name": "stderr",
          "text": [
            "/usr/local/lib/python3.10/dist-packages/statsmodels/tsa/base/tsa_model.py:471: ValueWarning: A date index has been provided, but it has no associated frequency information and so will be ignored when e.g. forecasting.\n",
            "  self._init_dates(dates, freq)\n",
            "/usr/local/lib/python3.10/dist-packages/statsmodels/tsa/base/tsa_model.py:471: ValueWarning: A date index has been provided, but it is not monotonic and so will be ignored when e.g. forecasting.\n",
            "  self._init_dates(dates, freq)\n",
            "/usr/local/lib/python3.10/dist-packages/statsmodels/tsa/base/tsa_model.py:471: ValueWarning: A date index has been provided, but it has no associated frequency information and so will be ignored when e.g. forecasting.\n",
            "  self._init_dates(dates, freq)\n",
            "/usr/local/lib/python3.10/dist-packages/statsmodels/tsa/base/tsa_model.py:471: ValueWarning: A date index has been provided, but it is not monotonic and so will be ignored when e.g. forecasting.\n",
            "  self._init_dates(dates, freq)\n"
          ]
        },
        {
          "output_type": "stream",
          "name": "stdout",
          "text": [
            "Date: 01/06/2023, MaxTemperature: 30.303317018782476\n",
            "Date: 02/06/2023, MaxTemperature: 30.050938086675927\n",
            "Date: 03/06/2023, MaxTemperature: 29.703905609714592\n",
            "Date: 04/06/2023, MaxTemperature: 30.00910759801056\n",
            "Date: 05/06/2023, MaxTemperature: 30.130748463663746\n",
            "Date: 06/06/2023, MaxTemperature: 30.131110878307926\n",
            "Date: 07/06/2023, MaxTemperature: 30.017071074488335\n",
            "Date: 08/06/2023, MaxTemperature: 29.869521397188183\n",
            "Date: 09/06/2023, MaxTemperature: 29.856169326838657\n",
            "Date: 10/06/2023, MaxTemperature: 30.190392628849562\n",
            "Date: 11/06/2023, MaxTemperature: 30.527187033916533\n",
            "Date: 12/06/2023, MaxTemperature: 30.2687800890492\n",
            "Date: 13/06/2023, MaxTemperature: 30.296197666914505\n",
            "Date: 14/06/2023, MaxTemperature: 30.043818734807957\n",
            "Date: 15/06/2023, MaxTemperature: 29.69678625784662\n",
            "Date: 16/06/2023, MaxTemperature: 30.001988246142588\n",
            "Date: 17/06/2023, MaxTemperature: 30.123629111795776\n",
            "Date: 18/06/2023, MaxTemperature: 30.123991526439955\n",
            "Date: 19/06/2023, MaxTemperature: 30.009951722620364\n",
            "Date: 20/06/2023, MaxTemperature: 29.862402045320213\n",
            "Date: 21/06/2023, MaxTemperature: 29.849049974970686\n",
            "Date: 22/06/2023, MaxTemperature: 30.18327327698159\n",
            "Date: 23/06/2023, MaxTemperature: 30.520067682048563\n",
            "Date: 24/06/2023, MaxTemperature: 30.26166073718123\n",
            "Date: 25/06/2023, MaxTemperature: 30.289078315046535\n",
            "Date: 26/06/2023, MaxTemperature: 30.036699382939986\n",
            "Date: 27/06/2023, MaxTemperature: 29.68966690597865\n",
            "Date: 28/06/2023, MaxTemperature: 29.994868894274617\n",
            "Date: 29/06/2023, MaxTemperature: 30.116509759927805\n",
            "Date: 30/06/2023, MaxTemperature: 30.116872174571984\n"
          ]
        },
        {
          "output_type": "stream",
          "name": "stderr",
          "text": [
            "/usr/local/lib/python3.10/dist-packages/statsmodels/tsa/base/tsa_model.py:834: ValueWarning: No supported index is available. Prediction results will be given with an integer index beginning at `start`.\n",
            "  return get_prediction_index(\n"
          ]
        }
      ]
    },
    {
      "cell_type": "code",
      "source": [
        "!pip install colabcode\n",
        "!pip install fastapi"
      ],
      "metadata": {
        "colab": {
          "base_uri": "https://localhost:8080/"
        },
        "id": "bAw7A8lAeezp",
        "outputId": "66b8516c-0801-4da4-f155-36315ceb2a35"
      },
      "execution_count": 125,
      "outputs": [
        {
          "output_type": "stream",
          "name": "stdout",
          "text": [
            "Looking in indexes: https://pypi.org/simple, https://us-python.pkg.dev/colab-wheels/public/simple/\n",
            "Collecting colabcode\n",
            "  Downloading colabcode-0.3.0-py3-none-any.whl (5.0 kB)\n",
            "Collecting pyngrok>=5.0.0 (from colabcode)\n",
            "  Downloading pyngrok-6.0.0.tar.gz (681 kB)\n",
            "\u001b[2K     \u001b[90m━━━━━━━━━━━━━━━━━━━━━━━━━━━━━━━━━━━━━━\u001b[0m \u001b[32m681.2/681.2 kB\u001b[0m \u001b[31m13.3 MB/s\u001b[0m eta \u001b[36m0:00:00\u001b[0m\n",
            "\u001b[?25h  Preparing metadata (setup.py) ... \u001b[?25l\u001b[?25hdone\n",
            "Collecting nest-asyncio==1.4.3 (from colabcode)\n",
            "  Downloading nest_asyncio-1.4.3-py3-none-any.whl (5.3 kB)\n",
            "Collecting uvicorn==0.13.1 (from colabcode)\n",
            "  Downloading uvicorn-0.13.1-py3-none-any.whl (45 kB)\n",
            "\u001b[2K     \u001b[90m━━━━━━━━━━━━━━━━━━━━━━━━━━━━━━━━━━━━━━━━\u001b[0m \u001b[32m45.5/45.5 kB\u001b[0m \u001b[31m5.0 MB/s\u001b[0m eta \u001b[36m0:00:00\u001b[0m\n",
            "\u001b[?25hCollecting jupyterlab==3.0.7 (from colabcode)\n",
            "  Downloading jupyterlab-3.0.7-py3-none-any.whl (8.3 MB)\n",
            "\u001b[2K     \u001b[90m━━━━━━━━━━━━━━━━━━━━━━━━━━━━━━━━━━━━━━━━\u001b[0m \u001b[32m8.3/8.3 MB\u001b[0m \u001b[31m48.3 MB/s\u001b[0m eta \u001b[36m0:00:00\u001b[0m\n",
            "\u001b[?25hRequirement already satisfied: ipython in /usr/local/lib/python3.10/dist-packages (from jupyterlab==3.0.7->colabcode) (7.34.0)\n",
            "Requirement already satisfied: packaging in /usr/local/lib/python3.10/dist-packages (from jupyterlab==3.0.7->colabcode) (23.1)\n",
            "Requirement already satisfied: tornado>=6.1.0 in /usr/local/lib/python3.10/dist-packages (from jupyterlab==3.0.7->colabcode) (6.3.1)\n",
            "Requirement already satisfied: jupyter-core in /usr/local/lib/python3.10/dist-packages (from jupyterlab==3.0.7->colabcode) (5.3.0)\n",
            "Collecting jupyterlab-server~=2.0 (from jupyterlab==3.0.7->colabcode)\n",
            "  Downloading jupyterlab_server-2.22.1-py3-none-any.whl (57 kB)\n",
            "\u001b[2K     \u001b[90m━━━━━━━━━━━━━━━━━━━━━━━━━━━━━━━━━━━━━━━━\u001b[0m \u001b[32m57.0/57.0 kB\u001b[0m \u001b[31m7.3 MB/s\u001b[0m eta \u001b[36m0:00:00\u001b[0m\n",
            "\u001b[?25hRequirement already satisfied: jupyter-server~=1.2 in /usr/local/lib/python3.10/dist-packages (from jupyterlab==3.0.7->colabcode) (1.24.0)\n",
            "Collecting nbclassic~=0.2 (from jupyterlab==3.0.7->colabcode)\n",
            "  Downloading nbclassic-0.5.6-py3-none-any.whl (10.0 MB)\n",
            "\u001b[2K     \u001b[90m━━━━━━━━━━━━━━━━━━━━━━━━━━━━━━━━━━━━━━━━\u001b[0m \u001b[32m10.0/10.0 MB\u001b[0m \u001b[31m61.3 MB/s\u001b[0m eta \u001b[36m0:00:00\u001b[0m\n",
            "\u001b[?25hRequirement already satisfied: jinja2>=2.10 in /usr/local/lib/python3.10/dist-packages (from jupyterlab==3.0.7->colabcode) (3.1.2)\n",
            "Collecting click==7.* (from uvicorn==0.13.1->colabcode)\n",
            "  Downloading click-7.1.2-py2.py3-none-any.whl (82 kB)\n",
            "\u001b[2K     \u001b[90m━━━━━━━━━━━━━━━━━━━━━━━━━━━━━━━━━━━━━━━━\u001b[0m \u001b[32m82.8/82.8 kB\u001b[0m \u001b[31m8.1 MB/s\u001b[0m eta \u001b[36m0:00:00\u001b[0m\n",
            "\u001b[?25hCollecting h11>=0.8 (from uvicorn==0.13.1->colabcode)\n",
            "  Downloading h11-0.14.0-py3-none-any.whl (58 kB)\n",
            "\u001b[2K     \u001b[90m━━━━━━━━━━━━━━━━━━━━━━━━━━━━━━━━━━━━━━━━\u001b[0m \u001b[32m58.3/58.3 kB\u001b[0m \u001b[31m7.1 MB/s\u001b[0m eta \u001b[36m0:00:00\u001b[0m\n",
            "\u001b[?25hRequirement already satisfied: PyYAML in /usr/local/lib/python3.10/dist-packages (from pyngrok>=5.0.0->colabcode) (6.0)\n",
            "Requirement already satisfied: MarkupSafe>=2.0 in /usr/local/lib/python3.10/dist-packages (from jinja2>=2.10->jupyterlab==3.0.7->colabcode) (2.1.2)\n",
            "Requirement already satisfied: anyio<4,>=3.1.0 in /usr/local/lib/python3.10/dist-packages (from jupyter-server~=1.2->jupyterlab==3.0.7->colabcode) (3.6.2)\n",
            "Requirement already satisfied: argon2-cffi in /usr/local/lib/python3.10/dist-packages (from jupyter-server~=1.2->jupyterlab==3.0.7->colabcode) (21.3.0)\n",
            "Requirement already satisfied: jupyter-client>=6.1.12 in /usr/local/lib/python3.10/dist-packages (from jupyter-server~=1.2->jupyterlab==3.0.7->colabcode) (6.1.12)\n",
            "Requirement already satisfied: nbconvert>=6.4.4 in /usr/local/lib/python3.10/dist-packages (from jupyter-server~=1.2->jupyterlab==3.0.7->colabcode) (6.5.4)\n",
            "Requirement already satisfied: nbformat>=5.2.0 in /usr/local/lib/python3.10/dist-packages (from jupyter-server~=1.2->jupyterlab==3.0.7->colabcode) (5.8.0)\n",
            "Requirement already satisfied: prometheus-client in /usr/local/lib/python3.10/dist-packages (from jupyter-server~=1.2->jupyterlab==3.0.7->colabcode) (0.16.0)\n",
            "Requirement already satisfied: pyzmq>=17 in /usr/local/lib/python3.10/dist-packages (from jupyter-server~=1.2->jupyterlab==3.0.7->colabcode) (23.2.1)\n",
            "Requirement already satisfied: Send2Trash in /usr/local/lib/python3.10/dist-packages (from jupyter-server~=1.2->jupyterlab==3.0.7->colabcode) (1.8.0)\n",
            "Requirement already satisfied: terminado>=0.8.3 in /usr/local/lib/python3.10/dist-packages (from jupyter-server~=1.2->jupyterlab==3.0.7->colabcode) (0.17.1)\n",
            "Requirement already satisfied: traitlets>=5.1 in /usr/local/lib/python3.10/dist-packages (from jupyter-server~=1.2->jupyterlab==3.0.7->colabcode) (5.7.1)\n",
            "Requirement already satisfied: websocket-client in /usr/local/lib/python3.10/dist-packages (from jupyter-server~=1.2->jupyterlab==3.0.7->colabcode) (1.5.1)\n",
            "Requirement already satisfied: platformdirs>=2.5 in /usr/local/lib/python3.10/dist-packages (from jupyter-core->jupyterlab==3.0.7->colabcode) (3.3.0)\n",
            "Requirement already satisfied: babel>=2.10 in /usr/local/lib/python3.10/dist-packages (from jupyterlab-server~=2.0->jupyterlab==3.0.7->colabcode) (2.12.1)\n",
            "Collecting json5>=0.9.0 (from jupyterlab-server~=2.0->jupyterlab==3.0.7->colabcode)\n",
            "  Downloading json5-0.9.14-py2.py3-none-any.whl (19 kB)\n",
            "Collecting jsonschema>=4.17.3 (from jupyterlab-server~=2.0->jupyterlab==3.0.7->colabcode)\n",
            "  Downloading jsonschema-4.17.3-py3-none-any.whl (90 kB)\n",
            "\u001b[2K     \u001b[90m━━━━━━━━━━━━━━━━━━━━━━━━━━━━━━━━━━━━━━━━\u001b[0m \u001b[32m90.4/90.4 kB\u001b[0m \u001b[31m10.2 MB/s\u001b[0m eta \u001b[36m0:00:00\u001b[0m\n",
            "\u001b[?25hCollecting requests>=2.28 (from jupyterlab-server~=2.0->jupyterlab==3.0.7->colabcode)\n",
            "  Downloading requests-2.31.0-py3-none-any.whl (62 kB)\n",
            "\u001b[2K     \u001b[90m━━━━━━━━━━━━━━━━━━━━━━━━━━━━━━━━━━━━━━━━\u001b[0m \u001b[32m62.6/62.6 kB\u001b[0m \u001b[31m6.4 MB/s\u001b[0m eta \u001b[36m0:00:00\u001b[0m\n",
            "\u001b[?25hRequirement already satisfied: ipython-genutils in /usr/local/lib/python3.10/dist-packages (from nbclassic~=0.2->jupyterlab==3.0.7->colabcode) (0.2.0)\n",
            "Collecting notebook-shim>=0.2.3 (from nbclassic~=0.2->jupyterlab==3.0.7->colabcode)\n",
            "  Downloading notebook_shim-0.2.3-py3-none-any.whl (13 kB)\n",
            "INFO: pip is looking at multiple versions of nbclassic to determine which version is compatible with other requirements. This could take a while.\n",
            "Collecting nbclassic~=0.2 (from jupyterlab==3.0.7->colabcode)\n",
            "  Downloading nbclassic-0.5.5-py3-none-any.whl (10.0 MB)\n",
            "\u001b[2K     \u001b[90m━━━━━━━━━━━━━━━━━━━━━━━━━━━━━━━━━━━━━━━━\u001b[0m \u001b[32m10.0/10.0 MB\u001b[0m \u001b[31m50.1 MB/s\u001b[0m eta \u001b[36m0:00:00\u001b[0m\n",
            "\u001b[?25h  Downloading nbclassic-0.5.4-py3-none-any.whl (10.0 MB)\n",
            "\u001b[2K     \u001b[90m━━━━━━━━━━━━━━━━━━━━━━━━━━━━━━━━━━━━━━━━\u001b[0m \u001b[32m10.0/10.0 MB\u001b[0m \u001b[31m59.8 MB/s\u001b[0m eta \u001b[36m0:00:00\u001b[0m\n",
            "\u001b[?25h  Downloading nbclassic-0.5.3-py3-none-any.whl (10.0 MB)\n",
            "\u001b[2K     \u001b[90m━━━━━━━━━━━━━━━━━━━━━━━━━━━━━━━━━━━━━━━━\u001b[0m \u001b[32m10.0/10.0 MB\u001b[0m \u001b[31m63.3 MB/s\u001b[0m eta \u001b[36m0:00:00\u001b[0m\n",
            "\u001b[?25h  Downloading nbclassic-0.5.2-py3-none-any.whl (10.0 MB)\n",
            "\u001b[2K     \u001b[90m━━━━━━━━━━━━━━━━━━━━━━━━━━━━━━━━━━━━━━━━\u001b[0m \u001b[32m10.0/10.0 MB\u001b[0m \u001b[31m40.5 MB/s\u001b[0m eta \u001b[36m0:00:00\u001b[0m\n",
            "\u001b[?25h  Downloading nbclassic-0.5.1-py3-none-any.whl (10.0 MB)\n",
            "\u001b[2K     \u001b[90m━━━━━━━━━━━━━━━━━━━━━━━━━━━━━━━━━━━━━━━━\u001b[0m \u001b[32m10.0/10.0 MB\u001b[0m \u001b[31m65.1 MB/s\u001b[0m eta \u001b[36m0:00:00\u001b[0m\n",
            "\u001b[?25h  Downloading nbclassic-0.4.8-py3-none-any.whl (9.8 MB)\n",
            "\u001b[2K     \u001b[90m━━━━━━━━━━━━━━━━━━━━━━━━━━━━━━━━━━━━━━━━\u001b[0m \u001b[32m9.8/9.8 MB\u001b[0m \u001b[31m55.7 MB/s\u001b[0m eta \u001b[36m0:00:00\u001b[0m\n",
            "\u001b[?25h  Downloading nbclassic-0.4.7-py3-none-any.whl (9.8 MB)\n",
            "\u001b[2K     \u001b[90m━━━━━━━━━━━━━━━━━━━━━━━━━━━━━━━━━━━━━━━━\u001b[0m \u001b[32m9.8/9.8 MB\u001b[0m \u001b[31m12.3 MB/s\u001b[0m eta \u001b[36m0:00:00\u001b[0m\n",
            "\u001b[?25hINFO: pip is looking at multiple versions of nbclassic to determine which version is compatible with other requirements. This could take a while.\n",
            "  Downloading nbclassic-0.4.6-py3-none-any.whl (9.8 MB)\n",
            "\u001b[2K     \u001b[90m━━━━━━━━━━━━━━━━━━━━━━━━━━━━━━━━━━━━━━━━\u001b[0m \u001b[32m9.8/9.8 MB\u001b[0m \u001b[31m10.8 MB/s\u001b[0m eta \u001b[36m0:00:00\u001b[0m\n",
            "\u001b[?25h  Downloading nbclassic-0.4.5-py3-none-any.whl (9.8 MB)\n",
            "\u001b[2K     \u001b[90m━━━━━━━━━━━━━━━━━━━━━━━━━━━━━━━━━━━━━━━━\u001b[0m \u001b[32m9.8/9.8 MB\u001b[0m \u001b[31m47.7 MB/s\u001b[0m eta \u001b[36m0:00:00\u001b[0m\n",
            "\u001b[?25h  Downloading nbclassic-0.4.4-py3-none-any.whl (9.8 MB)\n",
            "\u001b[2K     \u001b[90m━━━━━━━━━━━━━━━━━━━━━━━━━━━━━━━━━━━━━━━━\u001b[0m \u001b[32m9.8/9.8 MB\u001b[0m \u001b[31m40.5 MB/s\u001b[0m eta \u001b[36m0:00:00\u001b[0m\n",
            "\u001b[?25h  Downloading nbclassic-0.4.3-py3-none-any.whl (9.7 MB)\n",
            "\u001b[2K     \u001b[90m━━━━━━━━━━━━━━━━━━━━━━━━━━━━━━━━━━━━━━━━\u001b[0m \u001b[32m9.7/9.7 MB\u001b[0m \u001b[31m46.2 MB/s\u001b[0m eta \u001b[36m0:00:00\u001b[0m\n",
            "\u001b[?25h  Downloading nbclassic-0.4.2-py3-none-any.whl (9.7 MB)\n",
            "\u001b[2K     \u001b[90m━━━━━━━━━━━━━━━━━━━━━━━━━━━━━━━━━━━━━━━━\u001b[0m \u001b[32m9.7/9.7 MB\u001b[0m \u001b[31m57.3 MB/s\u001b[0m eta \u001b[36m0:00:00\u001b[0m\n",
            "\u001b[?25hINFO: This is taking longer than usual. You might need to provide the dependency resolver with stricter constraints to reduce runtime. See https://pip.pypa.io/warnings/backtracking for guidance. If you want to abort this run, press Ctrl + C.\n",
            "  Downloading nbclassic-0.4.0-py3-none-any.whl (9.7 MB)\n",
            "\u001b[2K     \u001b[90m━━━━━━━━━━━━━━━━━━━━━━━━━━━━━━━━━━━━━━━━\u001b[0m \u001b[32m9.7/9.7 MB\u001b[0m \u001b[31m32.9 MB/s\u001b[0m eta \u001b[36m0:00:00\u001b[0m\n",
            "\u001b[?25h  Downloading nbclassic-0.3.7-py3-none-any.whl (13 kB)\n",
            "Requirement already satisfied: notebook<7 in /usr/local/lib/python3.10/dist-packages (from nbclassic~=0.2->jupyterlab==3.0.7->colabcode) (6.4.8)\n",
            "Requirement already satisfied: setuptools>=18.5 in /usr/local/lib/python3.10/dist-packages (from ipython->jupyterlab==3.0.7->colabcode) (67.7.2)\n",
            "Collecting jedi>=0.16 (from ipython->jupyterlab==3.0.7->colabcode)\n",
            "  Downloading jedi-0.18.2-py2.py3-none-any.whl (1.6 MB)\n",
            "\u001b[2K     \u001b[90m━━━━━━━━━━━━━━━━━━━━━━━━━━━━━━━━━━━━━━━━\u001b[0m \u001b[32m1.6/1.6 MB\u001b[0m \u001b[31m41.6 MB/s\u001b[0m eta \u001b[36m0:00:00\u001b[0m\n",
            "\u001b[?25hRequirement already satisfied: decorator in /usr/local/lib/python3.10/dist-packages (from ipython->jupyterlab==3.0.7->colabcode) (4.4.2)\n",
            "Requirement already satisfied: pickleshare in /usr/local/lib/python3.10/dist-packages (from ipython->jupyterlab==3.0.7->colabcode) (0.7.5)\n",
            "Requirement already satisfied: prompt-toolkit!=3.0.0,!=3.0.1,<3.1.0,>=2.0.0 in /usr/local/lib/python3.10/dist-packages (from ipython->jupyterlab==3.0.7->colabcode) (3.0.38)\n",
            "Requirement already satisfied: pygments in /usr/local/lib/python3.10/dist-packages (from ipython->jupyterlab==3.0.7->colabcode) (2.14.0)\n",
            "Requirement already satisfied: backcall in /usr/local/lib/python3.10/dist-packages (from ipython->jupyterlab==3.0.7->colabcode) (0.2.0)\n",
            "Requirement already satisfied: matplotlib-inline in /usr/local/lib/python3.10/dist-packages (from ipython->jupyterlab==3.0.7->colabcode) (0.1.6)\n",
            "Requirement already satisfied: pexpect>4.3 in /usr/local/lib/python3.10/dist-packages (from ipython->jupyterlab==3.0.7->colabcode) (4.8.0)\n",
            "Requirement already satisfied: idna>=2.8 in /usr/local/lib/python3.10/dist-packages (from anyio<4,>=3.1.0->jupyter-server~=1.2->jupyterlab==3.0.7->colabcode) (3.4)\n",
            "Requirement already satisfied: sniffio>=1.1 in /usr/local/lib/python3.10/dist-packages (from anyio<4,>=3.1.0->jupyter-server~=1.2->jupyterlab==3.0.7->colabcode) (1.3.0)\n",
            "Requirement already satisfied: parso<0.9.0,>=0.8.0 in /usr/local/lib/python3.10/dist-packages (from jedi>=0.16->ipython->jupyterlab==3.0.7->colabcode) (0.8.3)\n",
            "Requirement already satisfied: attrs>=17.4.0 in /usr/local/lib/python3.10/dist-packages (from jsonschema>=4.17.3->jupyterlab-server~=2.0->jupyterlab==3.0.7->colabcode) (23.1.0)\n",
            "Requirement already satisfied: pyrsistent!=0.17.0,!=0.17.1,!=0.17.2,>=0.14.0 in /usr/local/lib/python3.10/dist-packages (from jsonschema>=4.17.3->jupyterlab-server~=2.0->jupyterlab==3.0.7->colabcode) (0.19.3)\n",
            "Requirement already satisfied: python-dateutil>=2.1 in /usr/local/lib/python3.10/dist-packages (from jupyter-client>=6.1.12->jupyter-server~=1.2->jupyterlab==3.0.7->colabcode) (2.8.2)\n",
            "Requirement already satisfied: lxml in /usr/local/lib/python3.10/dist-packages (from nbconvert>=6.4.4->jupyter-server~=1.2->jupyterlab==3.0.7->colabcode) (4.9.2)\n",
            "Requirement already satisfied: beautifulsoup4 in /usr/local/lib/python3.10/dist-packages (from nbconvert>=6.4.4->jupyter-server~=1.2->jupyterlab==3.0.7->colabcode) (4.11.2)\n",
            "Requirement already satisfied: bleach in /usr/local/lib/python3.10/dist-packages (from nbconvert>=6.4.4->jupyter-server~=1.2->jupyterlab==3.0.7->colabcode) (6.0.0)\n",
            "Requirement already satisfied: defusedxml in /usr/local/lib/python3.10/dist-packages (from nbconvert>=6.4.4->jupyter-server~=1.2->jupyterlab==3.0.7->colabcode) (0.7.1)\n",
            "Requirement already satisfied: entrypoints>=0.2.2 in /usr/local/lib/python3.10/dist-packages (from nbconvert>=6.4.4->jupyter-server~=1.2->jupyterlab==3.0.7->colabcode) (0.4)\n",
            "Requirement already satisfied: jupyterlab-pygments in /usr/local/lib/python3.10/dist-packages (from nbconvert>=6.4.4->jupyter-server~=1.2->jupyterlab==3.0.7->colabcode) (0.2.2)\n",
            "Requirement already satisfied: mistune<2,>=0.8.1 in /usr/local/lib/python3.10/dist-packages (from nbconvert>=6.4.4->jupyter-server~=1.2->jupyterlab==3.0.7->colabcode) (0.8.4)\n",
            "Requirement already satisfied: nbclient>=0.5.0 in /usr/local/lib/python3.10/dist-packages (from nbconvert>=6.4.4->jupyter-server~=1.2->jupyterlab==3.0.7->colabcode) (0.7.4)\n",
            "Requirement already satisfied: pandocfilters>=1.4.1 in /usr/local/lib/python3.10/dist-packages (from nbconvert>=6.4.4->jupyter-server~=1.2->jupyterlab==3.0.7->colabcode) (1.5.0)\n",
            "Requirement already satisfied: tinycss2 in /usr/local/lib/python3.10/dist-packages (from nbconvert>=6.4.4->jupyter-server~=1.2->jupyterlab==3.0.7->colabcode) (1.2.1)\n",
            "Requirement already satisfied: fastjsonschema in /usr/local/lib/python3.10/dist-packages (from nbformat>=5.2.0->jupyter-server~=1.2->jupyterlab==3.0.7->colabcode) (2.16.3)\n",
            "INFO: pip is looking at multiple versions of notebook to determine which version is compatible with other requirements. This could take a while.\n",
            "Collecting notebook<7 (from nbclassic~=0.2->jupyterlab==3.0.7->colabcode)\n",
            "  Downloading notebook-6.5.4-py3-none-any.whl (529 kB)\n",
            "\u001b[2K     \u001b[90m━━━━━━━━━━━━━━━━━━━━━━━━━━━━━━━━━━━━━━\u001b[0m \u001b[32m529.8/529.8 kB\u001b[0m \u001b[31m33.0 MB/s\u001b[0m eta \u001b[36m0:00:00\u001b[0m\n",
            "\u001b[?25h  Downloading notebook-6.5.3-py3-none-any.whl (529 kB)\n",
            "\u001b[2K     \u001b[90m━━━━━━━━━━━━━━━━━━━━━━━━━━━━━━━━━━━━━━\u001b[0m \u001b[32m529.7/529.7 kB\u001b[0m \u001b[31m31.4 MB/s\u001b[0m eta \u001b[36m0:00:00\u001b[0m\n",
            "\u001b[?25h  Downloading notebook-6.5.2-py3-none-any.whl (439 kB)\n",
            "\u001b[2K     \u001b[90m━━━━━━━━━━━━━━━━━━━━━━━━━━━━━━━━━━━━━━\u001b[0m \u001b[32m439.1/439.1 kB\u001b[0m \u001b[31m32.7 MB/s\u001b[0m eta \u001b[36m0:00:00\u001b[0m\n",
            "\u001b[?25h  Downloading notebook-6.5.1-py3-none-any.whl (439 kB)\n",
            "\u001b[2K     \u001b[90m━━━━━━━━━━━━━━━━━━━━━━━━━━━━━━━━━━━━━━\u001b[0m \u001b[32m439.1/439.1 kB\u001b[0m \u001b[31m26.3 MB/s\u001b[0m eta \u001b[36m0:00:00\u001b[0m\n",
            "\u001b[?25h  Downloading notebook-6.4.12-py3-none-any.whl (9.9 MB)\n",
            "\u001b[2K     \u001b[90m━━━━━━━━━━━━━━━━━━━━━━━━━━━━━━━━━━━━━━━━\u001b[0m \u001b[32m9.9/9.9 MB\u001b[0m \u001b[31m36.2 MB/s\u001b[0m eta \u001b[36m0:00:00\u001b[0m\n",
            "\u001b[?25h  Downloading notebook-6.4.11-py3-none-any.whl (9.9 MB)\n",
            "\u001b[2K     \u001b[90m━━━━━━━━━━━━━━━━━━━━━━━━━━━━━━━━━━━━━━━━\u001b[0m \u001b[32m9.9/9.9 MB\u001b[0m \u001b[31m47.9 MB/s\u001b[0m eta \u001b[36m0:00:00\u001b[0m\n",
            "\u001b[?25h  Downloading notebook-6.4.10-py3-none-any.whl (9.9 MB)\n",
            "\u001b[2K     \u001b[90m━━━━━━━━━━━━━━━━━━━━━━━━━━━━━━━━━━━━━━━━\u001b[0m \u001b[32m9.9/9.9 MB\u001b[0m \u001b[31m15.1 MB/s\u001b[0m eta \u001b[36m0:00:00\u001b[0m\n",
            "\u001b[?25hINFO: pip is looking at multiple versions of notebook to determine which version is compatible with other requirements. This could take a while.\n",
            "  Downloading notebook-6.4.9-py3-none-any.whl (9.9 MB)\n",
            "\u001b[2K     \u001b[90m━━━━━━━━━━━━━━━━━━━━━━━━━━━━━━━━━━━━━━━━\u001b[0m \u001b[32m9.9/9.9 MB\u001b[0m \u001b[31m56.3 MB/s\u001b[0m eta \u001b[36m0:00:00\u001b[0m\n",
            "\u001b[?25h  Downloading notebook-6.4.7-py3-none-any.whl (9.9 MB)\n",
            "\u001b[2K     \u001b[90m━━━━━━━━━━━━━━━━━━━━━━━━━━━━━━━━━━━━━━━━\u001b[0m \u001b[32m9.9/9.9 MB\u001b[0m \u001b[31m63.2 MB/s\u001b[0m eta \u001b[36m0:00:00\u001b[0m\n",
            "\u001b[?25h  Downloading notebook-6.4.6-py3-none-any.whl (9.9 MB)\n",
            "\u001b[2K     \u001b[90m━━━━━━━━━━━━━━━━━━━━━━━━━━━━━━━━━━━━━━━━\u001b[0m \u001b[32m9.9/9.9 MB\u001b[0m \u001b[31m45.4 MB/s\u001b[0m eta \u001b[36m0:00:00\u001b[0m\n",
            "\u001b[?25h  Downloading notebook-6.4.5-py3-none-any.whl (9.9 MB)\n",
            "\u001b[2K     \u001b[90m━━━━━━━━━━━━━━━━━━━━━━━━━━━━━━━━━━━━━━━━\u001b[0m \u001b[32m9.9/9.9 MB\u001b[0m \u001b[31m39.2 MB/s\u001b[0m eta \u001b[36m0:00:00\u001b[0m\n",
            "\u001b[?25hRequirement already satisfied: ipykernel in /usr/local/lib/python3.10/dist-packages (from notebook<7->nbclassic~=0.2->jupyterlab==3.0.7->colabcode) (5.5.6)\n",
            "Requirement already satisfied: ptyprocess>=0.5 in /usr/local/lib/python3.10/dist-packages (from pexpect>4.3->ipython->jupyterlab==3.0.7->colabcode) (0.7.0)\n",
            "Requirement already satisfied: wcwidth in /usr/local/lib/python3.10/dist-packages (from prompt-toolkit!=3.0.0,!=3.0.1,<3.1.0,>=2.0.0->ipython->jupyterlab==3.0.7->colabcode) (0.2.6)\n",
            "Requirement already satisfied: charset-normalizer<4,>=2 in /usr/local/lib/python3.10/dist-packages (from requests>=2.28->jupyterlab-server~=2.0->jupyterlab==3.0.7->colabcode) (2.0.12)\n",
            "Requirement already satisfied: urllib3<3,>=1.21.1 in /usr/local/lib/python3.10/dist-packages (from requests>=2.28->jupyterlab-server~=2.0->jupyterlab==3.0.7->colabcode) (1.26.15)\n",
            "Requirement already satisfied: certifi>=2017.4.17 in /usr/local/lib/python3.10/dist-packages (from requests>=2.28->jupyterlab-server~=2.0->jupyterlab==3.0.7->colabcode) (2022.12.7)\n",
            "Requirement already satisfied: argon2-cffi-bindings in /usr/local/lib/python3.10/dist-packages (from argon2-cffi->jupyter-server~=1.2->jupyterlab==3.0.7->colabcode) (21.2.0)\n",
            "Requirement already satisfied: six>=1.5 in /usr/local/lib/python3.10/dist-packages (from python-dateutil>=2.1->jupyter-client>=6.1.12->jupyter-server~=1.2->jupyterlab==3.0.7->colabcode) (1.16.0)\n",
            "Requirement already satisfied: cffi>=1.0.1 in /usr/local/lib/python3.10/dist-packages (from argon2-cffi-bindings->argon2-cffi->jupyter-server~=1.2->jupyterlab==3.0.7->colabcode) (1.15.1)\n",
            "Requirement already satisfied: soupsieve>1.2 in /usr/local/lib/python3.10/dist-packages (from beautifulsoup4->nbconvert>=6.4.4->jupyter-server~=1.2->jupyterlab==3.0.7->colabcode) (2.4.1)\n",
            "Requirement already satisfied: webencodings in /usr/local/lib/python3.10/dist-packages (from bleach->nbconvert>=6.4.4->jupyter-server~=1.2->jupyterlab==3.0.7->colabcode) (0.5.1)\n",
            "Requirement already satisfied: pycparser in /usr/local/lib/python3.10/dist-packages (from cffi>=1.0.1->argon2-cffi-bindings->argon2-cffi->jupyter-server~=1.2->jupyterlab==3.0.7->colabcode) (2.21)\n",
            "Building wheels for collected packages: pyngrok\n",
            "  Building wheel for pyngrok (setup.py) ... \u001b[?25l\u001b[?25hdone\n",
            "  Created wheel for pyngrok: filename=pyngrok-6.0.0-py3-none-any.whl size=19867 sha256=7ccef7728059b467ad16469d6cc9fe409453f0a67a7046eceac68deca07cf46e\n",
            "  Stored in directory: /root/.cache/pip/wheels/5c/42/78/0c3d438d7f5730451a25f7ac6cbf4391759d22a67576ed7c2c\n",
            "Successfully built pyngrok\n",
            "Installing collected packages: json5, requests, pyngrok, nest-asyncio, jsonschema, jedi, h11, click, uvicorn, notebook, notebook-shim, jupyterlab-server, nbclassic, jupyterlab, colabcode\n",
            "  Attempting uninstall: requests\n",
            "    Found existing installation: requests 2.27.1\n",
            "    Uninstalling requests-2.27.1:\n",
            "      Successfully uninstalled requests-2.27.1\n",
            "  Attempting uninstall: nest-asyncio\n",
            "    Found existing installation: nest-asyncio 1.5.6\n",
            "    Uninstalling nest-asyncio-1.5.6:\n",
            "      Successfully uninstalled nest-asyncio-1.5.6\n",
            "  Attempting uninstall: jsonschema\n",
            "    Found existing installation: jsonschema 4.3.3\n",
            "    Uninstalling jsonschema-4.3.3:\n",
            "      Successfully uninstalled jsonschema-4.3.3\n",
            "  Attempting uninstall: click\n",
            "    Found existing installation: click 8.1.3\n",
            "    Uninstalling click-8.1.3:\n",
            "      Successfully uninstalled click-8.1.3\n",
            "  Attempting uninstall: notebook\n",
            "    Found existing installation: notebook 6.4.8\n",
            "    Uninstalling notebook-6.4.8:\n",
            "      Successfully uninstalled notebook-6.4.8\n",
            "\u001b[31mERROR: pip's dependency resolver does not currently take into account all the packages that are installed. This behaviour is the source of the following dependency conflicts.\n",
            "flask 2.2.4 requires click>=8.0, but you have click 7.1.2 which is incompatible.\n",
            "google-colab 1.0.0 requires notebook==6.4.8, but you have notebook 6.4.5 which is incompatible.\n",
            "google-colab 1.0.0 requires requests==2.27.1, but you have requests 2.31.0 which is incompatible.\n",
            "pip-tools 6.13.0 requires click>=8, but you have click 7.1.2 which is incompatible.\u001b[0m\u001b[31m\n",
            "\u001b[0mSuccessfully installed click-7.1.2 colabcode-0.3.0 h11-0.14.0 jedi-0.18.2 json5-0.9.14 jsonschema-4.17.3 jupyterlab-3.0.7 jupyterlab-server-2.22.1 nbclassic-0.3.7 nest-asyncio-1.4.3 notebook-6.4.5 notebook-shim-0.2.3 pyngrok-6.0.0 requests-2.31.0 uvicorn-0.13.1\n",
            "Looking in indexes: https://pypi.org/simple, https://us-python.pkg.dev/colab-wheels/public/simple/\n",
            "Collecting fastapi\n",
            "  Downloading fastapi-0.96.0-py3-none-any.whl (57 kB)\n",
            "\u001b[2K     \u001b[90m━━━━━━━━━━━━━━━━━━━━━━━━━━━━━━━━━━━━━━━━\u001b[0m \u001b[32m57.1/57.1 kB\u001b[0m \u001b[31m1.3 MB/s\u001b[0m eta \u001b[36m0:00:00\u001b[0m\n",
            "\u001b[?25hRequirement already satisfied: pydantic!=1.7,!=1.7.1,!=1.7.2,!=1.7.3,!=1.8,!=1.8.1,<2.0.0,>=1.6.2 in /usr/local/lib/python3.10/dist-packages (from fastapi) (1.10.7)\n",
            "Collecting starlette<0.28.0,>=0.27.0 (from fastapi)\n",
            "  Downloading starlette-0.27.0-py3-none-any.whl (66 kB)\n",
            "\u001b[2K     \u001b[90m━━━━━━━━━━━━━━━━━━━━━━━━━━━━━━━━━━━━━━━\u001b[0m \u001b[32m67.0/67.0 kB\u001b[0m \u001b[31m333.9 kB/s\u001b[0m eta \u001b[36m0:00:00\u001b[0m\n",
            "\u001b[?25hRequirement already satisfied: typing-extensions>=4.2.0 in /usr/local/lib/python3.10/dist-packages (from pydantic!=1.7,!=1.7.1,!=1.7.2,!=1.7.3,!=1.8,!=1.8.1,<2.0.0,>=1.6.2->fastapi) (4.5.0)\n",
            "Requirement already satisfied: anyio<5,>=3.4.0 in /usr/local/lib/python3.10/dist-packages (from starlette<0.28.0,>=0.27.0->fastapi) (3.6.2)\n",
            "Requirement already satisfied: idna>=2.8 in /usr/local/lib/python3.10/dist-packages (from anyio<5,>=3.4.0->starlette<0.28.0,>=0.27.0->fastapi) (3.4)\n",
            "Requirement already satisfied: sniffio>=1.1 in /usr/local/lib/python3.10/dist-packages (from anyio<5,>=3.4.0->starlette<0.28.0,>=0.27.0->fastapi) (1.3.0)\n",
            "Installing collected packages: starlette, fastapi\n",
            "Successfully installed fastapi-0.96.0 starlette-0.27.0\n"
          ]
        }
      ]
    },
    {
      "cell_type": "code",
      "source": [
        "from colabcode import ColabCode\n",
        "from fastapi import FastAPI"
      ],
      "metadata": {
        "id": "ls26Y3KLenlT"
      },
      "execution_count": 126,
      "outputs": []
    },
    {
      "cell_type": "code",
      "source": [
        "cc = ColabCode(port=12000, code=False)"
      ],
      "metadata": {
        "id": "9z7E2lIlerpQ"
      },
      "execution_count": 127,
      "outputs": []
    },
    {
      "cell_type": "code",
      "source": [
        "app =FastAPI()\n",
        "@app.get(\"karthik\")\n",
        "async def read_root():\n",
        "  return{\"message\":\"karthik colab\"}"
      ],
      "metadata": {
        "id": "0iE2qudRe2Ak"
      },
      "execution_count": 131,
      "outputs": []
    },
    {
      "cell_type": "code",
      "source": [
        "cc.run_app(app=app)"
      ],
      "metadata": {
        "colab": {
          "base_uri": "https://localhost:8080/"
        },
        "id": "uFgRJFyFfL1F",
        "outputId": "405cea9b-59f0-4c3f-dd30-351ded517025"
      },
      "execution_count": null,
      "outputs": [
        {
          "output_type": "stream",
          "name": "stdout",
          "text": []
        },
        {
          "output_type": "stream",
          "name": "stderr",
          "text": [
            "WARNING:pyngrok.process.ngrok:t=2023-06-06T11:34:56+0000 lvl=warn msg=\"ngrok config file found at legacy location, move to XDG location\" xdg_path=/root/.config/ngrok/ngrok.yml legacy_path=/root/.ngrok2/ngrok.yml\n",
            "INFO:     Started server process [877]\n",
            "INFO:uvicorn.error:Started server process [877]\n",
            "INFO:     Waiting for application startup.\n",
            "INFO:uvicorn.error:Waiting for application startup.\n",
            "INFO:     Application startup complete.\n",
            "INFO:uvicorn.error:Application startup complete.\n",
            "INFO:     Uvicorn running on http://127.0.0.1:12000 (Press CTRL+C to quit)\n",
            "INFO:uvicorn.error:Uvicorn running on http://127.0.0.1:12000 (Press CTRL+C to quit)\n"
          ]
        },
        {
          "output_type": "stream",
          "name": "stdout",
          "text": [
            "Public URL: NgrokTunnel: \"https://32f5-34-125-23-56.ngrok.io\" -> \"http://localhost:12000\"\n",
            "INFO:     2401:4900:1cbc:6f8a:ac60:917e:bf9c:1436:0 - \"GET / HTTP/1.1\" 404 Not Found\n",
            "INFO:     2401:4900:1cbc:6f8a:ac60:917e:bf9c:1436:0 - \"GET /favicon.ico HTTP/1.1\" 404 Not Found\n"
          ]
        }
      ]
    },
    {
      "cell_type": "code",
      "source": [],
      "metadata": {
        "id": "xdvkHsxIfY5x"
      },
      "execution_count": null,
      "outputs": []
    }
  ]
}